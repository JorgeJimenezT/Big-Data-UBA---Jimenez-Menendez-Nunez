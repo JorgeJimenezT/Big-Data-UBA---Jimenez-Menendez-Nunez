{
  "nbformat": 4,
  "nbformat_minor": 0,
  "metadata": {
    "colab": {
      "provenance": []
    },
    "kernelspec": {
      "name": "python3",
      "display_name": "Python 3"
    },
    "language_info": {
      "name": "python"
    }
  },
  "cells": [
    {
      "cell_type": "code",
      "source": [
        "pip install pyreadstat"
      ],
      "metadata": {
        "colab": {
          "base_uri": "https://localhost:8080/"
        },
        "id": "qRmtjmZCFaaD",
        "outputId": "2aae0529-a474-461d-b3ab-3ed77644347d"
      },
      "execution_count": 10,
      "outputs": [
        {
          "output_type": "stream",
          "name": "stdout",
          "text": [
            "Requirement already satisfied: pyreadstat in /usr/local/lib/python3.10/dist-packages (1.2.8)\n",
            "Requirement already satisfied: pandas>=1.2.0 in /usr/local/lib/python3.10/dist-packages (from pyreadstat) (2.2.2)\n",
            "Requirement already satisfied: numpy>=1.22.4 in /usr/local/lib/python3.10/dist-packages (from pandas>=1.2.0->pyreadstat) (1.26.4)\n",
            "Requirement already satisfied: python-dateutil>=2.8.2 in /usr/local/lib/python3.10/dist-packages (from pandas>=1.2.0->pyreadstat) (2.8.2)\n",
            "Requirement already satisfied: pytz>=2020.1 in /usr/local/lib/python3.10/dist-packages (from pandas>=1.2.0->pyreadstat) (2024.2)\n",
            "Requirement already satisfied: tzdata>=2022.7 in /usr/local/lib/python3.10/dist-packages (from pandas>=1.2.0->pyreadstat) (2024.2)\n",
            "Requirement already satisfied: six>=1.5 in /usr/local/lib/python3.10/dist-packages (from python-dateutil>=2.8.2->pandas>=1.2.0->pyreadstat) (1.16.0)\n"
          ]
        }
      ]
    },
    {
      "cell_type": "markdown",
      "source": [
        "##1.Exploren el diseño de registro de la base de hogar: a priori, ¿qué variables creen pueden ser predictivas de la desocupación y seria útil incluir para perfeccionar el ejercicio del TP3? Mencionen estas variables y justifiquen su elección.\n",
        "\n"
      ],
      "metadata": {
        "id": "nio437QKyHRu"
      }
    },
    {
      "cell_type": "markdown",
      "source": [
        "REGION (Región geográfica del hogar): Captura diferencias geográficas significativas en tasas de desempleo, relacionadas con el desarrollo económico local y acceso a oportunidades laborales.\n",
        "\n",
        "II7 (Tenencia de la vivienda): Refleja estabilidad económica del hogar. Hogares que alquilan pueden estar más presionados económicamente, mientras que aquellos que son propietarios pueden tener más estabilidad.\n",
        "\n",
        "CH03 (Relación de parentesco con el jefe de hogar): La relación con el jefe de hogar puede influir en la probabilidad de empleo o desempleo, ya que ciertos roles en la familia (como jefe o cónyuge) podrían tener mayores prioridades o responsabilidades económicas.\n",
        "\n",
        "IV12_3 (Ubicación en villa de emergencia): Refleja una condición de vulnerabilidad socioeconómica que puede limitar el acceso a oportunidades laborales y recursos.\n",
        "\n",
        "IV6 (Acceso al agua): El acceso al agua (por cañería, fuera del terreno, etc.) indica diferencias en las condiciones materiales del hogar, que podrían correlacionarse con el nivel de ingresos y empleo.\n",
        "\n",
        "IV11 (Desagüe del baño): El tipo de desagüe refleja el nivel de infraestructura y calidad de vida del hogar, indicadores que pueden influir en la estabilidad laboral.\n",
        "\n",
        "II8 (Tipo de combustible utilizado para cocinar): Hogares que utilizan gas de red tienen mejor infraestructura en comparación con aquellos que dependen de kerosene, leña o carbón, lo que puede relacionarse con el ingreso y empleo.\n",
        "\n",
        "CH12 (Nivel educativo más alto alcanzado): La educación es un factor determinante en el acceso al empleo. Los niveles educativos más altos (universitario o posgrado) están directamente relacionados con mejores oportunidades laborales y menores tasas de desempleo.\n",
        "\n",
        "ITF (Ingreso total familiar): Proporciona una medida global del ingreso familiar, relevante para evaluar la situación económica general del hogar y su relación con el empleo.\n",
        "\n",
        "IPCF (Ingreso per cápita familiar): Permite evaluar la disponibilidad de recursos económicos por persona en el hogar, siendo un indicador clave de bienestar económico y estabilidad."
      ],
      "metadata": {
        "id": "lGIaUbS63g3K"
      }
    },
    {
      "cell_type": "markdown",
      "source": [
        "##2.Descarguen la base de microdatos de la EPH correspondiente al primer trimestre de 2004 y 2024 en formato .dta y .xls, respectivamente. La base de hogares se llama Hogar_t104.dta y usu_hogar_T124.xls, respectivamente. Eliminen todas las observaciones que no corresponden a los aglomerados de Ciuidad Autónoma de Buenos Aires o Gran Buenos Aires y unan ambos trimestres en una sola base. Esto es, a la base de la encuesta individual de cada año (que usaron en el TP3) unan la base de la encuesta de hogar. Asegúrese de estar usando las variables CODUSU y NRO_Hogar para el merge.\n"
      ],
      "metadata": {
        "id": "8on2SJKY5RVg"
      }
    },
    {
      "cell_type": "code",
      "source": [
        "import pyreadstat\n",
        "import pandas as pd\n",
        "import requests\n",
        "\n",
        "# URLs de los archivos\n",
        "url_2004 = \"https://github.com/JorgeJimenezT/Big-Data-UBA---Jimenez-Menendez-Nunez/raw/main/TP4/Hogar_t104.dta\"\n",
        "url_2024 = \"https://github.com/JorgeJimenezT/Big-Data-UBA---Jimenez-Menendez-Nunez/raw/main/TP4/usu_hogar_T124.xlsx\"\n",
        "\n",
        "# Descargar y guardar los archivos localmente\n",
        "file_2004 = \"Hogar_t104.dta\"\n",
        "file_2024 = \"usu_hogar_T124.xlsx\"\n",
        "\n",
        "# Descargar archivo 2004\n",
        "response_2004 = requests.get(url_2004)\n",
        "with open(file_2004, \"wb\") as f:\n",
        "    f.write(response_2004.content)\n",
        "\n",
        "# Descargar archivo 2024\n",
        "response_2024 = requests.get(url_2024)\n",
        "with open(file_2024, \"wb\") as f:\n",
        "    f.write(response_2024.content)\n",
        "\n",
        "# Cargar las bases de hogares para 2004 y 2024 usando pyreadstat y pandas\n",
        "hogar_2004, meta_2004 = pyreadstat.read_dta(file_2004)\n",
        "hogar_2024 = pd.read_excel(file_2024)\n",
        "\n",
        "# Estandarizar los nombres de las columnas\n",
        "hogar_2004.columns = [col.upper() for col in hogar_2004.columns]\n",
        "hogar_2024.columns = [col.upper() for col in hogar_2024.columns]\n",
        "\n",
        "# URLs directas de los archivos en GitHub\n",
        "url_i_2004 = \"https://github.com/JorgeJimenezT/Big-Data-UBA---Jimenez-Menendez-Nunez/raw/refs/heads/main/TP3/Individual_t104.dta\"\n",
        "url_i_2024 = \"https://github.com/JorgeJimenezT/Big-Data-UBA---Jimenez-Menendez-Nunez/raw/refs/heads/main/TP3/usu_individual_T124.xlsx\"\n",
        "\n",
        "# Leer los archivos directamente desde GitHub\n",
        "individual_2004 = pd.read_stata(url_i_2004)\n",
        "individual_2024 = pd.read_excel(url_i_2024)\n",
        "\n",
        "# Estandarizar los nombres de las columnas en los DataFrames individuales\n",
        "individual_2004.columns = [col.upper() for col in individual_2004.columns]\n",
        "individual_2024.columns = [col.upper() for col in individual_2024.columns]\n",
        "\n",
        "individual_2004['YEAR'] = 2004\n",
        "individual_2024['YEAR'] = 2024\n",
        "\n",
        "hogar_2004['YEAR'] = 2004\n",
        "hogar_2024['YEAR'] = 2024\n",
        "\n"
      ],
      "metadata": {
        "id": "RLZNOe6OBK66"
      },
      "execution_count": 89,
      "outputs": []
    },
    {
      "cell_type": "code",
      "source": [
        "import pyreadstat\n",
        "import pandas as pd\n",
        "import requests\n",
        "\n",
        "\n",
        "\n",
        "# Diccionario de mapeo: nombres a códigos\n",
        "aglomerado_mapping = {\n",
        "    \"Gran La Plata\": 2,\n",
        "    \"Bahía Blanca - Cerri\": 3,\n",
        "    \"Gran Rosario\": 4,\n",
        "    \"Gran Santa Fe\": 5,\n",
        "    \"Gran Paraná\": 6,\n",
        "    \"Posadas\": 7,\n",
        "    \"Gran Resistencia\": 8,\n",
        "    \"Cdro. Rivadavia – Rada Tilly\": 9,\n",
        "    \"Gran Mendoza\": 10,\n",
        "    \"Corrientes\": 12,\n",
        "    \"Gran Córdoba\": 13,\n",
        "    \"Concordia\": 14,\n",
        "    \"Formosa\": 15,\n",
        "    \"Neuquén – Plottier\": 17,\n",
        "    \"S.del Estero - La Banda\": 18,\n",
        "    \"Jujuy - Palpalá\": 19,\n",
        "    \"Río Gallegos\": 20,\n",
        "    \"Gran Catamarca\": 22,\n",
        "    \"Salta\": 23,\n",
        "    \"La Rioja\": 25,\n",
        "    \"San Luis - El Chorrillo\": 26,\n",
        "    \"Gran San Juan\": 27,\n",
        "    \"Gran Tucumán - T. Viejo\": 29,\n",
        "    \"Santa Rosa - Toay\": 30,\n",
        "    \"Ushuaia - Río Grande\": 31,\n",
        "    \"Ciudad de Buenos Aires\": 32,\n",
        "    \"Partidos del GBA\": 33,\n",
        "    \"Mar del Plata - Batán\": 34,\n",
        "    \"Río Cuarto\": 36\n",
        "}\n",
        "\n",
        "# Reemplazar nombres por códigos en la columna 'AGLOMERADO'\n",
        "hogar_2004['AGLOMERADO'] = hogar_2004['AGLOMERADO'].replace(aglomerado_mapping)\n",
        "hogar_2024['AGLOMERADO'] = hogar_2024['AGLOMERADO'].replace(aglomerado_mapping)\n",
        "\n",
        "\n",
        "# Filtrar aglomerados correspondientes a Ciudad Autónoma de Buenos Aires o Gran Buenos Aires\n",
        "ciudad_aglomerados = [32, 33]\n",
        "\n",
        "hogar_2004_filtered = hogar_2004[hogar_2004[\"AGLOMERADO\"].isin(ciudad_aglomerados)]\n",
        "hogar_2024_filtered = hogar_2024[hogar_2024[\"AGLOMERADO\"].isin(ciudad_aglomerados)]\n",
        "\n",
        "individual_2004_filtered = individual_2004[individual_2004[\"AGLOMERADO\"].isin(ciudad_aglomerados)]\n",
        "individual_2024_filtered = individual_2024[individual_2024[\"AGLOMERADO\"].isin(ciudad_aglomerados)]\n",
        "\n",
        "\n",
        "# Diagnóstico de las claves antes del merge\n",
        "print(\"Diagnóstico antes del merge:\")\n",
        "print(\"Valores únicos en 'CODUSU' y 'NRO_HOGAR' en hogar_2004:\", hogar_2004_filtered[[\"CODUSU\", \"NRO_HOGAR\"]].nunique())\n",
        "print(\"Valores únicos en 'CODUSU' y 'NRO_HOGAR' en individual_2004:\", individual_2004[[\"CODUSU\", \"NRO_HOGAR\"]].nunique())\n",
        "\n",
        "print(\"Valores únicos en 'CODUSU' y 'NRO_HOGAR' en hogar_2024:\", hogar_2024_filtered[[\"CODUSU\", \"NRO_HOGAR\"]].nunique())\n",
        "print(\"Valores únicos en 'CODUSU' y 'NRO_HOGAR' en individual_2024:\", individual_2024[[\"CODUSU\", \"NRO_HOGAR\"]].nunique())\n",
        "\n"
      ],
      "metadata": {
        "id": "kij4KN1-BLYH",
        "colab": {
          "base_uri": "https://localhost:8080/"
        },
        "outputId": "73edd596-6109-473c-f8d6-c07fe998ae4a"
      },
      "execution_count": 113,
      "outputs": [
        {
          "output_type": "stream",
          "name": "stdout",
          "text": [
            "Diagnóstico antes del merge:\n",
            "Valores únicos en 'CODUSU' y 'NRO_HOGAR' en hogar_2004: CODUSU       2329\n",
            "NRO_HOGAR       3\n",
            "dtype: int64\n",
            "Valores únicos en 'CODUSU' y 'NRO_HOGAR' en individual_2004: CODUSU       12597\n",
            "NRO_HOGAR        6\n",
            "dtype: int64\n",
            "Valores únicos en 'CODUSU' y 'NRO_HOGAR' en hogar_2024: CODUSU       2540\n",
            "NRO_HOGAR       4\n",
            "dtype: int64\n",
            "Valores únicos en 'CODUSU' y 'NRO_HOGAR' en individual_2024: CODUSU       16005\n",
            "NRO_HOGAR        5\n",
            "dtype: int64\n"
          ]
        }
      ]
    },
    {
      "cell_type": "code",
      "source": [
        "print(individual_2004.columns)"
      ],
      "metadata": {
        "colab": {
          "base_uri": "https://localhost:8080/"
        },
        "id": "ADKKwYcGarzH",
        "outputId": "b825eeae-96e3-41c8-8aba-e6ed0f99eb9b"
      },
      "execution_count": 29,
      "outputs": [
        {
          "output_type": "stream",
          "name": "stdout",
          "text": [
            "Index(['CODUSU', 'NRO_HOGAR', 'COMPONENTE', 'H15', 'ANO4', 'TRIMESTRE',\n",
            "       'REGION', 'MAS_500', 'AGLOMERADO', 'PONDERA',\n",
            "       ...\n",
            "       'IDECCFR', 'RDECCFR', 'GDECCFR', 'PDECCFR', 'ADECCFR', 'PJ1_1', 'PJ2_1',\n",
            "       'PJ3_1', 'IDIMPP', 'YEAR'],\n",
            "      dtype='object', length=177)\n"
          ]
        }
      ]
    },
    {
      "cell_type": "code",
      "source": [
        "import pandas as pd\n",
        "\n",
        "# Definir las columnas relevantes para hogares e individuales\n",
        "columnas_hogar = [\"CODUSU\", \"NRO_HOGAR\", \"REGION\", \"II7\", \"IV12_3\", \"IV6\", \"IV11\", \"II8\", \"ITF\", \"IPCF\",\"II1\",\"IX_TOT\"]\n",
        "columnas_individual = [\"CODUSU\", \"NRO_HOGAR\", \"CH03\", \"CH12\", \"CH06\",\"CH04\",\"NIVEL_ED\"]\n",
        "\n",
        "# Asegurarse de crear copias explícitas\n",
        "hogar_2004_filtered = hogar_2004[columnas_hogar].copy()\n",
        "individual_2004_filtered = individual_2004[columnas_individual].copy()\n",
        "\n",
        "# Convertir NRO_HOGAR a tipo entero antes de transformarlo a cadena\n",
        "hogar_2004_filtered[\"NRO_HOGAR\"] = hogar_2004_filtered[\"NRO_HOGAR\"].fillna(0).astype(int).astype(str).str.strip()\n",
        "individual_2004_filtered[\"NRO_HOGAR\"] = individual_2004_filtered[\"NRO_HOGAR\"].fillna(0).astype(int).astype(str).str.strip()\n",
        "\n",
        "# Eliminar espacios adicionales en CODUSU\n",
        "hogar_2004_filtered[\"CODUSU\"] = hogar_2004_filtered[\"CODUSU\"].str.strip()\n",
        "individual_2004_filtered[\"CODUSU\"] = individual_2004_filtered[\"CODUSU\"].str.strip()\n",
        "\n",
        "\n",
        "# Filtrar las columnas en las bases de hogares\n",
        "hogar_2024_filtered = hogar_2024[columnas_hogar]\n",
        "\n",
        "# Filtrar las columnas en las bases individuales\n",
        "individual_2024_filtered = individual_2024[columnas_individual]\n",
        "\n",
        "# Realizar el merge entre las bases individuales y de hogares\n",
        "base_2004_i = pd.merge(individual_2004_filtered, hogar_2004_filtered, on=[\"CODUSU\", \"NRO_HOGAR\"], how=\"inner\")\n",
        "base_2024_i = pd.merge(individual_2024_filtered, hogar_2024_filtered, on=[\"CODUSU\", \"NRO_HOGAR\"], how=\"inner\")\n",
        "\n",
        "# Unir ambas bases en una sola y agregar el año\n",
        "base_2004_i[\"YEAR\"] = 2004\n",
        "base_2024_i[\"YEAR\"] = 2024\n",
        "\n"
      ],
      "metadata": {
        "id": "Bf19GloyZ2FS"
      },
      "execution_count": 126,
      "outputs": []
    },
    {
      "cell_type": "code",
      "source": [
        "print(\"hogar_2004\",hogar_2004_filtered.shape)\n",
        "print(\"hogar_2024\",hogar_2024_filtered.shape)\n",
        "print(\"individual_2004\",individual_2004_filtered.shape)\n",
        "print(\"individual_2024\",individual_2024_filtered.shape)\n",
        "print(\"base_2004\",base_2004.shape)\n",
        "print(\"base_2024\",base_2024.shape)"
      ],
      "metadata": {
        "colab": {
          "base_uri": "https://localhost:8080/"
        },
        "id": "2TI07uC8Dc4t",
        "outputId": "502fc3c2-b3a4-4c80-f681-5daff284b602"
      },
      "execution_count": 54,
      "outputs": [
        {
          "output_type": "stream",
          "name": "stdout",
          "text": [
            "hogar_2004 (12816, 10)\n",
            "hogar_2024 (16104, 10)\n",
            "individual_2004 (45289, 4)\n",
            "individual_2024 (46050, 4)\n",
            "base_2004 (45289, 13)\n",
            "base_2024 (46050, 13)\n"
          ]
        }
      ]
    },
    {
      "cell_type": "markdown",
      "source": [
        "\n",
        "##3.Limpien la base de datos tomando criterios que hagan sentido. Explicar cualquier decisión como el tratamiento de valores faltantes (missing values), extremos (outliers), o variables categóricas. Justifique sus decisiones.  \n",
        "\n",
        "\n"
      ],
      "metadata": {
        "id": "6gwkPWMj1H1O"
      }
    },
    {
      "cell_type": "markdown",
      "source": [
        "Valores faltantes: Las filas con valores nulos en las variables clave (ITF, IPCF, etc.) se eliminan porque son esenciales para el análisis.\n",
        "Outliers: Los valores extremos de ingresos (ITF e IPCF) por encima del percentil 95 se eliminan para evitar sesgos.\n",
        "Variables categóricas: Las variables categóricas relevantes se convierten en numéricas usando pd.get_dummies para garantizar compatibilidad con modelos estadísticos.\n",
        "Duplicados: Se eliminan registros duplicados para mantener consistencia en los datos.\n",
        "División: Finalmente, las bases limpias se separan nuevamente en base_limpia_2004 y base_limpia_2024 para conservar la estructura de los datos originales."
      ],
      "metadata": {
        "id": "tOG-X8OG9uy6"
      }
    },
    {
      "cell_type": "code",
      "source": [
        "import pandas as pd\n",
        "\n",
        "# Mostrar información inicial\n",
        "print(f\"Registros iniciales en base_2004: {base_2004_i.shape[0]}\")\n",
        "print(f\"Registros iniciales en base_2024: {base_2024_i.shape[0]}\")\n",
        "\n",
        "# Paso 1: Eliminar filas con valores faltantes en variables clave\n",
        "variables_clave = [\"REGION\", \"II7\", \"IV12_3\", \"IV6\", \"IV11\", \"II8\", \"ITF\", \"IPCF\",\"II1\",\"CH03\", \"CH12\", \"CH06\",\"CH04\",\"NIVEL_ED\",\"IX_TOT\"]\n",
        "base_2004 = base_2004_i.dropna(subset=variables_clave)\n",
        "base_2024 = base_2024_i.dropna(subset=variables_clave)\n",
        "print(f\"Después de eliminar filas con valores faltantes:\")\n",
        "print(f\"- base_2004: {base_2004.shape[0]} registros\")\n",
        "print(f\"- base_2024: {base_2024.shape[0]} registros\")\n",
        "\n",
        "# Paso 2: Eliminar valores extremos en ITF e IPCF (por encima del percentil 95)\n",
        "for base, year in zip([base_2004, base_2024], [2004, 2024]):\n",
        "    itf_percentil_95 = base['ITF'].quantile(0.95)\n",
        "    ipcf_percentil_95 = base['IPCF'].quantile(0.95)\n",
        "    base = base[(base['ITF'] <= itf_percentil_95) & (base['IPCF'] <= ipcf_percentil_95)]\n",
        "    if year == 2004:\n",
        "        base_2004 = base\n",
        "    else:\n",
        "        base_2024 = base\n",
        "    print(f\"Después de eliminar valores extremos en ITF e IPCF (año {year}): {base.shape[0]} registros\")\n",
        "\n",
        "# Paso 3: Convertir variables categóricas relevantes a numéricas (encoding)\n",
        "variables_categoricas = ['CH04', 'CH12', 'II7', 'IV12_3', 'II8', 'REGION']\n",
        "base_2004 = pd.get_dummies(base_2004, columns=variables_categoricas, drop_first=True)\n",
        "base_2024 = pd.get_dummies(base_2024, columns=variables_categoricas, drop_first=True)\n",
        "print(f\"Después de convertir variables categóricas a numéricas:\")\n",
        "print(f\"- base_2004: {base_2004.shape[0]} registros, {base_2004.shape[1]} columnas\")\n",
        "print(f\"- base_2024: {base_2024.shape[0]} registros, {base_2024.shape[1]} columnas\")\n",
        "\n",
        "# Paso 4: Eliminar duplicados\n",
        "base_2004 = base_2004.drop_duplicates()\n",
        "base_2024 = base_2024.drop_duplicates()\n",
        "print(f\"Después de eliminar duplicados:\")\n",
        "print(f\"- base_2004: {base_2004.shape[0]} registros\")\n",
        "print(f\"- base_2024: {base_2024.shape[0]} registros\")\n",
        "\n",
        "# Guardar las bases limpias\n",
        "base_2004.to_csv(\"base_2004_limpia.csv\", index=False)\n",
        "base_2024.to_csv(\"base_2024_limpia.csv\", index=False)\n",
        "print(\"Las bases limpias han sido guardadas como 'base_2004_limpia.csv' y 'base_2024_limpia.csv'.\")\n"
      ],
      "metadata": {
        "colab": {
          "base_uri": "https://localhost:8080/"
        },
        "id": "fGHoQgPd-yM4",
        "outputId": "f818e1da-bf46-41d2-d883-ceea4b09c200"
      },
      "execution_count": 127,
      "outputs": [
        {
          "output_type": "stream",
          "name": "stdout",
          "text": [
            "Registros iniciales en base_2004: 45289\n",
            "Registros iniciales en base_2024: 46050\n",
            "Después de eliminar filas con valores faltantes:\n",
            "- base_2004: 45289 registros\n",
            "- base_2024: 46050 registros\n",
            "Después de eliminar valores extremos en ITF e IPCF (año 2004): 42080 registros\n",
            "Después de eliminar valores extremos en ITF e IPCF (año 2024): 42783 registros\n",
            "Después de convertir variables categóricas a numéricas:\n",
            "- base_2004: 42080 registros, 44 columnas\n",
            "- base_2024: 42783 registros, 42 columnas\n",
            "Después de eliminar duplicados:\n",
            "- base_2004: 41967 registros\n",
            "- base_2024: 42632 registros\n",
            "Las bases limpias han sido guardadas como 'base_2004_limpia.csv' y 'base_2024_limpia.csv'.\n"
          ]
        }
      ]
    },
    {
      "cell_type": "markdown",
      "source": [
        "##4.\tConstruya variables (mínimo 3) que no estén en la base pero que sean relevantes para predecir individuos desocupados (por ejemplo, la proporción de personas que trabajan en el hogar)."
      ],
      "metadata": {
        "id": "h9-J1WrRBHm4"
      }
    },
    {
      "cell_type": "markdown",
      "source": [
        "Nombre corto: PORC_DEP\n",
        "Descripción: Calcula el porcentaje de personas menores de 18 años o mayores de 65 años en relación con el total de integrantes del hogar.\n",
        "Requiere variable adicional: CH04 (edad del individuo) ya debería estar incluida en la base original."
      ],
      "metadata": {
        "id": "3m_zF3nKOJIr"
      }
    },
    {
      "cell_type": "code",
      "source": [
        "# Crear una copia auxiliar de las bases para trabajar\n",
        "base_2004_aux = base_2004.copy()\n",
        "base_2024_aux = base_2024.copy()\n",
        "\n",
        "# Calcular PORC_DEP: porcentaje de dependientes en el hogar usando CH06 (edad)\n",
        "# Dependientes: personas con edad < 18 o > 65 años\n",
        "base_2004_aux[\"PORC_DEP\"] = base_2004_aux.groupby(\"CODUSU\")[\"CH06\"].transform(\n",
        "    lambda x: ((x < 18) | (x > 65)).sum() / len(x) * 100\n",
        ")\n",
        "base_2024_aux[\"PORC_DEP\"] = base_2024_aux.groupby(\"CODUSU\")[\"CH06\"].transform(\n",
        "    lambda x: ((x < 18) | (x > 65)).sum() / len(x) * 100\n",
        ")\n",
        "\n",
        "# Guardar la variable en las bases originales\n",
        "base_2004[\"PORC_DEP\"] = base_2004_aux[\"PORC_DEP\"]\n",
        "base_2024[\"PORC_DEP\"] = base_2024_aux[\"PORC_DEP\"]\n",
        "\n",
        "# Verificar el resultado\n",
        "print(\"Base 2004 con PORC_DEP:\")\n",
        "print(base_2004[[\"CODUSU\", \"NRO_HOGAR\", \"CH06\", \"PORC_DEP\"]].head())\n",
        "\n",
        "print(\"\\nBase 2024 con PORC_DEP:\")\n",
        "print(base_2024[[\"CODUSU\", \"NRO_HOGAR\", \"CH06\", \"PORC_DEP\"]].head())\n",
        "\n",
        "# Si deseas guardar las bases actualizadas\n",
        "base_2004.to_csv(\"base_2004_con_porc_dep.csv\", index=False)\n",
        "base_2024.to_csv(\"base_2024_con_porc_dep.csv\", index=False)\n",
        "\n",
        "print(\"Bases actualizadas con PORC_DEP guardadas como 'base_2004_con_porc_dep.csv' y 'base_2024_con_porc_dep.csv'.\")\n",
        "\n"
      ],
      "metadata": {
        "colab": {
          "base_uri": "https://localhost:8080/"
        },
        "id": "YBrJUpBKOJzF",
        "outputId": "885e6611-e73b-4d48-a83a-26755b3593bd"
      },
      "execution_count": 131,
      "outputs": [
        {
          "output_type": "stream",
          "name": "stdout",
          "text": [
            "Base 2004 con PORC_DEP:\n",
            "   CODUSU NRO_HOGAR  CH06  PORC_DEP\n",
            "0  125098         1  79.0     100.0\n",
            "1  125397         1  67.0     100.0\n",
            "2  125515         1  74.0     100.0\n",
            "3  125558         1  54.0       0.0\n",
            "4  125558         1  51.0       0.0\n",
            "\n",
            "Base 2024 con PORC_DEP:\n",
            "                          CODUSU  NRO_HOGAR  CH06  PORC_DEP\n",
            "0  TQRMNOPUTHLMKQCDEGGFB00852588          1    44      40.0\n",
            "1  TQRMNOPUTHLMKQCDEGGFB00852588          1    22      40.0\n",
            "2  TQRMNOPUTHLMKQCDEGGFB00852588          1     3      40.0\n",
            "3  TQRMNOPPWHLLKRCDEGGFB00852574          1    54       0.0\n",
            "4  TQRMNOPPWHLLKRCDEGGFB00852574          1    53       0.0\n",
            "Bases actualizadas con PORC_DEP guardadas como 'base_2004_con_porc_dep.csv' y 'base_2024_con_porc_dep.csv'.\n"
          ]
        }
      ]
    },
    {
      "cell_type": "markdown",
      "source": [
        "2. Educación promedio del hogar\n",
        "Nombre corto: EDU_PROM\n",
        "Descripción: Se asigna un puntaje a cada nivel educativo (CH12), y se calcula el promedio para cada hogar.\n",
        "Requiere variable adicional: CH12 ya debería estar incluida en la base original.\n",
        "Asignar puntajes a los niveles educativos:\n",
        "\n",
        "1 = Jardín/preescolar\n",
        "2 = Primario\n",
        "3 = EGB\n",
        "4 = Secundario\n",
        "5 = Polimodal\n",
        "6 = Terciario\n",
        "7 = Universitario\n",
        "8 = Posgrado universitario\n",
        "9 = Educación especial (0 puntos, ya que no aporta al promedio educativo)."
      ],
      "metadata": {
        "id": "q3RqWc0WJ6Az"
      }
    },
    {
      "cell_type": "code",
      "source": [
        "# Asignar puntajes a los niveles educativos en NIVEL_ED\n",
        "puntajes_educativos = {\n",
        "    1: 0,  # Primario incompleto\n",
        "    2: 1,  # Primario completo\n",
        "    3: 2,  # Secundario incompleto\n",
        "    4: 3,  # Secundario completo\n",
        "    5: 4,  # Superior universitario incompleto\n",
        "    6: 5,  # Superior universitario completo\n",
        "    7: 0,  # Sin instrucción\n",
        "    9: 0   # Ns/Nr\n",
        "}\n",
        "\n",
        "# Crear una copia auxiliar para trabajar\n",
        "base_2004_aux = base_2004.copy()\n",
        "base_2024_aux = base_2024.copy()\n",
        "\n",
        "# Mapear los puntajes educativos en NIVEL_ED\n",
        "base_2004_aux[\"NIVEL_ED_SCORE\"] = base_2004_aux[\"NIVEL_ED\"].map(puntajes_educativos)\n",
        "base_2024_aux[\"NIVEL_ED_SCORE\"] = base_2024_aux[\"NIVEL_ED\"].map(puntajes_educativos)\n",
        "\n",
        "# Calcular EDU_PROM (promedio educativo por hogar, agrupado por CODUSU)\n",
        "base_2004_aux[\"EDU_PROM\"] = base_2004_aux.groupby(\"CODUSU\")[\"NIVEL_ED_SCORE\"].transform(\"mean\")\n",
        "base_2024_aux[\"EDU_PROM\"] = base_2024_aux.groupby(\"CODUSU\")[\"NIVEL_ED_SCORE\"].transform(\"mean\")\n",
        "\n",
        "# Incorporar la variable EDU_PROM en las bases originales\n",
        "base_2004[\"EDU_PROM\"] = base_2004_aux[\"EDU_PROM\"]\n",
        "base_2024[\"EDU_PROM\"] = base_2024_aux[\"EDU_PROM\"]\n",
        "\n",
        "# Verificar el resultado\n",
        "print(\"Base 2004 con EDU_PROM:\")\n",
        "print(base_2004[[\"CODUSU\", \"NRO_HOGAR\", \"NIVEL_ED\", \"EDU_PROM\"]].head())\n",
        "\n",
        "print(\"\\nBase 2024 con EDU_PROM:\")\n",
        "print(base_2024[[\"CODUSU\", \"NRO_HOGAR\", \"NIVEL_ED\", \"EDU_PROM\"]].head())\n",
        "\n",
        "# Guardar las bases actualizadas\n",
        "base_2004.to_csv(\"base_2004_con_edu_prom.csv\", index=False)\n",
        "base_2024.to_csv(\"base_2024_con_edu_prom.csv\", index=False)\n",
        "\n",
        "print(\"Bases actualizadas con EDU_PROM guardadas como 'base_2004_con_edu_prom.csv' y 'base_2024_con_edu_prom.csv'.\")\n"
      ],
      "metadata": {
        "colab": {
          "base_uri": "https://localhost:8080/"
        },
        "id": "eCCoAF_2Tgci",
        "outputId": "f1da7490-f73e-4d12-d3a1-dc4c28414c59"
      },
      "execution_count": 134,
      "outputs": [
        {
          "output_type": "stream",
          "name": "stdout",
          "text": [
            "Base 2004 con EDU_PROM:\n",
            "   CODUSU NRO_HOGAR                         NIVEL_ED  EDU_PROM\n",
            "0  125098         1            Secundaria Incompleta       NaN\n",
            "1  125397         1                Primaria Completa       NaN\n",
            "2  125515         1                Primaria Completa       NaN\n",
            "3  125558         1                Primaria Completa       NaN\n",
            "4  125558         1  Superior Universitaria Completa       NaN\n",
            "\n",
            "Base 2024 con EDU_PROM:\n",
            "                          CODUSU  NRO_HOGAR  NIVEL_ED  EDU_PROM\n",
            "0  TQRMNOPUTHLMKQCDEGGFB00852588          1         3      2.40\n",
            "1  TQRMNOPUTHLMKQCDEGGFB00852588          1         5      2.40\n",
            "2  TQRMNOPUTHLMKQCDEGGFB00852588          1         7      2.40\n",
            "3  TQRMNOPPWHLLKRCDEGGFB00852574          1         4      3.75\n",
            "4  TQRMNOPPWHLLKRCDEGGFB00852574          1         4      3.75\n",
            "Bases actualizadas con EDU_PROM guardadas como 'base_2004_con_edu_prom.csv' y 'base_2024_con_edu_prom.csv'.\n"
          ]
        }
      ]
    },
    {
      "cell_type": "markdown",
      "source": [
        "Nombre corto: PERS_X_AMB\n",
        "Descripción:\n",
        "Esta variable mide el promedio de personas que habitan por cada ambiente o habitación disponible en el hogar. Se calcula dividiendo el número total de personas en el hogar (IX_TOT) entre el número de ambientes o habitaciones disponibles (II1). El valor resultante refleja la densidad de ocupación de los ambientes en cada hogar."
      ],
      "metadata": {
        "id": "k-Qy29bAURnS"
      }
    },
    {
      "cell_type": "code",
      "source": [
        "# Crear una copia auxiliar para trabajar\n",
        "base_2004_aux = base_2004.copy()\n",
        "base_2024_aux = base_2024.copy()\n",
        "\n",
        "# Calcular la variable PERS_X_AMB\n",
        "base_2004_aux[\"PERS_X_AMB\"] = base_2004_aux[\"IX_TOT\"] / base_2004_aux[\"II1\"]\n",
        "base_2024_aux[\"PERS_X_AMB\"] = base_2024_aux[\"IX_TOT\"] / base_2024_aux[\"II1\"]\n",
        "\n",
        "# Incorporar la variable PERS_X_AMB en las bases originales\n",
        "base_2004[\"PERS_X_AMB\"] = base_2004_aux[\"PERS_X_AMB\"]\n",
        "base_2024[\"PERS_X_AMB\"] = base_2024_aux[\"PERS_X_AMB\"]\n",
        "\n",
        "# Verificar el resultado\n",
        "print(\"Distribución de la variable PERS_X_AMB en base_2004:\")\n",
        "print(base_2004[\"PERS_X_AMB\"].describe())\n",
        "\n",
        "print(\"\\nDistribución de la variable PERS_X_AMB en base_2024:\")\n",
        "print(base_2024[\"PERS_X_AMB\"].describe())\n",
        "\n",
        "# Guardar las bases actualizadas\n",
        "base_2004.to_csv(\"base_2004_con_pers_x_amb.csv\", index=False)\n",
        "base_2024.to_csv(\"base_2024_con_pers_x_amb.csv\", index=False)\n",
        "\n",
        "print(\"Bases actualizadas con PERS_X_AMB guardadas como 'base_2004_con_pers_x_amb.csv' y 'base_2024_con_pers_x_amb.csv'.\")\n",
        "\n"
      ],
      "metadata": {
        "colab": {
          "base_uri": "https://localhost:8080/"
        },
        "id": "R9hBsBGHUWNF",
        "outputId": "5940f4f7-8680-4d94-9bd6-182746b3d40e"
      },
      "execution_count": 129,
      "outputs": [
        {
          "output_type": "stream",
          "name": "stdout",
          "text": [
            "Distribución de la variable PERS_X_AMB en base_2004:\n",
            "count    4.196700e+04\n",
            "mean              inf\n",
            "std               NaN\n",
            "min      1.010101e-02\n",
            "25%      1.000000e+00\n",
            "50%      1.500000e+00\n",
            "75%      2.000000e+00\n",
            "max               inf\n",
            "Name: PERS_X_AMB, dtype: float64\n",
            "\n",
            "Distribución de la variable PERS_X_AMB en base_2024:\n",
            "count    4.263200e+04\n",
            "mean              inf\n",
            "std               NaN\n",
            "min      1.250000e-01\n",
            "25%      8.333333e-01\n",
            "50%      1.250000e+00\n",
            "75%      1.666667e+00\n",
            "max               inf\n",
            "Name: PERS_X_AMB, dtype: float64\n",
            "Bases actualizadas con PERS_X_AMB guardadas como 'base_2004_con_pers_x_amb.csv' y 'base_2024_con_pers_x_amb.csv'.\n"
          ]
        }
      ]
    },
    {
      "cell_type": "markdown",
      "source": [
        "##5.\tPresenten estadísticas descriptivas de tres variables de la encuesta de hogar que ustedes creen que pueden ser relevantes para predecir la desocupación. Comenten las estadísticas obtenidas."
      ],
      "metadata": {
        "id": "TbE0y9O8Vu51"
      }
    },
    {
      "cell_type": "code",
      "source": [
        "# Seleccionar las variables relevantes\n",
        "variables_hogar = [\"CH06\", \"PORC_DEP\", \"ITF\"]\n",
        "\n",
        "# Generar estadísticas descriptivas para cada variable\n",
        "def describir_variable(base, variable, nombre_variable):\n",
        "    print(f\"\\n--- Estadísticas descriptivas para {nombre_variable} ({variable}) ---\")\n",
        "    print(base[variable].describe(percentiles=[0.25, 0.5, 0.75]))\n",
        "    if base[variable].dtype == \"object\" or base[variable].nunique() <= 10:\n",
        "        print(\"\\nFrecuencias:\")\n",
        "        print(base[variable].value_counts(normalize=True) * 100)\n",
        "\n",
        "# Estadísticas para base_2004\n",
        "print(\"=== Estadísticas descriptivas: Base 2004 ===\")\n",
        "for var in variables_hogar:\n",
        "    describir_variable(base_2004, var, var)\n",
        "\n",
        "# Estadísticas para base_2024\n",
        "print(\"\\n=== Estadísticas descriptivas: Base 2024 ===\")\n",
        "for var in variables_hogar:\n",
        "    describir_variable(base_2024, var, var)\n"
      ],
      "metadata": {
        "colab": {
          "base_uri": "https://localhost:8080/"
        },
        "id": "aiGy9xErVx3t",
        "outputId": "3b97234f-62df-4efb-8225-da1ca54dc680"
      },
      "execution_count": 136,
      "outputs": [
        {
          "output_type": "stream",
          "name": "stdout",
          "text": [
            "=== Estadísticas descriptivas: Base 2004 ===\n",
            "\n",
            "--- Estadísticas descriptivas para CH06 (CH06) ---\n",
            "count     41967.0\n",
            "unique       99.0\n",
            "top          12.0\n",
            "freq        892.0\n",
            "Name: CH06, dtype: float64\n",
            "\n",
            "--- Estadísticas descriptivas para PORC_DEP (PORC_DEP) ---\n",
            "count    41967.000000\n",
            "mean        42.180761\n",
            "std         25.908060\n",
            "min          0.000000\n",
            "25%         25.000000\n",
            "50%         50.000000\n",
            "75%         60.000000\n",
            "max        100.000000\n",
            "Name: PORC_DEP, dtype: float64\n",
            "\n",
            "--- Estadísticas descriptivas para ITF (ITF) ---\n",
            "count    41967.000000\n",
            "mean       871.351443\n",
            "std        614.841803\n",
            "min          0.000000\n",
            "25%        400.000000\n",
            "50%        700.000000\n",
            "75%       1200.000000\n",
            "max       3000.000000\n",
            "Name: ITF, dtype: float64\n",
            "\n",
            "=== Estadísticas descriptivas: Base 2024 ===\n",
            "\n",
            "--- Estadísticas descriptivas para CH06 (CH06) ---\n",
            "count    42632.000000\n",
            "mean        36.083482\n",
            "std         22.308901\n",
            "min         -1.000000\n",
            "25%         17.000000\n",
            "50%         34.000000\n",
            "75%         53.000000\n",
            "max        101.000000\n",
            "Name: CH06, dtype: float64\n",
            "\n",
            "--- Estadísticas descriptivas para PORC_DEP (PORC_DEP) ---\n",
            "count    42632.000000\n",
            "mean        37.720492\n",
            "std         28.156550\n",
            "min          0.000000\n",
            "25%         16.666667\n",
            "50%         37.500000\n",
            "75%         50.000000\n",
            "max        100.000000\n",
            "Name: PORC_DEP, dtype: float64\n",
            "\n",
            "--- Estadísticas descriptivas para ITF (ITF) ---\n",
            "count    4.263200e+04\n",
            "mean     3.911130e+05\n",
            "std      3.443702e+05\n",
            "min      0.000000e+00\n",
            "25%      0.000000e+00\n",
            "50%      3.500000e+05\n",
            "75%      6.010000e+05\n",
            "max      1.400000e+06\n",
            "Name: ITF, dtype: float64\n"
          ]
        }
      ]
    }
  ]
}