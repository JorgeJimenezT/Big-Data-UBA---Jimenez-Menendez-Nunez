{
  "nbformat": 4,
  "nbformat_minor": 0,
  "metadata": {
    "colab": {
      "provenance": []
    },
    "kernelspec": {
      "name": "python3",
      "display_name": "Python 3"
    },
    "language_info": {
      "name": "python"
    }
  },
  "cells": [
    {
      "cell_type": "markdown",
      "source": [
        "##1.Exploren el diseño de registro de la base de hogar: a priori, ¿qué variables creen pueden ser predictivas de la desocupación y seria útil incluir para perfeccionar el ejercicio del TP3? Mencionen estas variables y justifiquen su elección.\n",
        "\n"
      ],
      "metadata": {
        "id": "nio437QKyHRu"
      }
    },
    {
      "cell_type": "markdown",
      "source": [
        "REGION (Región geográfica del hogar): Captura diferencias geográficas significativas en tasas de desempleo, relacionadas con el desarrollo económico local y acceso a oportunidades laborales.\n",
        "\n",
        "II7 (Tenencia de la vivienda): Refleja estabilidad económica del hogar. Hogares que alquilan pueden estar más presionados económicamente, mientras que aquellos que son propietarios pueden tener más estabilidad.\n",
        "\n",
        "CH03 (Relación de parentesco con el jefe de hogar): La relación con el jefe de hogar puede influir en la probabilidad de empleo o desempleo, ya que ciertos roles en la familia (como jefe o cónyuge) podrían tener mayores prioridades o responsabilidades económicas.\n",
        "\n",
        "IV12_3 (Ubicación en villa de emergencia): Refleja una condición de vulnerabilidad socioeconómica que puede limitar el acceso a oportunidades laborales y recursos.\n",
        "\n",
        "IV6 (Acceso al agua): El acceso al agua (por cañería, fuera del terreno, etc.) indica diferencias en las condiciones materiales del hogar, que podrían correlacionarse con el nivel de ingresos y empleo.\n",
        "\n",
        "IV11 (Desagüe del baño): El tipo de desagüe refleja el nivel de infraestructura y calidad de vida del hogar, indicadores que pueden influir en la estabilidad laboral.\n",
        "\n",
        "II8 (Tipo de combustible utilizado para cocinar): Hogares que utilizan gas de red tienen mejor infraestructura en comparación con aquellos que dependen de kerosene, leña o carbón, lo que puede relacionarse con el ingreso y empleo.\n",
        "\n",
        "CH12 (Nivel educativo más alto alcanzado): La educación es un factor determinante en el acceso al empleo. Los niveles educativos más altos (universitario o posgrado) están directamente relacionados con mejores oportunidades laborales y menores tasas de desempleo.\n",
        "\n",
        "ITF (Ingreso total familiar): Proporciona una medida global del ingreso familiar, relevante para evaluar la situación económica general del hogar y su relación con el empleo.\n",
        "\n",
        "IPCF (Ingreso per cápita familiar): Permite evaluar la disponibilidad de recursos económicos por persona en el hogar, siendo un indicador clave de bienestar económico y estabilidad."
      ],
      "metadata": {
        "id": "lGIaUbS63g3K"
      }
    },
    {
      "cell_type": "markdown",
      "source": [
        "##2.Descarguen la base de microdatos de la EPH correspondiente al primer trimestre de 2004 y 2024 en formato .dta y .xls, respectivamente. La base de hogares se llama Hogar_t104.dta y usu_hogar_T124.xls, respectivamente. Eliminen todas las observaciones que no corresponden a los aglomerados de Ciuidad Autónoma de Buenos Aires o Gran Buenos Aires y unan ambos trimestres en una sola base. Esto es, a la base de la encuesta individual de cada año (que usaron en el TP3) unan la base de la encuesta de hogar. Asegúrese de estar usando las variables CODUSU y NRO_Hogar para el merge.\n"
      ],
      "metadata": {
        "id": "8on2SJKY5RVg"
      }
    },
    {
      "cell_type": "code",
      "source": [
        "!pip install pyreadstat\n"
      ],
      "metadata": {
        "colab": {
          "base_uri": "https://localhost:8080/"
        },
        "id": "roHC_JDoOZKL",
        "outputId": "7422fcbd-0adf-43b5-ae2a-91fd79cc176b"
      },
      "execution_count": 1,
      "outputs": [
        {
          "output_type": "stream",
          "name": "stdout",
          "text": [
            "Collecting pyreadstat\n",
            "  Downloading pyreadstat-1.2.8-cp310-cp310-manylinux_2_17_x86_64.manylinux2014_x86_64.whl.metadata (1.0 kB)\n",
            "Requirement already satisfied: pandas>=1.2.0 in /usr/local/lib/python3.10/dist-packages (from pyreadstat) (2.2.2)\n",
            "Requirement already satisfied: numpy>=1.22.4 in /usr/local/lib/python3.10/dist-packages (from pandas>=1.2.0->pyreadstat) (1.26.4)\n",
            "Requirement already satisfied: python-dateutil>=2.8.2 in /usr/local/lib/python3.10/dist-packages (from pandas>=1.2.0->pyreadstat) (2.8.2)\n",
            "Requirement already satisfied: pytz>=2020.1 in /usr/local/lib/python3.10/dist-packages (from pandas>=1.2.0->pyreadstat) (2024.2)\n",
            "Requirement already satisfied: tzdata>=2022.7 in /usr/local/lib/python3.10/dist-packages (from pandas>=1.2.0->pyreadstat) (2024.2)\n",
            "Requirement already satisfied: six>=1.5 in /usr/local/lib/python3.10/dist-packages (from python-dateutil>=2.8.2->pandas>=1.2.0->pyreadstat) (1.17.0)\n",
            "Downloading pyreadstat-1.2.8-cp310-cp310-manylinux_2_17_x86_64.manylinux2014_x86_64.whl (2.8 MB)\n",
            "\u001b[2K   \u001b[90m━━━━━━━━━━━━━━━━━━━━━━━━━━━━━━━━━━━━━━━━\u001b[0m \u001b[32m2.8/2.8 MB\u001b[0m \u001b[31m12.7 MB/s\u001b[0m eta \u001b[36m0:00:00\u001b[0m\n",
            "\u001b[?25hInstalling collected packages: pyreadstat\n",
            "Successfully installed pyreadstat-1.2.8\n"
          ]
        }
      ]
    },
    {
      "cell_type": "code",
      "source": [
        "import pyreadstat\n",
        "import pandas as pd\n",
        "import requests\n",
        "\n",
        "# URLs de los archivos\n",
        "url_2004 = \"https://github.com/JorgeJimenezT/Big-Data-UBA---Jimenez-Menendez-Nunez/raw/main/TP4/Hogar_t104.dta\"\n",
        "url_2024 = \"https://github.com/JorgeJimenezT/Big-Data-UBA---Jimenez-Menendez-Nunez/raw/main/TP4/usu_hogar_T124.xlsx\"\n",
        "\n",
        "# Descargar y guardar los archivos localmente\n",
        "file_2004 = \"Hogar_t104.dta\"\n",
        "file_2024 = \"usu_hogar_T124.xlsx\"\n",
        "\n",
        "# Descargar archivo 2004\n",
        "response_2004 = requests.get(url_2004)\n",
        "with open(file_2004, \"wb\") as f:\n",
        "    f.write(response_2004.content)\n",
        "\n",
        "# Descargar archivo 2024\n",
        "response_2024 = requests.get(url_2024)\n",
        "with open(file_2024, \"wb\") as f:\n",
        "    f.write(response_2024.content)\n",
        "\n",
        "# Cargar las bases de hogares para 2004 y 2024 usando pyreadstat y pandas\n",
        "hogar_2004, meta_2004 = pyreadstat.read_dta(file_2004)\n",
        "hogar_2024 = pd.read_excel(file_2024)\n",
        "\n",
        "# Estandarizar los nombres de las columnas\n",
        "hogar_2004.columns = [col.upper() for col in hogar_2004.columns]\n",
        "hogar_2024.columns = [col.upper() for col in hogar_2024.columns]\n",
        "\n",
        "# URLs directas de los archivos en GitHub\n",
        "url_i_2004 = \"https://github.com/JorgeJimenezT/Big-Data-UBA---Jimenez-Menendez-Nunez/raw/refs/heads/main/TP3/Individual_t104.dta\"\n",
        "url_i_2024 = \"https://github.com/JorgeJimenezT/Big-Data-UBA---Jimenez-Menendez-Nunez/raw/refs/heads/main/TP3/usu_individual_T124.xlsx\"\n",
        "\n",
        "# Leer los archivos directamente desde GitHub\n",
        "individual_2004 = pd.read_stata(url_i_2004)\n",
        "individual_2024 = pd.read_excel(url_i_2024)\n",
        "\n",
        "# Estandarizar los nombres de las columnas en los DataFrames individuales\n",
        "individual_2004.columns = [col.upper() for col in individual_2004.columns]\n",
        "individual_2024.columns = [col.upper() for col in individual_2024.columns]\n",
        "\n",
        "individual_2004['YEAR'] = 2004\n",
        "individual_2024['YEAR'] = 2024\n",
        "\n",
        "hogar_2004['YEAR'] = 2004\n",
        "hogar_2024['YEAR'] = 2024\n",
        "\n"
      ],
      "metadata": {
        "id": "RLZNOe6OBK66"
      },
      "execution_count": 2,
      "outputs": []
    },
    {
      "cell_type": "code",
      "source": [
        "import pyreadstat\n",
        "import pandas as pd\n",
        "import requests\n",
        "\n",
        "\n",
        "# Diccionarios de mapeo para las variables V8 - V19_B\n",
        "v8_mapping = {1: \"Sí - Alquiler\", 2: \"No - Alquiler\"}\n",
        "v9_mapping = {1: \"Sí - Ganancias de negocio\", 2: \"No - Ganancias de negocio\"}\n",
        "v10_mapping = {1: \"Sí - Intereses/rentas\", 2: \"No - Intereses/rentas\"}\n",
        "v11_mapping = {1: \"Sí - Beca de estudio\", 2: \"No - Beca de estudio\"}\n",
        "v12_mapping = {1: \"Sí - Cuotas de alimentos/ayuda\", 2: \"No - Cuotas de alimentos/ayuda\"}\n",
        "v13_mapping = {1: \"Sí - Gastar ahorros\", 2: \"No - Gastar ahorros\"}\n",
        "v14_mapping = {1: \"Sí - Préstamos familiares/amigos\", 2: \"No - Préstamos familiares/amigos\"}\n",
        "v15_mapping = {1: \"Sí - Préstamos bancos/financieras\", 2: \"No - Préstamos bancos/financieras\"}\n",
        "v16_mapping = {1: \"Sí - Compran a crédito/fiado\", 2: \"No - Compran a crédito/fiado\"}\n",
        "v17_mapping = {1: \"Sí - Vender pertenencias\", 2: \"No - Vender pertenencias\"}\n",
        "v18_mapping = {1: \"Sí - Otros ingresos\", 2: \"No - Otros ingresos\"}\n",
        "v19_a_mapping = {1: \"Sí - Menores ayudan trabajando\", 2: \"No - Menores ayudan trabajando\"}\n",
        "v19_b_mapping = {1: \"Sí - Menores ayudan pidiendo\", 2: \"No - Menores ayudan pidiendo\"}\n",
        "\n",
        "# Aplicar los reemplazos en hogar_2004\n",
        "hogar_2004['V8'] = hogar_2004['V8'].replace(v8_mapping)\n",
        "hogar_2004['V9'] = hogar_2004['V9'].replace(v9_mapping)\n",
        "hogar_2004['V10'] = hogar_2004['V10'].replace(v10_mapping)\n",
        "hogar_2004['V11'] = hogar_2004['V11'].replace(v11_mapping)\n",
        "hogar_2004['V12'] = hogar_2004['V12'].replace(v12_mapping)\n",
        "hogar_2004['V13'] = hogar_2004['V13'].replace(v13_mapping)\n",
        "hogar_2004['V14'] = hogar_2004['V14'].replace(v14_mapping)\n",
        "hogar_2004['V15'] = hogar_2004['V15'].replace(v15_mapping)\n",
        "hogar_2004['V16'] = hogar_2004['V16'].replace(v16_mapping)\n",
        "hogar_2004['V17'] = hogar_2004['V17'].replace(v17_mapping)\n",
        "hogar_2004['V18'] = hogar_2004['V18'].replace(v18_mapping)\n",
        "hogar_2004['V19_A'] = hogar_2004['V19_A'].replace(v19_a_mapping)\n",
        "hogar_2004['V19_B'] = hogar_2004['V19_B'].replace(v19_b_mapping)\n",
        "\n",
        "# Aplicar los reemplazos en hogar_2024\n",
        "hogar_2024['V8'] = hogar_2024['V8'].replace(v8_mapping)\n",
        "hogar_2024['V9'] = hogar_2024['V9'].replace(v9_mapping)\n",
        "hogar_2024['V10'] = hogar_2024['V10'].replace(v10_mapping)\n",
        "hogar_2024['V11'] = hogar_2024['V11'].replace(v11_mapping)\n",
        "hogar_2024['V12'] = hogar_2024['V12'].replace(v12_mapping)\n",
        "hogar_2024['V13'] = hogar_2024['V13'].replace(v13_mapping)\n",
        "hogar_2024['V14'] = hogar_2024['V14'].replace(v14_mapping)\n",
        "hogar_2024['V15'] = hogar_2024['V15'].replace(v15_mapping)\n",
        "hogar_2024['V16'] = hogar_2024['V16'].replace(v16_mapping)\n",
        "hogar_2024['V17'] = hogar_2024['V17'].replace(v17_mapping)\n",
        "hogar_2024['V18'] = hogar_2024['V18'].replace(v18_mapping)\n",
        "hogar_2024['V19_A'] = hogar_2024['V19_A'].replace(v19_a_mapping)\n",
        "hogar_2024['V19_B'] = hogar_2024['V19_B'].replace(v19_b_mapping)\n",
        "\n",
        "# Diccionario de mapeo para la variable CH04 (Sexo)\n",
        "ch04_mapping = {1: \"Varón\", 2: \"Mujer\"}\n",
        "\n",
        "# Aplicar el reemplazo en la variable CH04\n",
        "individual_2004['CH04'] = individual_2004['CH04'].replace(ch04_mapping)\n",
        "individual_2024['CH04'] = individual_2024['CH04'].replace(ch04_mapping)\n",
        "\n",
        "# Diccionario de mapeo para la variable II7 (Régimen de tenencia)\n",
        "ii7_mapping = {\n",
        "    1: \"Propietario de la vivienda y el terreno\",\n",
        "    2: \"Propietario de la vivienda solamente\",\n",
        "    3: \"Inquilino/arrendatario de la vivienda\",\n",
        "    4: \"Ocupante por pago de impuestos/expensas\",\n",
        "    5: \"Ocupante en relación de dependencia\",\n",
        "    6: \"Ocupante gratuito (con permiso)\",\n",
        "    7: \"Ocupante de hecho (sin permiso)\",\n",
        "    8: \"Está en sucesión\"\n",
        "}\n",
        "\n",
        "# Aplicar el reemplazo en la variable II7\n",
        "hogar_2004['II7'] = hogar_2004['II7'].replace(ii7_mapping)\n",
        "hogar_2024['II7'] = hogar_2024['II7'].replace(ii7_mapping)\n",
        "\n",
        "\n",
        "# Diccionario de mapeo para la variable CH03 (Relación de parentesco)\n",
        "ch03_mapping = {\n",
        "    1: \"Jefe/a\",\n",
        "    2: \"Cónyuge/pareja\",\n",
        "    3: \"Hijo/hijastra\",\n",
        "    4: \"Yerno/nuera\",\n",
        "    5: \"Nieto/a\",\n",
        "    6: \"Madre/padre\",\n",
        "    7: \"Suegro/a\",\n",
        "    8: \"Hermano/a\",\n",
        "    9: \"Otros familiares\",\n",
        "    10: \"No familiares\"\n",
        "}\n",
        "\n",
        "# Aplicar el reemplazo en la variable CH03\n",
        "individual_2004['CH03'] = individual_2004['CH03'].replace(ch03_mapping)\n",
        "individual_2024['CH03'] = individual_2024['CH03'].replace(ch03_mapping)\n",
        "\n",
        "\n",
        "# Diccionario de mapeo: nombres a códigos\n",
        "aglomerado_mapping = {\n",
        "    \"Gran La Plata\": 2,\n",
        "    \"Bahía Blanca - Cerri\": 3,\n",
        "    \"Gran Rosario\": 4,\n",
        "    \"Gran Santa Fe\": 5,\n",
        "    \"Gran Paraná\": 6,\n",
        "    \"Posadas\": 7,\n",
        "    \"Gran Resistencia\": 8,\n",
        "    \"Cdro. Rivadavia – Rada Tilly\": 9,\n",
        "    \"Gran Mendoza\": 10,\n",
        "    \"Corrientes\": 12,\n",
        "    \"Gran Córdoba\": 13,\n",
        "    \"Concordia\": 14,\n",
        "    \"Formosa\": 15,\n",
        "    \"Neuquén – Plottier\": 17,\n",
        "    \"S.del Estero - La Banda\": 18,\n",
        "    \"Jujuy - Palpalá\": 19,\n",
        "    \"Río Gallegos\": 20,\n",
        "    \"Gran Catamarca\": 22,\n",
        "    \"Salta\": 23,\n",
        "    \"La Rioja\": 25,\n",
        "    \"San Luis - El Chorrillo\": 26,\n",
        "    \"Gran San Juan\": 27,\n",
        "    \"Gran Tucumán - T. Viejo\": 29,\n",
        "    \"Santa Rosa - Toay\": 30,\n",
        "    \"Ushuaia - Río Grande\": 31,\n",
        "    \"Ciudad de Buenos Aires\": 32,\n",
        "    \"Partidos del GBA\": 33,\n",
        "    \"Mar del Plata - Batán\": 34,\n",
        "    \"Río Cuarto\": 36\n",
        "}\n",
        "\n",
        "# Reemplazar nombres por códigos en la columna 'AGLOMERADO'\n",
        "hogar_2004['AGLOMERADO'] = hogar_2004['AGLOMERADO'].replace(aglomerado_mapping)\n",
        "hogar_2024['AGLOMERADO'] = hogar_2024['AGLOMERADO'].replace(aglomerado_mapping)\n",
        "\n",
        "estado_mapping = {\n",
        "    0: \"Entrevista no realizada\",\n",
        "    1: \"Ocupado\",\n",
        "    2: \"Desocupado\",\n",
        "    3: \"Inactivo\",\n",
        "    4: \"Menor de 10 años\"\n",
        "}\n",
        "\n",
        "# Reemplazar códigos numéricos por sus etiquetas correspondientes en la columna 'ESTADO'\n",
        "individual_2024['ESTADO'] = individual_2024['ESTADO'].replace(estado_mapping)\n",
        "\n",
        "\n",
        "# Diccionario de mapeo para la variable II8 (Combustible utilizado para cocinar)\n",
        "ii8_mapping = {\n",
        "    1: \"Gas de red\",\n",
        "    2: \"Gas de tubo/garrafa\",\n",
        "    3: \"Kerosene/leña/carbón\"\n",
        "}\n",
        "\n",
        "# Aplicar el reemplazo en la variable II8\n",
        "hogar_2004['II8'] = hogar_2004['II8'].replace(ii8_mapping)\n",
        "hogar_2024['II8'] = hogar_2024['II8'].replace(ii8_mapping)\n",
        "\n",
        "\n",
        "# Diccionario de mapeo: códigos de NIVEL_ED a sus etiquetas\n",
        "nivel_ed_mapping_inverso = {\n",
        "    \"Primaria Incompleta\": 1,\n",
        "    \"Primaria Incompleta (incluye educación especial)\": 1,\n",
        "    \"Primaria Completa\": 2,\n",
        "    \"Secundaria Incompleta\": 3,\n",
        "    \"Secundaria Completa\": 4,\n",
        "    \"Superior Universitaria Incompleta\": 5,\n",
        "    \"Superior Universitaria Completa\": 6,\n",
        "    \"Sin instrucción\": 7,\n",
        "    \"Ns./Nr.\": 9\n",
        "}\n",
        "\n",
        "# Reemplazar valores en la columna 'NIVEL_ED' con sus códigos numéricos\n",
        "individual_2004['NIVEL_ED'] = individual_2004['NIVEL_ED'].replace(nivel_ed_mapping_inverso)\n",
        "\n",
        "\n",
        "\n",
        "\n",
        "# Filtrar aglomerados correspondientes a Ciudad Autónoma de Buenos Aires o Gran Buenos Aires\n",
        "ciudad_aglomerados = [32, 33]\n",
        "\n",
        "hogar_2004_filtered = hogar_2004[hogar_2004[\"AGLOMERADO\"].isin(ciudad_aglomerados)]\n",
        "hogar_2024_filtered = hogar_2024[hogar_2024[\"AGLOMERADO\"].isin(ciudad_aglomerados)]\n",
        "\n",
        "individual_2004_filtered = individual_2004[individual_2004[\"AGLOMERADO\"].isin(ciudad_aglomerados)]\n",
        "individual_2024_filtered = individual_2024[individual_2024[\"AGLOMERADO\"].isin(ciudad_aglomerados)]\n",
        "\n",
        "individual_2024_filtered.to_csv(\"individual_2024_filtered.csv\", index=False)\n",
        "hogar_2024_filtered.to_csv(\"hogar_2024_filtered.csv\", index=False)\n",
        "\n",
        "# Diagnóstico de las claves antes del merge\n",
        "print(\"Diagnóstico antes del merge:\")\n",
        "print(\"Valores únicos en 'CODUSU' y 'NRO_HOGAR' en hogar_2004:\", hogar_2004_filtered[[\"CODUSU\", \"NRO_HOGAR\"]].nunique())\n",
        "print(\"Valores únicos en 'CODUSU' y 'NRO_HOGAR' en individual_2004:\", individual_2004[[\"CODUSU\", \"NRO_HOGAR\"]].nunique())\n",
        "\n",
        "print(\"Valores únicos en 'CODUSU' y 'NRO_HOGAR' en hogar_2024:\", hogar_2024_filtered[[\"CODUSU\", \"NRO_HOGAR\"]].nunique())\n",
        "print(\"Valores únicos en 'CODUSU' y 'NRO_HOGAR' en individual_2024:\", individual_2024[[\"CODUSU\", \"NRO_HOGAR\"]].nunique())\n",
        "\n"
      ],
      "metadata": {
        "id": "kij4KN1-BLYH",
        "colab": {
          "base_uri": "https://localhost:8080/"
        },
        "outputId": "418068c6-9cf6-448e-a9ec-0fb5a5f238a8"
      },
      "execution_count": 3,
      "outputs": [
        {
          "output_type": "stream",
          "name": "stderr",
          "text": [
            "<ipython-input-3-5ee7d72e6116>:169: FutureWarning: Downcasting behavior in `replace` is deprecated and will be removed in a future version. To retain the old behavior, explicitly call `result.infer_objects(copy=False)`. To opt-in to the future behavior, set `pd.set_option('future.no_silent_downcasting', True)`\n",
            "  individual_2004['NIVEL_ED'] = individual_2004['NIVEL_ED'].replace(nivel_ed_mapping_inverso)\n",
            "<ipython-input-3-5ee7d72e6116>:169: FutureWarning: The behavior of Series.replace (and DataFrame.replace) with CategoricalDtype is deprecated. In a future version, replace will only be used for cases that preserve the categories. To change the categories, use ser.cat.rename_categories instead.\n",
            "  individual_2004['NIVEL_ED'] = individual_2004['NIVEL_ED'].replace(nivel_ed_mapping_inverso)\n"
          ]
        },
        {
          "output_type": "stream",
          "name": "stdout",
          "text": [
            "Diagnóstico antes del merge:\n",
            "Valores únicos en 'CODUSU' y 'NRO_HOGAR' en hogar_2004: CODUSU       2329\n",
            "NRO_HOGAR       3\n",
            "dtype: int64\n",
            "Valores únicos en 'CODUSU' y 'NRO_HOGAR' en individual_2004: CODUSU       12597\n",
            "NRO_HOGAR        6\n",
            "dtype: int64\n",
            "Valores únicos en 'CODUSU' y 'NRO_HOGAR' en hogar_2024: CODUSU       2540\n",
            "NRO_HOGAR       4\n",
            "dtype: int64\n",
            "Valores únicos en 'CODUSU' y 'NRO_HOGAR' en individual_2024: CODUSU       16005\n",
            "NRO_HOGAR        5\n",
            "dtype: int64\n"
          ]
        }
      ]
    },
    {
      "cell_type": "code",
      "source": [
        "import pandas as pd\n",
        "\n",
        "# Definir las columnas relevantes para hogares e individuales\n",
        "columnas_hogar = [\"CODUSU\", \"NRO_HOGAR\", \"REGION\", \"II7\", \"IV12_3\", \"IV6\", \"IV11\", \"II8\", \"ITF\", \"IPCF\",\"II1\",\"IX_TOT\"]\n",
        "columnas_individual = [\"CODUSU\", \"NRO_HOGAR\", \"CH03\", \"CH06\",\"CH04\",\"NIVEL_ED\", \"ESTADO\"]\n",
        "\n",
        "# Asegurarse de crear copias explícitas\n",
        "hogar_2004_filtered = hogar_2004[columnas_hogar].copy()\n",
        "individual_2004_filtered = individual_2004[columnas_individual].copy()\n",
        "\n",
        "# Convertir NRO_HOGAR a tipo entero antes de transformarlo a cadena\n",
        "hogar_2004_filtered[\"NRO_HOGAR\"] = hogar_2004_filtered[\"NRO_HOGAR\"].fillna(0).astype(int).astype(str).str.strip()\n",
        "individual_2004_filtered[\"NRO_HOGAR\"] = individual_2004_filtered[\"NRO_HOGAR\"].fillna(0).astype(int).astype(str).str.strip()\n",
        "\n",
        "# Eliminar espacios adicionales en CODUSU\n",
        "hogar_2004_filtered[\"CODUSU\"] = hogar_2004_filtered[\"CODUSU\"].str.strip()\n",
        "individual_2004_filtered[\"CODUSU\"] = individual_2004_filtered[\"CODUSU\"].str.strip()\n",
        "\n",
        "#Colocar 0 en \"Menos de Un año\"\n",
        "individual_2004_filtered['CH06'] = individual_2004_filtered['CH06'].replace(\"Menos de 1 año\", 0)\n",
        "individual_2024_filtered['CH06'] = individual_2024_filtered['CH06'].replace(\"Menos de 1 año\", 0)\n",
        "individual_2004_filtered['CH06'] = individual_2004_filtered['CH06'].replace(\"Menos de 1 aÃ±o\", 0)\n",
        "individual_2024_filtered['CH06'] = individual_2024_filtered['CH06'].replace(\"Menos de 1 aÃ±o\", 0)\n",
        "\n",
        "individual_2004_filtered['CH06'] = individual_2004_filtered['CH06'].replace(\"98 y más años\", 98)\n",
        "individual_2024_filtered['CH06'] = individual_2024_filtered['CH06'].replace(\"98 y más años\", 98)\n",
        "individual_2004_filtered['CH06'] = individual_2004_filtered['CH06'].replace(\"98 y mÃ¡s aÃ±os\", 98)\n",
        "individual_2024_filtered['CH06'] = individual_2024_filtered['CH06'].replace(\"98 y mÃ¡s aÃ±os\", 98)\n",
        "\n",
        "\n",
        "# Filtrar las columnas en las bases de hogares\n",
        "hogar_2024_filtered = hogar_2024[columnas_hogar]\n",
        "\n",
        "# Filtrar las columnas en las bases individuales\n",
        "individual_2024_filtered = individual_2024[columnas_individual]\n",
        "\n",
        "# Realizar el merge entre las bases individuales y de hogares\n",
        "base_2004_i = pd.merge(individual_2004_filtered, hogar_2004_filtered, on=[\"CODUSU\", \"NRO_HOGAR\"], how=\"inner\")\n",
        "base_2024_i = pd.merge(individual_2024_filtered, hogar_2024_filtered, on=[\"CODUSU\", \"NRO_HOGAR\"], how=\"inner\")\n",
        "\n",
        "# Unir ambas bases en una sola y agregar el año\n",
        "base_2004_i[\"YEAR\"] = 2004\n",
        "base_2024_i[\"YEAR\"] = 2024\n",
        "\n",
        "\n",
        "\n",
        "\n"
      ],
      "metadata": {
        "id": "Bf19GloyZ2FS",
        "colab": {
          "base_uri": "https://localhost:8080/"
        },
        "outputId": "6f507365-5df4-4fd9-8b31-0b88b25058cf"
      },
      "execution_count": 4,
      "outputs": [
        {
          "output_type": "stream",
          "name": "stderr",
          "text": [
            "<ipython-input-4-7731db5f546f>:20: FutureWarning: The behavior of Series.replace (and DataFrame.replace) with CategoricalDtype is deprecated. In a future version, replace will only be used for cases that preserve the categories. To change the categories, use ser.cat.rename_categories instead.\n",
            "  individual_2004_filtered['CH06'] = individual_2004_filtered['CH06'].replace(\"Menos de 1 año\", 0)\n",
            "<ipython-input-4-7731db5f546f>:21: SettingWithCopyWarning: \n",
            "A value is trying to be set on a copy of a slice from a DataFrame.\n",
            "Try using .loc[row_indexer,col_indexer] = value instead\n",
            "\n",
            "See the caveats in the documentation: https://pandas.pydata.org/pandas-docs/stable/user_guide/indexing.html#returning-a-view-versus-a-copy\n",
            "  individual_2024_filtered['CH06'] = individual_2024_filtered['CH06'].replace(\"Menos de 1 año\", 0)\n",
            "<ipython-input-4-7731db5f546f>:23: SettingWithCopyWarning: \n",
            "A value is trying to be set on a copy of a slice from a DataFrame.\n",
            "Try using .loc[row_indexer,col_indexer] = value instead\n",
            "\n",
            "See the caveats in the documentation: https://pandas.pydata.org/pandas-docs/stable/user_guide/indexing.html#returning-a-view-versus-a-copy\n",
            "  individual_2024_filtered['CH06'] = individual_2024_filtered['CH06'].replace(\"Menos de 1 aÃ±o\", 0)\n",
            "<ipython-input-4-7731db5f546f>:25: FutureWarning: Downcasting behavior in `replace` is deprecated and will be removed in a future version. To retain the old behavior, explicitly call `result.infer_objects(copy=False)`. To opt-in to the future behavior, set `pd.set_option('future.no_silent_downcasting', True)`\n",
            "  individual_2004_filtered['CH06'] = individual_2004_filtered['CH06'].replace(\"98 y más años\", 98)\n",
            "<ipython-input-4-7731db5f546f>:25: FutureWarning: The behavior of Series.replace (and DataFrame.replace) with CategoricalDtype is deprecated. In a future version, replace will only be used for cases that preserve the categories. To change the categories, use ser.cat.rename_categories instead.\n",
            "  individual_2004_filtered['CH06'] = individual_2004_filtered['CH06'].replace(\"98 y más años\", 98)\n",
            "<ipython-input-4-7731db5f546f>:26: SettingWithCopyWarning: \n",
            "A value is trying to be set on a copy of a slice from a DataFrame.\n",
            "Try using .loc[row_indexer,col_indexer] = value instead\n",
            "\n",
            "See the caveats in the documentation: https://pandas.pydata.org/pandas-docs/stable/user_guide/indexing.html#returning-a-view-versus-a-copy\n",
            "  individual_2024_filtered['CH06'] = individual_2024_filtered['CH06'].replace(\"98 y más años\", 98)\n",
            "<ipython-input-4-7731db5f546f>:28: SettingWithCopyWarning: \n",
            "A value is trying to be set on a copy of a slice from a DataFrame.\n",
            "Try using .loc[row_indexer,col_indexer] = value instead\n",
            "\n",
            "See the caveats in the documentation: https://pandas.pydata.org/pandas-docs/stable/user_guide/indexing.html#returning-a-view-versus-a-copy\n",
            "  individual_2024_filtered['CH06'] = individual_2024_filtered['CH06'].replace(\"98 y mÃ¡s aÃ±os\", 98)\n"
          ]
        }
      ]
    },
    {
      "cell_type": "markdown",
      "source": [
        "\n",
        "##3.Limpien la base de datos tomando criterios que hagan sentido. Explicar cualquier decisión como el tratamiento de valores faltantes (missing values), extremos (outliers), o variables categóricas. Justifique sus decisiones.  \n",
        "\n",
        "\n"
      ],
      "metadata": {
        "id": "6gwkPWMj1H1O"
      }
    },
    {
      "cell_type": "markdown",
      "source": [
        "Valores faltantes: Las filas con valores nulos en las variables clave (ITF, IPCF, etc.) se eliminan porque son esenciales para el análisis.\n",
        "Outliers: Los valores extremos de ingresos (ITF e IPCF) por encima del percentil 95 se eliminan para evitar sesgos.\n",
        "Variables categóricas: Las variables categóricas relevantes se convierten en numéricas usando pd.get_dummies para garantizar compatibilidad con modelos estadísticos.\n",
        "Duplicados: Se eliminan registros duplicados para mantener consistencia en los datos.\n",
        "División: Finalmente, las bases limpias se separan nuevamente en base_limpia_2004 y base_limpia_2024 para conservar la estructura de los datos originales."
      ],
      "metadata": {
        "id": "tOG-X8OG9uy6"
      }
    },
    {
      "cell_type": "code",
      "source": [
        "import pandas as pd\n",
        "\n",
        "# Mostrar información inicial\n",
        "print(f\"Registros iniciales en base_2004: {base_2004_i.shape[0]}\")\n",
        "print(f\"Registros iniciales en base_2024: {base_2024_i.shape[0]}\")\n",
        "\n",
        "# Paso 1: Eliminar filas con valores faltantes en variables clave\n",
        "variables_clave = [\"REGION\", \"II7\", \"IV12_3\", \"IV6\", \"IV11\", \"II8\", \"ITF\", \"IPCF\",\"II1\",\"CH03\", \"CH06\",\"CH04\",\"NIVEL_ED\",\"IX_TOT\",\"ESTADO\"]\n",
        "base_2004 = base_2004_i.dropna(subset=variables_clave)\n",
        "base_2024 = base_2024_i.dropna(subset=variables_clave)\n",
        "\n",
        "\n",
        "\n",
        "print(f\"Después de eliminar filas con valores faltantes:\")\n",
        "print(f\"- base_2004: {base_2004.shape[0]} registros\")\n",
        "print(f\"- base_2024: {base_2024.shape[0]} registros\")\n",
        "\n",
        "# Paso 2: Eliminar valores extremos en ITF e IPCF (por encima del percentil 95)\n",
        "for base, year in zip([base_2004, base_2024], [2004, 2024]):\n",
        "    itf_percentil_95 = base['ITF'].quantile(0.95)\n",
        "    ipcf_percentil_95 = base['IPCF'].quantile(0.95)\n",
        "    base = base[(base['ITF'] <= itf_percentil_95) & (base['IPCF'] <= ipcf_percentil_95)]\n",
        "    if year == 2004:\n",
        "        base_2004 = base\n",
        "    else:\n",
        "        base_2024 = base\n",
        "    print(f\"Después de eliminar valores extremos en ITF e IPCF (año {year}): {base.shape[0]} registros\")\n",
        "\n",
        "# Paso 3: Convertir variables categóricas relevantes a numéricas (encoding)\n",
        "variables_categoricas = ['CH04','CH03', 'II7', 'IV12_3', 'II8', 'REGION','ESTADO']\n",
        "base_2004 = pd.get_dummies(base_2004, columns=variables_categoricas, drop_first=True)\n",
        "base_2024 = pd.get_dummies(base_2024, columns=variables_categoricas)\n",
        "print(f\"Después de convertir variables categóricas a numéricas:\")\n",
        "print(f\"- base_2004: {base_2004.shape[0]} registros, {base_2004.shape[1]} columnas\")\n",
        "print(f\"- base_2024: {base_2024.shape[0]} registros, {base_2024.shape[1]} columnas\")\n",
        "\n",
        "# Paso 4: Eliminar duplicados\n",
        "base_2004 = base_2004.drop_duplicates()\n",
        "base_2024 = base_2024.drop_duplicates()\n",
        "print(f\"Después de eliminar duplicados:\")\n",
        "print(f\"- base_2004: {base_2004.shape[0]} registros\")\n",
        "print(f\"- base_2024: {base_2024.shape[0]} registros\")\n",
        "\n",
        "# Guardar las bases limpias\n",
        "base_2004.to_csv(\"base_2004_limpia.csv\", index=False)\n",
        "base_2024.to_csv(\"base_2024_limpia.csv\", index=False)\n",
        "print(\"Las bases limpias han sido guardadas como 'base_2004_limpia.csv' y 'base_2024_limpia.csv'.\")\n"
      ],
      "metadata": {
        "colab": {
          "base_uri": "https://localhost:8080/"
        },
        "id": "fGHoQgPd-yM4",
        "outputId": "9079f77d-dc70-4aa6-f03f-043be5a334fe"
      },
      "execution_count": 5,
      "outputs": [
        {
          "output_type": "stream",
          "name": "stdout",
          "text": [
            "Registros iniciales en base_2004: 45289\n",
            "Registros iniciales en base_2024: 46050\n",
            "Después de eliminar filas con valores faltantes:\n",
            "- base_2004: 45289 registros\n",
            "- base_2024: 46050 registros\n",
            "Después de eliminar valores extremos en ITF e IPCF (año 2004): 42080 registros\n",
            "Después de eliminar valores extremos en ITF e IPCF (año 2024): 42783 registros\n",
            "Después de convertir variables categóricas a numéricas:\n",
            "- base_2004: 42080 registros, 46 columnas\n",
            "- base_2024: 42783 registros, 51 columnas\n",
            "Después de eliminar duplicados:\n",
            "- base_2004: 41966 registros\n",
            "- base_2024: 42641 registros\n",
            "Las bases limpias han sido guardadas como 'base_2004_limpia.csv' y 'base_2024_limpia.csv'.\n"
          ]
        }
      ]
    },
    {
      "cell_type": "code",
      "source": [
        "print(\"hogar_2004\",hogar_2004_filtered.shape)\n",
        "print(\"hogar_2024\",hogar_2024_filtered.shape)\n",
        "print(\"individual_2004\",individual_2004_filtered.shape)\n",
        "print(\"individual_2024\",individual_2024_filtered.shape)\n",
        "print(\"base_2004\",base_2004.shape)\n",
        "print(\"base_2024\",base_2024.shape)"
      ],
      "metadata": {
        "colab": {
          "base_uri": "https://localhost:8080/"
        },
        "id": "sDzwUCEMCisN",
        "outputId": "438cbf3c-88ad-43e5-e67a-b94968e0eea2"
      },
      "execution_count": null,
      "outputs": [
        {
          "output_type": "stream",
          "name": "stdout",
          "text": [
            "hogar_2004 (12816, 12)\n",
            "hogar_2024 (16104, 12)\n",
            "individual_2004 (45289, 8)\n",
            "individual_2024 (46050, 8)\n",
            "base_2004 (41974, 48)\n",
            "base_2024 (42644, 46)\n"
          ]
        }
      ]
    },
    {
      "cell_type": "code",
      "source": [
        "\n",
        "\n",
        "filas_faltantes_2024 = base_2024_i[base_2024_i[variables_clave].isnull().any(axis=1)]\n",
        "\n"
      ],
      "metadata": {
        "id": "D0fNCtH-hlT_"
      },
      "execution_count": null,
      "outputs": []
    },
    {
      "cell_type": "markdown",
      "source": [
        "##4.\tConstruya variables (mínimo 3) que no estén en la base pero que sean relevantes para predecir individuos desocupados (por ejemplo, la proporción de personas que trabajan en el hogar)."
      ],
      "metadata": {
        "id": "h9-J1WrRBHm4"
      }
    },
    {
      "cell_type": "markdown",
      "source": [
        "Nombre corto: PORC_DEP\n",
        "Descripción: Calcula el porcentaje de personas menores de 18 años o mayores de 65 años en relación con el total de integrantes del hogar.\n",
        "Requiere variable adicional: CH04 (edad del individuo) ya debería estar incluida en la base original."
      ],
      "metadata": {
        "id": "3m_zF3nKOJIr"
      }
    },
    {
      "cell_type": "code",
      "source": [
        "# Crear una copia auxiliar de las bases para trabajar\n",
        "base_2004_aux = base_2004.copy()\n",
        "base_2024_aux = base_2024.copy()\n",
        "\n",
        "# Calcular PORC_DEP: porcentaje de dependientes en el hogar usando CH06 (edad)\n",
        "# Dependientes: personas con edad < 18 o > 65 años\n",
        "base_2004_aux[\"PORC_DEP\"] = base_2004_aux.groupby(\"CODUSU\")[\"CH06\"].transform(\n",
        "    lambda x: ((x < 18) | (x > 65)).sum() / len(x) * 100\n",
        ")\n",
        "base_2024_aux[\"PORC_DEP\"] = base_2024_aux.groupby(\"CODUSU\")[\"CH06\"].transform(\n",
        "    lambda x: ((x < 18) | (x > 65)).sum() / len(x) * 100\n",
        ")\n",
        "\n",
        "# Guardar la variable en las bases originales\n",
        "base_2004[\"PORC_DEP\"] = base_2004_aux[\"PORC_DEP\"]\n",
        "base_2024[\"PORC_DEP\"] = base_2024_aux[\"PORC_DEP\"]\n",
        "\n",
        "# Verificar el resultado\n",
        "print(\"Base 2004 con PORC_DEP:\")\n",
        "print(base_2004[[\"CODUSU\", \"NRO_HOGAR\", \"CH06\", \"PORC_DEP\"]].head())\n",
        "\n",
        "print(\"\\nBase 2024 con PORC_DEP:\")\n",
        "print(base_2024[[\"CODUSU\", \"NRO_HOGAR\", \"CH06\", \"PORC_DEP\"]].head())\n",
        "\n",
        "# Si deseas guardar las bases actualizadas\n",
        "base_2004.to_csv(\"base_2004_con_porc_dep.csv\", index=False)\n",
        "base_2024.to_csv(\"base_2024_con_porc_dep.csv\", index=False)\n",
        "\n",
        "print(\"Bases actualizadas con PORC_DEP guardadas como 'base_2004_con_porc_dep.csv' y 'base_2024_con_porc_dep.csv'.\")\n",
        "\n"
      ],
      "metadata": {
        "colab": {
          "base_uri": "https://localhost:8080/"
        },
        "id": "YBrJUpBKOJzF",
        "outputId": "531a2d4c-c2d1-4382-98e0-434d1785c7cb"
      },
      "execution_count": 6,
      "outputs": [
        {
          "output_type": "stream",
          "name": "stdout",
          "text": [
            "Base 2004 con PORC_DEP:\n",
            "   CODUSU NRO_HOGAR  CH06  PORC_DEP\n",
            "0  125098         1  79.0     100.0\n",
            "1  125397         1  67.0     100.0\n",
            "2  125515         1  74.0     100.0\n",
            "3  125558         1  54.0       0.0\n",
            "4  125558         1  51.0       0.0\n",
            "\n",
            "Base 2024 con PORC_DEP:\n",
            "                          CODUSU  NRO_HOGAR  CH06  PORC_DEP\n",
            "0  TQRMNOPUTHLMKQCDEGGFB00852588          1    44      40.0\n",
            "1  TQRMNOPUTHLMKQCDEGGFB00852588          1    22      40.0\n",
            "2  TQRMNOPUTHLMKQCDEGGFB00852588          1     3      40.0\n",
            "3  TQRMNOPPWHLLKRCDEGGFB00852574          1    54       0.0\n",
            "4  TQRMNOPPWHLLKRCDEGGFB00852574          1    53       0.0\n",
            "Bases actualizadas con PORC_DEP guardadas como 'base_2004_con_porc_dep.csv' y 'base_2024_con_porc_dep.csv'.\n"
          ]
        }
      ]
    },
    {
      "cell_type": "markdown",
      "source": [
        "2. Educación promedio del hogar\n",
        "Nombre corto: EDU_PROM\n",
        "Descripción: Se asigna un puntaje a cada nivel educativo (CH12), y se calcula el promedio para cada hogar.\n",
        "Requiere variable adicional: CH12 ya debería estar incluida en la base original.\n",
        "Asignar puntajes a los niveles educativos:\n",
        "\n",
        "1 = Jardín/preescolar\n",
        "2 = Primario\n",
        "3 = EGB\n",
        "4 = Secundario\n",
        "5 = Polimodal\n",
        "6 = Terciario\n",
        "7 = Universitario\n",
        "8 = Posgrado universitario\n",
        "9 = Educación especial (0 puntos, ya que no aporta al promedio educativo)."
      ],
      "metadata": {
        "id": "q3RqWc0WJ6Az"
      }
    },
    {
      "cell_type": "code",
      "source": [
        "import numpy as np\n",
        "\n",
        "# Asignar puntajes a los niveles educativos en NIVEL_ED\n",
        "puntajes_educativos = {\n",
        "    1: 0,  # Primario incompleto\n",
        "    2: 1,  # Primario completo\n",
        "    3: 2,  # Secundario incompleto\n",
        "    4: 3,  # Secundario completo\n",
        "    5: 4,  # Superior universitario incompleto\n",
        "    6: 5,  # Superior universitario completo\n",
        "    7: 0,  # Sin instrucción\n",
        "    9: 0   # Ns/Nr\n",
        "}\n",
        "\n",
        "# Crear una copia auxiliar para trabajar\n",
        "base_2004_aux = base_2004.copy()\n",
        "base_2024_aux = base_2024.copy()\n",
        "\n",
        "# Mapear los puntajes educativos en NIVEL_ED\n",
        "base_2004_aux[\"NIVEL_ED_SCORE\"] = base_2004_aux[\"NIVEL_ED\"].map(puntajes_educativos)\n",
        "base_2024_aux[\"NIVEL_ED_SCORE\"] = base_2024_aux[\"NIVEL_ED\"].map(puntajes_educativos)\n",
        "\n",
        "# Calcular EDU_PROM (promedio educativo por hogar, agrupado por CODUSU)\n",
        "base_2004_aux[\"EDU_PROM\"] = base_2004_aux.groupby(\"CODUSU\")[\"NIVEL_ED_SCORE\"].transform(\"mean\")\n",
        "base_2024_aux[\"EDU_PROM\"] = base_2024_aux.groupby(\"CODUSU\")[\"NIVEL_ED_SCORE\"].transform(\"mean\")\n",
        "\n",
        "# Incorporar la variable EDU_PROM en las bases originales\n",
        "base_2004[\"EDU_PROM\"] = base_2004_aux[\"EDU_PROM\"]\n",
        "base_2024[\"EDU_PROM\"] = base_2024_aux[\"EDU_PROM\"]\n",
        "\n",
        "\n",
        "\n",
        "\n",
        "# Función para convertir columnas binarias y numéricas\n",
        "def limpiar_base(df):\n",
        "    # Convertir columnas binarias (True/False) a numéricas (0 y 1)\n",
        "    columnas_binarias = ['CH04_Varón', 'CH04_Mujer', 'CH03_Jefe', 'CH03_Cónyuge/Pareja',\n",
        "                         'CH03_Hijo/Hijastro', 'CH03_Yerno/Nuera', 'CH03_Nieto',\n",
        "                         'CH03_Madre/Padre', 'CH03_Suegro', 'CH03_Hermano',\n",
        "                         'CH03_Otros familiares', 'CH03_No familiares',\n",
        "                         'REGION_1.0', 'REGION_40.0', 'REGION_41.0', 'REGION_42.0',\n",
        "                         'REGION_43.0', 'REGION_44.0',\n",
        "                         'ESTADO_Ocupado', 'ESTADO_Inactivo', 'ESTADO_Menor de 10 años']\n",
        "\n",
        "    for col in columnas_binarias:\n",
        "        if col in df.columns:\n",
        "            df[col] = df[col].astype(int)\n",
        "\n",
        "    # Verificar si las columnas 'CH06' y 'NIVEL_ED' contienen valores no numéricos\n",
        "    columnas_numericas = ['CH06', 'NIVEL_ED']\n",
        "    for col in columnas_numericas:\n",
        "        if col in df.columns:\n",
        "            # Identificar valores no numéricos\n",
        "            non_numeric_values = df[~df[col].apply(lambda x: isinstance(x, (int, float)))]\n",
        "            if not non_numeric_values.empty:\n",
        "                print(f\"Valores no numéricos encontrados en la columna {col}:\")\n",
        "                print(non_numeric_values[col].unique())\n",
        "                # Tomar acción según corresponda, por ejemplo, convertir 'Menos de 1 año' a 0\n",
        "                if col == 'CH06':\n",
        "                    df[col] = df[col].replace('Menos de 1 año', 0)\n",
        "                else:\n",
        "                    # Manejar otros casos según sea necesario\n",
        "                    pass\n",
        "            # Convertir la columna a numérica sin forzar coerción\n",
        "            df[col] = pd.to_numeric(df[col], errors='raise')\n",
        "\n",
        "    # Reemplazar infinitos con un valor grande o eliminar esas filas\n",
        "    df.replace([np.inf, -np.inf], np.nan, inplace=True)\n",
        "    # Opcional: eliminar filas con NaN o infinitos\n",
        "    df.dropna(subset=columnas_numericas, inplace=True)\n",
        "\n",
        "    return df\n",
        "\n",
        "# Aplicar la limpieza a las bases iniciales\n",
        "base_2004 = limpiar_base(base_2004)\n",
        "base_2024 = limpiar_base(base_2024)\n",
        "\n",
        "\n",
        "\n",
        "\n",
        "# Verificar el resultado\n",
        "print(\"Resumen de base_2004_aux después de la limpieza:\")\n",
        "print(base_2004_aux.info())\n",
        "\n",
        "print(\"\\nResumen de base_2024_aux después de la limpieza:\")\n",
        "print(base_2024_aux.info())\n",
        "\n",
        "# Verificar el resultado\n",
        "print(\"Base 2004 con EDU_PROM:\")\n",
        "print(base_2004[[\"CODUSU\", \"NRO_HOGAR\", \"NIVEL_ED\", \"EDU_PROM\"]].head())\n",
        "\n",
        "print(\"\\nBase 2024 con EDU_PROM:\")\n",
        "print(base_2024[[\"CODUSU\", \"NRO_HOGAR\", \"NIVEL_ED\", \"EDU_PROM\"]].head())\n",
        "\n",
        "\n",
        "#Eliminar columnas String de Educación\n",
        "base_2004 = base_2004.drop(columns=[\"NIVEL_EDU\"], errors='ignore')\n",
        "base_2024 = base_2024.drop(columns=[\"NIVEL_EDU\"], errors='ignore')\n",
        "# Guardar las bases actualizadas\n",
        "base_2004.to_csv(\"base_2004_con_edu_prom.csv\", index=False)\n",
        "base_2024.to_csv(\"base_2024_con_edu_prom.csv\", index=False)\n",
        "\n",
        "print(\"Bases actualizadas con EDU_PROM guardadas como 'base_2004_con_edu_prom.csv' y 'base_2024_con_edu_prom.csv'.\")\n"
      ],
      "metadata": {
        "colab": {
          "base_uri": "https://localhost:8080/"
        },
        "id": "eCCoAF_2Tgci",
        "outputId": "5d9a3dc6-a5c4-4621-a677-b92c7182c19f"
      },
      "execution_count": 7,
      "outputs": [
        {
          "output_type": "stream",
          "name": "stdout",
          "text": [
            "Resumen de base_2004_aux después de la limpieza:\n",
            "<class 'pandas.core.frame.DataFrame'>\n",
            "Index: 41966 entries, 0 to 45283\n",
            "Data columns (total 49 columns):\n",
            " #   Column                                       Non-Null Count  Dtype   \n",
            "---  ------                                       --------------  -----   \n",
            " 0   CODUSU                                       41966 non-null  object  \n",
            " 1   NRO_HOGAR                                    41966 non-null  object  \n",
            " 2   CH06                                         41966 non-null  category\n",
            " 3   NIVEL_ED                                     41966 non-null  category\n",
            " 4   IV6                                          41966 non-null  float64 \n",
            " 5   IV11                                         41966 non-null  float64 \n",
            " 6   ITF                                          41966 non-null  float64 \n",
            " 7   IPCF                                         41966 non-null  float64 \n",
            " 8   II1                                          41966 non-null  float64 \n",
            " 9   IX_TOT                                       41966 non-null  float64 \n",
            " 10  YEAR                                         41966 non-null  int64   \n",
            " 11  CH04_Mujer                                   41966 non-null  bool    \n",
            " 12  CH03_Cónyuge/Pareja                          41966 non-null  bool    \n",
            " 13  CH03_Hijo/Hijastro                           41966 non-null  bool    \n",
            " 14  CH03_Yerno/Nuera                             41966 non-null  bool    \n",
            " 15  CH03_Nieto                                   41966 non-null  bool    \n",
            " 16  CH03_Madre/Padre                             41966 non-null  bool    \n",
            " 17  CH03_Suegro                                  41966 non-null  bool    \n",
            " 18  CH03_Hermano                                 41966 non-null  bool    \n",
            " 19  CH03_Otros familiares                        41966 non-null  bool    \n",
            " 20  CH03_No familiares                           41966 non-null  bool    \n",
            " 21  II7_9.0                                      41966 non-null  bool    \n",
            " 22  II7_Está en sucesión                         41966 non-null  bool    \n",
            " 23  II7_Inquilino/arrendatario de la vivienda    41966 non-null  bool    \n",
            " 24  II7_Ocupante de hecho (sin permiso)          41966 non-null  bool    \n",
            " 25  II7_Ocupante en relación de dependencia      41966 non-null  bool    \n",
            " 26  II7_Ocupante gratuito (con permiso)          41966 non-null  bool    \n",
            " 27  II7_Ocupante por pago de impuestos/expensas  41966 non-null  bool    \n",
            " 28  II7_Propietario de la vivienda solamente     41966 non-null  bool    \n",
            " 29  II7_Propietario de la vivienda y el terreno  41966 non-null  bool    \n",
            " 30  IV12_3_1.0                                   41966 non-null  bool    \n",
            " 31  IV12_3_2.0                                   41966 non-null  bool    \n",
            " 32  II8_4.0                                      41966 non-null  bool    \n",
            " 33  II8_9.0                                      41966 non-null  bool    \n",
            " 34  II8_Gas de red                               41966 non-null  bool    \n",
            " 35  II8_Gas de tubo/garrafa                      41966 non-null  bool    \n",
            " 36  II8_Kerosene/leña/carbón                     41966 non-null  bool    \n",
            " 37  REGION_40.0                                  41966 non-null  bool    \n",
            " 38  REGION_41.0                                  41966 non-null  bool    \n",
            " 39  REGION_42.0                                  41966 non-null  bool    \n",
            " 40  REGION_43.0                                  41966 non-null  bool    \n",
            " 41  REGION_44.0                                  41966 non-null  bool    \n",
            " 42  ESTADO_Ocupado                               41966 non-null  bool    \n",
            " 43  ESTADO_Desocupado                            41966 non-null  bool    \n",
            " 44  ESTADO_Inactivo                              41966 non-null  bool    \n",
            " 45  ESTADO_Menor de 10 años                      41966 non-null  bool    \n",
            " 46  PORC_DEP                                     41966 non-null  float64 \n",
            " 47  NIVEL_ED_SCORE                               41966 non-null  int64   \n",
            " 48  EDU_PROM                                     41966 non-null  float64 \n",
            "dtypes: bool(35), category(2), float64(8), int64(2), object(2)\n",
            "memory usage: 5.6+ MB\n",
            "None\n",
            "\n",
            "Resumen de base_2024_aux después de la limpieza:\n",
            "<class 'pandas.core.frame.DataFrame'>\n",
            "Index: 42641 entries, 0 to 46049\n",
            "Data columns (total 54 columns):\n",
            " #   Column                                       Non-Null Count  Dtype  \n",
            "---  ------                                       --------------  -----  \n",
            " 0   CODUSU                                       42641 non-null  object \n",
            " 1   NRO_HOGAR                                    42641 non-null  int64  \n",
            " 2   CH06                                         42641 non-null  int64  \n",
            " 3   NIVEL_ED                                     42641 non-null  int64  \n",
            " 4   IV6                                          42641 non-null  int64  \n",
            " 5   IV11                                         42641 non-null  int64  \n",
            " 6   ITF                                          42641 non-null  int64  \n",
            " 7   IPCF                                         42641 non-null  float64\n",
            " 8   II1                                          42641 non-null  int64  \n",
            " 9   IX_TOT                                       42641 non-null  int64  \n",
            " 10  YEAR                                         42641 non-null  int64  \n",
            " 11  CH04_Mujer                                   42641 non-null  bool   \n",
            " 12  CH04_Varón                                   42641 non-null  bool   \n",
            " 13  CH03_Cónyuge/pareja                          42641 non-null  bool   \n",
            " 14  CH03_Hermano/a                               42641 non-null  bool   \n",
            " 15  CH03_Hijo/hijastra                           42641 non-null  bool   \n",
            " 16  CH03_Jefe/a                                  42641 non-null  bool   \n",
            " 17  CH03_Madre/padre                             42641 non-null  bool   \n",
            " 18  CH03_Nieto/a                                 42641 non-null  bool   \n",
            " 19  CH03_No familiares                           42641 non-null  bool   \n",
            " 20  CH03_Otros familiares                        42641 non-null  bool   \n",
            " 21  CH03_Suegro/a                                42641 non-null  bool   \n",
            " 22  CH03_Yerno/nuera                             42641 non-null  bool   \n",
            " 23  II7_0                                        42641 non-null  bool   \n",
            " 24  II7_9                                        42641 non-null  bool   \n",
            " 25  II7_Está en sucesión                         42641 non-null  bool   \n",
            " 26  II7_Inquilino/arrendatario de la vivienda    42641 non-null  bool   \n",
            " 27  II7_Ocupante de hecho (sin permiso)          42641 non-null  bool   \n",
            " 28  II7_Ocupante en relación de dependencia      42641 non-null  bool   \n",
            " 29  II7_Ocupante gratuito (con permiso)          42641 non-null  bool   \n",
            " 30  II7_Ocupante por pago de impuestos/expensas  42641 non-null  bool   \n",
            " 31  II7_Propietario de la vivienda solamente     42641 non-null  bool   \n",
            " 32  II7_Propietario de la vivienda y el terreno  42641 non-null  bool   \n",
            " 33  IV12_3_1                                     42641 non-null  bool   \n",
            " 34  IV12_3_2                                     42641 non-null  bool   \n",
            " 35  II8_0                                        42641 non-null  bool   \n",
            " 36  II8_4                                        42641 non-null  bool   \n",
            " 37  II8_Gas de red                               42641 non-null  bool   \n",
            " 38  II8_Gas de tubo/garrafa                      42641 non-null  bool   \n",
            " 39  II8_Kerosene/leña/carbón                     42641 non-null  bool   \n",
            " 40  REGION_1                                     42641 non-null  bool   \n",
            " 41  REGION_40                                    42641 non-null  bool   \n",
            " 42  REGION_41                                    42641 non-null  bool   \n",
            " 43  REGION_42                                    42641 non-null  bool   \n",
            " 44  REGION_43                                    42641 non-null  bool   \n",
            " 45  REGION_44                                    42641 non-null  bool   \n",
            " 46  ESTADO_Desocupado                            42641 non-null  bool   \n",
            " 47  ESTADO_Entrevista no realizada               42641 non-null  bool   \n",
            " 48  ESTADO_Inactivo                              42641 non-null  bool   \n",
            " 49  ESTADO_Menor de 10 años                      42641 non-null  bool   \n",
            " 50  ESTADO_Ocupado                               42641 non-null  bool   \n",
            " 51  PORC_DEP                                     42641 non-null  float64\n",
            " 52  NIVEL_ED_SCORE                               42641 non-null  int64  \n",
            " 53  EDU_PROM                                     42641 non-null  float64\n",
            "dtypes: bool(40), float64(3), int64(10), object(1)\n",
            "memory usage: 6.5+ MB\n",
            "None\n",
            "Base 2004 con EDU_PROM:\n",
            "   CODUSU NRO_HOGAR  NIVEL_ED  EDU_PROM\n",
            "0  125098         1         3       2.0\n",
            "1  125397         1         2       1.0\n",
            "2  125515         1         2       1.0\n",
            "3  125558         1         2       3.5\n",
            "4  125558         1         6       3.5\n",
            "\n",
            "Base 2024 con EDU_PROM:\n",
            "                          CODUSU  NRO_HOGAR  NIVEL_ED  EDU_PROM\n",
            "0  TQRMNOPUTHLMKQCDEGGFB00852588          1         3      2.40\n",
            "1  TQRMNOPUTHLMKQCDEGGFB00852588          1         5      2.40\n",
            "2  TQRMNOPUTHLMKQCDEGGFB00852588          1         7      2.40\n",
            "3  TQRMNOPPWHLLKRCDEGGFB00852574          1         4      3.75\n",
            "4  TQRMNOPPWHLLKRCDEGGFB00852574          1         4      3.75\n",
            "Bases actualizadas con EDU_PROM guardadas como 'base_2004_con_edu_prom.csv' y 'base_2024_con_edu_prom.csv'.\n"
          ]
        }
      ]
    },
    {
      "cell_type": "markdown",
      "source": [
        "Nombre corto: PERS_X_AMB\n",
        "Descripción:\n",
        "Esta variable mide el promedio de personas que habitan por cada ambiente o habitación disponible en el hogar. Se calcula dividiendo el número total de personas en el hogar (IX_TOT) entre el número de ambientes o habitaciones disponibles (II1). El valor resultante refleja la densidad de ocupación de los ambientes en cada hogar."
      ],
      "metadata": {
        "id": "k-Qy29bAURnS"
      }
    },
    {
      "cell_type": "code",
      "source": [
        "import numpy as np\n",
        "\n",
        "# Crear una copia auxiliar para trabajar\n",
        "base_2004_aux = base_2004.copy()\n",
        "base_2024_aux = base_2024.copy()\n",
        "\n",
        "# Calcular la variable PERS_X_AMB\n",
        "base_2004_aux[\"PERS_X_AMB\"] = base_2004_aux[\"IX_TOT\"] / base_2004_aux[\"II1\"]\n",
        "base_2024_aux[\"PERS_X_AMB\"] = base_2024_aux[\"IX_TOT\"] / base_2024_aux[\"II1\"]\n",
        "\n",
        "# Incorporar la variable PERS_X_AMB en las bases originales\n",
        "base_2004[\"PERS_X_AMB\"] = base_2004_aux[\"PERS_X_AMB\"]\n",
        "base_2024[\"PERS_X_AMB\"] = base_2024_aux[\"PERS_X_AMB\"]\n",
        "\n",
        "base_2004['PERS_X_AMB'].replace(np.inf, np.nan, inplace=True)\n",
        "base_2024['PERS_X_AMB'].replace(np.inf, np.nan, inplace=True)\n",
        "\n",
        "# Opcional: Imputar valores NaN con la media o la mediana\n",
        "base_2004['PERS_X_AMB'].fillna(base_2004['PERS_X_AMB'].median(), inplace=True)\n",
        "base_2024['PERS_X_AMB'].fillna(base_2024['PERS_X_AMB'].median(), inplace=True)\n",
        "\n",
        "\n",
        "# Verificar el resultado\n",
        "print(\"Distribución de la variable PERS_X_AMB en base_2004:\")\n",
        "print(base_2004[\"PERS_X_AMB\"].describe())\n",
        "\n",
        "print(\"\\nDistribución de la variable PERS_X_AMB en base_2024:\")\n",
        "print(base_2024[\"PERS_X_AMB\"].describe())\n",
        "\n",
        "# Guardar las bases actualizadas\n",
        "base_2004.to_csv(\"base_2004_con_pers_x_amb.csv\", index=False)\n",
        "base_2024.to_csv(\"base_2024_con_pers_x_amb.csv\", index=False)\n",
        "\n",
        "print(\"Bases actualizadas con PERS_X_AMB guardadas como 'base_2004_con_pers_x_amb.csv' y 'base_2024_con_pers_x_amb.csv'.\")\n",
        "\n"
      ],
      "metadata": {
        "colab": {
          "base_uri": "https://localhost:8080/"
        },
        "id": "R9hBsBGHUWNF",
        "outputId": "afad690e-6742-48a6-e4da-8ab6ab70a8de"
      },
      "execution_count": 8,
      "outputs": [
        {
          "output_type": "stream",
          "name": "stderr",
          "text": [
            "<ipython-input-8-1fd55a2491b1>:15: FutureWarning: A value is trying to be set on a copy of a DataFrame or Series through chained assignment using an inplace method.\n",
            "The behavior will change in pandas 3.0. This inplace method will never work because the intermediate object on which we are setting values always behaves as a copy.\n",
            "\n",
            "For example, when doing 'df[col].method(value, inplace=True)', try using 'df.method({col: value}, inplace=True)' or df[col] = df[col].method(value) instead, to perform the operation inplace on the original object.\n",
            "\n",
            "\n",
            "  base_2004['PERS_X_AMB'].replace(np.inf, np.nan, inplace=True)\n",
            "<ipython-input-8-1fd55a2491b1>:16: FutureWarning: A value is trying to be set on a copy of a DataFrame or Series through chained assignment using an inplace method.\n",
            "The behavior will change in pandas 3.0. This inplace method will never work because the intermediate object on which we are setting values always behaves as a copy.\n",
            "\n",
            "For example, when doing 'df[col].method(value, inplace=True)', try using 'df.method({col: value}, inplace=True)' or df[col] = df[col].method(value) instead, to perform the operation inplace on the original object.\n",
            "\n",
            "\n",
            "  base_2024['PERS_X_AMB'].replace(np.inf, np.nan, inplace=True)\n",
            "<ipython-input-8-1fd55a2491b1>:19: FutureWarning: A value is trying to be set on a copy of a DataFrame or Series through chained assignment using an inplace method.\n",
            "The behavior will change in pandas 3.0. This inplace method will never work because the intermediate object on which we are setting values always behaves as a copy.\n",
            "\n",
            "For example, when doing 'df[col].method(value, inplace=True)', try using 'df.method({col: value}, inplace=True)' or df[col] = df[col].method(value) instead, to perform the operation inplace on the original object.\n",
            "\n",
            "\n",
            "  base_2004['PERS_X_AMB'].fillna(base_2004['PERS_X_AMB'].median(), inplace=True)\n",
            "<ipython-input-8-1fd55a2491b1>:20: FutureWarning: A value is trying to be set on a copy of a DataFrame or Series through chained assignment using an inplace method.\n",
            "The behavior will change in pandas 3.0. This inplace method will never work because the intermediate object on which we are setting values always behaves as a copy.\n",
            "\n",
            "For example, when doing 'df[col].method(value, inplace=True)', try using 'df.method({col: value}, inplace=True)' or df[col] = df[col].method(value) instead, to perform the operation inplace on the original object.\n",
            "\n",
            "\n",
            "  base_2024['PERS_X_AMB'].fillna(base_2024['PERS_X_AMB'].median(), inplace=True)\n"
          ]
        },
        {
          "output_type": "stream",
          "name": "stdout",
          "text": [
            "Distribución de la variable PERS_X_AMB en base_2004:\n",
            "count    41966.000000\n",
            "mean         1.795542\n",
            "std          1.302783\n",
            "min          0.010101\n",
            "25%          1.000000\n",
            "50%          1.500000\n",
            "75%          2.000000\n",
            "max         14.000000\n",
            "Name: PERS_X_AMB, dtype: float64\n",
            "\n",
            "Distribución de la variable PERS_X_AMB en base_2024:\n",
            "count    42641.000000\n",
            "mean         1.401346\n",
            "std          0.868603\n",
            "min          0.125000\n",
            "25%          0.833333\n",
            "50%          1.250000\n",
            "75%          1.666667\n",
            "max          9.000000\n",
            "Name: PERS_X_AMB, dtype: float64\n",
            "Bases actualizadas con PERS_X_AMB guardadas como 'base_2004_con_pers_x_amb.csv' y 'base_2024_con_pers_x_amb.csv'.\n"
          ]
        }
      ]
    },
    {
      "cell_type": "markdown",
      "source": [
        "##5.\tPresenten estadísticas descriptivas de tres variables de la encuesta de hogar que ustedes creen que pueden ser relevantes para predecir la desocupación. Comenten las estadísticas obtenidas."
      ],
      "metadata": {
        "id": "TbE0y9O8Vu51"
      }
    },
    {
      "cell_type": "code",
      "source": [
        "# Seleccionar las variables relevantes\n",
        "variables_hogar = [\"CH06\", \"PORC_DEP\", \"ITF\"]\n",
        "\n",
        "# Generar estadísticas descriptivas para cada variable\n",
        "def describir_variable(base, variable, nombre_variable):\n",
        "    print(f\"\\n--- Estadísticas descriptivas para {nombre_variable} ({variable}) ---\")\n",
        "    print(base[variable].describe(percentiles=[0.25, 0.5, 0.75]))\n",
        "    if base[variable].dtype == \"object\" or base[variable].nunique() <= 10:\n",
        "        print(\"\\nFrecuencias:\")\n",
        "        print(base[variable].value_counts(normalize=True) * 100)\n",
        "\n",
        "# Estadísticas para base_2004\n",
        "print(\"=== Estadísticas descriptivas: Base 2004 ===\")\n",
        "for var in variables_hogar:\n",
        "    describir_variable(base_2004, var, var)\n",
        "\n",
        "# Estadísticas para base_2024\n",
        "print(\"\\n=== Estadísticas descriptivas: Base 2024 ===\")\n",
        "for var in variables_hogar:\n",
        "    describir_variable(base_2024, var, var)\n"
      ],
      "metadata": {
        "colab": {
          "base_uri": "https://localhost:8080/"
        },
        "id": "aiGy9xErVx3t",
        "outputId": "6c4f9a50-4ad9-420f-a19b-27a78f10b108"
      },
      "execution_count": 9,
      "outputs": [
        {
          "output_type": "stream",
          "name": "stdout",
          "text": [
            "=== Estadísticas descriptivas: Base 2004 ===\n",
            "\n",
            "--- Estadísticas descriptivas para CH06 (CH06) ---\n",
            "count    41966.000000\n",
            "mean        30.918029\n",
            "std         21.704520\n",
            "min          0.000000\n",
            "25%         13.000000\n",
            "50%         26.000000\n",
            "75%         46.000000\n",
            "max         98.000000\n",
            "Name: CH06, dtype: float64\n",
            "\n",
            "--- Estadísticas descriptivas para PORC_DEP (PORC_DEP) ---\n",
            "count    41966.000000\n",
            "mean        42.169852\n",
            "std         25.905504\n",
            "min          0.000000\n",
            "25%         25.000000\n",
            "50%         50.000000\n",
            "75%         60.000000\n",
            "max        100.000000\n",
            "Name: PORC_DEP, dtype: float64\n",
            "\n",
            "--- Estadísticas descriptivas para ITF (ITF) ---\n",
            "count    41966.000000\n",
            "mean       871.424105\n",
            "std        614.877209\n",
            "min          0.000000\n",
            "25%        400.000000\n",
            "50%        700.000000\n",
            "75%       1200.000000\n",
            "max       3000.000000\n",
            "Name: ITF, dtype: float64\n",
            "\n",
            "=== Estadísticas descriptivas: Base 2024 ===\n",
            "\n",
            "--- Estadísticas descriptivas para CH06 (CH06) ---\n",
            "count    42641.000000\n",
            "mean        36.082104\n",
            "std         22.306900\n",
            "min         -1.000000\n",
            "25%         17.000000\n",
            "50%         34.000000\n",
            "75%         53.000000\n",
            "max        101.000000\n",
            "Name: CH06, dtype: float64\n",
            "\n",
            "--- Estadísticas descriptivas para PORC_DEP (PORC_DEP) ---\n",
            "count    42641.000000\n",
            "mean        37.710185\n",
            "std         28.153696\n",
            "min          0.000000\n",
            "25%         16.666667\n",
            "50%         37.500000\n",
            "75%         50.000000\n",
            "max        100.000000\n",
            "Name: PORC_DEP, dtype: float64\n",
            "\n",
            "--- Estadísticas descriptivas para ITF (ITF) ---\n",
            "count    4.264100e+04\n",
            "mean     3.911232e+05\n",
            "std      3.444188e+05\n",
            "min      0.000000e+00\n",
            "25%      0.000000e+00\n",
            "50%      3.500000e+05\n",
            "75%      6.010000e+05\n",
            "max      1.400000e+06\n",
            "Name: ITF, dtype: float64\n"
          ]
        }
      ]
    },
    {
      "cell_type": "markdown",
      "source": [],
      "metadata": {
        "id": "Q-im5K2ARM2O"
      }
    },
    {
      "cell_type": "markdown",
      "source": [
        "**Parte II: Clasificación y regularización**"
      ],
      "metadata": {
        "id": "7QDC_MhkRB2T"
      }
    },
    {
      "cell_type": "markdown",
      "source": [
        "1.\tPara cada año, partan la base respondieron en una base de prueba y una de entrenamiento (X_train, y_train, X_test, y_test) utilizando el comando train_test_split. La base de entrenamiento debe comprender el 70% de los datos, y la semilla a utilizar (random state instance) debe ser 101. Establezca a desocupado como su variable dependiente en la base de entrenamiento (vector y). El resto de las variables serán las variables independientes (matriz X). Recuerden agregar la columna de unos (1)."
      ],
      "metadata": {
        "id": "xnmVIuNwRIRP"
      }
    },
    {
      "cell_type": "code",
      "source": [
        "# Importar bibliotecas necesarias\n",
        "import pandas as pd\n",
        "import numpy as np\n",
        "\n",
        "from sklearn.model_selection import train_test_split\n",
        "\n",
        "# Crear una copia de las bases originales\n",
        "base_2004_aux = base_2004.copy()\n",
        "base_2024_aux = base_2024.copy()\n",
        "\n",
        "base_2004_aux = base_2004_aux.drop(columns=[\"CODUSU\", \"NRO_HOGAR\"])#, \"IPCF\", \"PORC_DEP\",\"EDU_PROM\",\"PERS_X_AMB\"])\n",
        "base_2024_aux = base_2024_aux.drop(columns=[\"CODUSU\", \"NRO_HOGAR\"])#, \"IPCF\", \"PORC_DEP\",\"EDU_PROM\",\"PERS_X_AMB\"])\n",
        "\n",
        "\n",
        "\n",
        "# Paso 2: Separar en variables dependientes (y) e independientes (X)\n",
        "# Eliminar 'DESOCUPADO' y 'YEAR' de las variables independientes\n",
        "y_2004 = base_2004_aux['ESTADO_Desocupado']\n",
        "X_2004 = base_2004_aux.drop(columns=['ESTADO_Desocupado', 'YEAR'])\n",
        "\n",
        "y_2024 = base_2024_aux['ESTADO_Desocupado']\n",
        "X_2024 = base_2024_aux.drop(columns=['ESTADO_Desocupado', 'YEAR'])\n",
        "\n",
        "# Agregar columna de unos para el término constante (intercepto)\n",
        "X_2004['INTERCEPT'] = 1\n",
        "X_2024['INTERCEPT'] = 1\n",
        "base_2004_aux.to_csv(\"base_2004_aux4_2.csv\", index=False)\n",
        "\n",
        "# Paso 3: Dividir en entrenamiento (70%) y prueba (30%) con semilla 101\n",
        "X_train_2004, X_test_2004, y_train_2004, y_test_2004 = train_test_split(\n",
        "    X_2004, y_2004, test_size=0.2, stratify=y_2004, random_state=101\n",
        ")\n",
        "\n",
        "X_train_2024, X_test_2024, y_train_2024, y_test_2024 = train_test_split(\n",
        "    X_2024, y_2024, test_size=0.2, stratify=y_2024, random_state=101\n",
        ")\n",
        "\n",
        "# Paso 4: Verificar resultados\n",
        "print(\"=== Año 2004 ===\")\n",
        "print(\"Conjunto de entrenamiento (X_train):\", X_train_2004.shape)\n",
        "print(\"Conjunto de prueba (X_test):\", X_test_2004.shape)\n",
        "print(\"Variable dependiente entrenamiento (y_train):\", y_train_2004.shape)\n",
        "print(\"Variable dependiente prueba (y_test):\", y_test_2004.shape)\n",
        "\n",
        "print(\"\\n=== Año 2024 ===\")\n",
        "print(\"Conjunto de entrenamiento (X_train):\", X_train_2024.shape)\n",
        "print(\"Conjunto de prueba (X_test):\", X_test_2024.shape)\n",
        "print(\"Variable dependiente entrenamiento (y_train):\", y_train_2024.shape)\n",
        "print(\"Variable dependiente prueba (y_test):\", y_test_2024.shape)\n"
      ],
      "metadata": {
        "colab": {
          "base_uri": "https://localhost:8080/"
        },
        "id": "qP4egtF-JqpX",
        "outputId": "dfeead68-5ff4-4d15-c6a1-5f501683c285"
      },
      "execution_count": 14,
      "outputs": [
        {
          "output_type": "stream",
          "name": "stdout",
          "text": [
            "=== Año 2004 ===\n",
            "Conjunto de entrenamiento (X_train): (33572, 46)\n",
            "Conjunto de prueba (X_test): (8394, 46)\n",
            "Variable dependiente entrenamiento (y_train): (33572,)\n",
            "Variable dependiente prueba (y_test): (8394,)\n",
            "\n",
            "=== Año 2024 ===\n",
            "Conjunto de entrenamiento (X_train): (34112, 51)\n",
            "Conjunto de prueba (X_test): (8529, 51)\n",
            "Variable dependiente entrenamiento (y_train): (34112,)\n",
            "Variable dependiente prueba (y_test): (8529,)\n"
          ]
        }
      ]
    },
    {
      "cell_type": "markdown",
      "source": [
        "**2. Expliquen brevemente cómo elegirían \\lambda por validación cruzada (en Python es alpha). Detallen por qué no usarían el conjunto de prueba (test) para su elección.**"
      ],
      "metadata": {
        "id": "j-fH7n4hRPxp"
      }
    },
    {
      "cell_type": "code",
      "source": [
        "from sklearn.linear_model import LassoCV\n",
        "from sklearn.metrics import mean_squared_error\n",
        "\n",
        "# Función para realizar validación cruzada y evaluación\n",
        "def validar_lambda(X_train, y_train, X_test, y_test, alphas, year):\n",
        "    print(f\"\\n=== Año {year}: Selección de alpha mediante Validación Cruzada ===\")\n",
        "\n",
        "    # Paso 1: Entrenar Lasso con validación cruzada para seleccionar alpha\n",
        "    modelo_lasso = LassoCV(alphas=alphas, cv=5, random_state=101)\n",
        "    modelo_lasso.fit(X_train, y_train)\n",
        "\n",
        "    # Obtener el mejor alpha\n",
        "    mejor_alpha = modelo_lasso.alpha_\n",
        "    print(f\"Mejor valor de alpha (λ) para {year}: {mejor_alpha}\")\n",
        "\n",
        "    # Paso 2: Evaluar el modelo en el conjunto de prueba\n",
        "    y_pred_test = modelo_lasso.predict(X_test)\n",
        "    mse_test = mean_squared_error(y_test, y_pred_test)\n",
        "    print(f\"Error cuadrático medio en el conjunto de prueba ({year}): {mse_test:.4f}\")\n",
        "\n",
        "# Valores de alpha a evaluar\n",
        "valores_alpha = [0.01, 0.1, 1, 10, 100]\n",
        "\n",
        "#X_train_2004\n",
        "# Año 2004\n",
        "\n",
        "validar_lambda(X_train_2004, y_train_2004, X_test_2004, y_test_2004, valores_alpha, 2004)\n",
        "\n",
        "# Año 2024\n",
        "validar_lambda(X_train_2024, y_train_2024, X_test_2024, y_test_2024, valores_alpha, 2024)\n"
      ],
      "metadata": {
        "colab": {
          "base_uri": "https://localhost:8080/"
        },
        "id": "gLiVhmRC-s7V",
        "outputId": "f684cdab-3cc4-435f-a0a9-eacd5189be17"
      },
      "execution_count": 12,
      "outputs": [
        {
          "output_type": "stream",
          "name": "stdout",
          "text": [
            "\n",
            "=== Año 2004: Selección de alpha mediante Validación Cruzada ===\n",
            "Mejor valor de alpha (λ) para 2004: 0.01\n",
            "Error cuadrático medio en el conjunto de prueba (2004): 0.0166\n",
            "\n",
            "=== Año 2024: Selección de alpha mediante Validación Cruzada ===\n",
            "Mejor valor de alpha (λ) para 2024: 0.01\n",
            "Error cuadrático medio en el conjunto de prueba (2024): 0.0270\n"
          ]
        }
      ]
    },
    {
      "cell_type": "markdown",
      "source": [
        "**3.\tEn validación cruzada, ¿cuáles son las implicancias de usar un k muy pequeño o uno muy grande? Cuando k = n (con n el número de muestras), ¿cuántas veces se estima el modelo?**"
      ],
      "metadata": {
        "id": "U4kEQ--rUzz6"
      }
    },
    {
      "cell_type": "code",
      "source": [
        "from sklearn.linear_model import LassoCV\n",
        "from sklearn.metrics import mean_squared_error\n",
        "\n",
        "# Función para realizar validación cruzada y evaluación\n",
        "def validar_lambda(X_train, y_train, X_test, y_test, alphas, year):\n",
        "    print(f\"\\n=== Año {year}: Selección de alpha mediante Validación Cruzada ===\")\n",
        "\n",
        "    # Paso 1: Entrenar Lasso con validación cruzada para seleccionar alpha\n",
        "    modelo_lasso = LassoCV(alphas=alphas, cv=2, random_state=101)\n",
        "    modelo_lasso.fit(X_train, y_train)\n",
        "\n",
        "    # Obtener el mejor alpha\n",
        "    mejor_alpha = modelo_lasso.alpha_\n",
        "    print(f\"Mejor valor de alpha (λ) para {year}: {mejor_alpha}\")\n",
        "\n",
        "    # Paso 2: Evaluar el modelo en el conjunto de prueba\n",
        "    y_pred_test = modelo_lasso.predict(X_test)\n",
        "    mse_test = mean_squared_error(y_test, y_pred_test)\n",
        "    print(f\"Error cuadrático medio en el conjunto de prueba ({year}): {mse_test:.4f}\")\n",
        "\n",
        "# Valores de alpha a evaluar\n",
        "valores_alpha = [0.01, 0.1, 1, 10, 100]\n",
        "\n",
        "#X_train_2004\n",
        "# Año 2004\n",
        "X_test_2024.to_csv(\"X_test_2024.csv\", index=False)\n",
        "X_train_2024.to_csv(\"X_train_2024.csv\", index=False)\n",
        "y_test_2024.to_csv(\"y_test_2024.csv\", index=False)\n",
        "y_train_2024.to_csv(\"y_train_2024.csv\", index=False)\n",
        "\n",
        "validar_lambda(X_train_2004, y_train_2004, X_test_2004, y_test_2004, valores_alpha, 2004)\n",
        "\n",
        "# Año 2024\n",
        "validar_lambda(X_train_2024, y_train_2024, X_test_2024, y_test_2024, valores_alpha, 2024)"
      ],
      "metadata": {
        "colab": {
          "base_uri": "https://localhost:8080/"
        },
        "id": "ywGUGzFlUy-S",
        "outputId": "70abc42f-bcfe-47bf-e20e-61a9a8b029d8"
      },
      "execution_count": null,
      "outputs": [
        {
          "output_type": "stream",
          "name": "stdout",
          "text": [
            "\n",
            "=== Año 2004: Selección de alpha mediante Validación Cruzada ===\n",
            "Mejor valor de alpha (λ) para 2004: 0.01\n",
            "Error cuadrático medio en el conjunto de prueba (2004): 0.0166\n",
            "\n",
            "=== Año 2024: Selección de alpha mediante Validación Cruzada ===\n",
            "Mejor valor de alpha (λ) para 2024: 0.01\n",
            "Error cuadrático medio en el conjunto de prueba (2024): 0.0270\n"
          ]
        }
      ]
    },
    {
      "cell_type": "code",
      "source": [
        "# Importar librerías\n",
        "from sklearn.linear_model import LogisticRegression\n",
        "from sklearn.metrics import confusion_matrix, roc_curve, roc_auc_score, accuracy_score\n",
        "import matplotlib.pyplot as plt\n",
        "from sklearn.model_selection import cross_val_score\n",
        "\n",
        "# Función para entrenar y evaluar regresión logística con penalización\n",
        "def evaluar_logistica(X_train, y_train, X_test, y_test, penalty_type, year):\n",
        "    print(f\"\\n=== Año {year} - Regularización {penalty_type.upper()} ===\")\n",
        "\n",
        "    # Inicializar el modelo de regresión logística\n",
        "    modelo = LogisticRegression(penalty=penalty_type, C=1.0, solver='liblinear', random_state=101)\n",
        "\n",
        "    # Entrenar el modelo\n",
        "    modelo.fit(X_train, y_train)\n",
        "\n",
        "    # Predicciones\n",
        "    y_pred = modelo.predict(X_test)\n",
        "    y_pred_proba = modelo.predict_proba(X_test)[:, 1]\n",
        "\n",
        "    # Evaluar matriz de confusión\n",
        "    matriz_confusion = confusion_matrix(y_test, y_pred)\n",
        "    print(\"Matriz de Confusión:\")\n",
        "    print(matriz_confusion)\n",
        "\n",
        "    # Calcular métricas\n",
        "    auc = roc_auc_score(y_test, y_pred_proba)\n",
        "    accuracy = accuracy_score(y_test, y_pred)\n",
        "    print(f\"AUC: {auc:.4f}\")\n",
        "    print(f\"Accuracy: {accuracy:.4f}\")\n",
        "\n",
        "    # Curva ROC\n",
        "    fpr, tpr, _ = roc_curve(y_test, y_pred_proba)\n",
        "    plt.plot(fpr, tpr, label=f\"ROC Curve ({penalty_type.upper()}) - AUC: {auc:.4f}\")\n",
        "    plt.plot([0, 1], [0, 1], 'k--')  # Diagonal\n",
        "    plt.xlabel(\"FPR\")\n",
        "    plt.ylabel(\"TPR\")\n",
        "    plt.title(f\"Curva ROC - Año {year} - Penalización {penalty_type.upper()}\")\n",
        "    plt.legend()\n",
        "    plt.show()\n",
        "\n",
        "\n",
        "from sklearn.model_selection import cross_val_score\n",
        "\n",
        "#scores = cross_val_score(\n",
        "#    LogisticRegression(penalty='l1', solver='liblinear', class_weight='balanced', C=1),\n",
        "#    X_2004, y_2004, cv=5, scoring='f1'\n",
        "#)\n",
        "#print(\"F1-Score en Validación Cruzada:\", scores)\n",
        "\n",
        "\n",
        "# Evaluación para Año 2004\n",
        "evaluar_logistica(X_train_2004, y_train_2004, X_test_2004, y_test_2004, \"l1\", 2004)\n",
        "evaluar_logistica(X_train_2004, y_train_2004, X_test_2004, y_test_2004, \"l2\", 2004)\n",
        "\n",
        "# Evaluación para Año 2024\n",
        "evaluar_logistica(X_train_2024, y_train_2024, X_test_2024, y_test_2024, \"l1\", 2024)\n",
        "evaluar_logistica(X_train_2024, y_train_2024, X_test_2024, y_test_2024, \"l2\", 2024)\n"
      ],
      "metadata": {
        "id": "0iyPPlNNWieo",
        "colab": {
          "base_uri": "https://localhost:8080/",
          "height": 1000
        },
        "outputId": "ca01e40a-0604-465d-d113-fa5073b59038"
      },
      "execution_count": 15,
      "outputs": [
        {
          "output_type": "stream",
          "name": "stdout",
          "text": [
            "\n",
            "=== Año 2004 - Regularización L1 ===\n",
            "Matriz de Confusión:\n",
            "[[7857    7]\n",
            " [   0  530]]\n",
            "AUC: 0.9998\n",
            "Accuracy: 0.9992\n"
          ]
        },
        {
          "output_type": "display_data",
          "data": {
            "text/plain": [
              "<Figure size 640x480 with 1 Axes>"
            ],
            "image/png": "[encoded data removed]"
          },
          "metadata": {}
        },
        {
          "output_type": "stream",
          "name": "stdout",
          "text": [
            "\n",
            "=== Año 2004 - Regularización L2 ===\n",
            "Matriz de Confusión:\n",
            "[[7857    7]\n",
            " [   0  530]]\n",
            "AUC: 0.9996\n",
            "Accuracy: 0.9992\n"
          ]
        },
        {
          "output_type": "display_data",
          "data": {
            "text/plain": [
              "<Figure size 640x480 with 1 Axes>"
            ],
            "image/png": "[encoded data removed]"
          },
          "metadata": {}
        },
        {
          "output_type": "stream",
          "name": "stdout",
          "text": [
            "\n",
            "=== Año 2024 - Regularización L1 ===\n",
            "Matriz de Confusión:\n",
            "[[8262    0]\n",
            " [   0  267]]\n",
            "AUC: 1.0000\n",
            "Accuracy: 1.0000\n"
          ]
        },
        {
          "output_type": "display_data",
          "data": {
            "text/plain": [
              "<Figure size 640x480 with 1 Axes>"
            ],
            "image/png": "[encoded data removed]"
          },
          "metadata": {}
        },
        {
          "output_type": "stream",
          "name": "stdout",
          "text": [
            "\n",
            "=== Año 2024 - Regularización L2 ===\n",
            "Matriz de Confusión:\n",
            "[[8262    0]\n",
            " [ 267    0]]\n",
            "AUC: 0.6403\n",
            "Accuracy: 0.9687\n"
          ]
        },
        {
          "output_type": "display_data",
          "data": {
            "text/plain": [
              "<Figure size 640x480 with 1 Axes>"
            ],
            "image/png": "[encoded data removed]"
          },
          "metadata": {}
        }
      ]
    },
    {
      "cell_type": "code",
      "source": [
        "from statsmodels.stats.outliers_influence import variance_inflation_factor\n",
        "\n",
        "def calcular_vif(X):\n",
        "    vif = pd.DataFrame()\n",
        "    vif[\"Variable\"] = X.columns\n",
        "    vif[\"VIF\"] = [variance_inflation_factor(X.values, i) for i in range(X.shape[1])]\n",
        "    return vif\n",
        "\n",
        "# Eliminar la columna INTERCEPT antes de calcular VIF\n",
        "X_2004_sin_intercept = X_2004.drop(columns=['INTERCEPT'])\n",
        "vif_resultados = calcular_vif(X_2004_sin_intercept)\n",
        "print(vif_resultados)\n"
      ],
      "metadata": {
        "id": "PNoivGn8sqIL",
        "outputId": "d05a4df0-cab5-418b-e3ed-120cd5bc2bee",
        "colab": {
          "base_uri": "https://localhost:8080/",
          "height": 356
        }
      },
      "execution_count": null,
      "outputs": [
        {
          "output_type": "error",
          "ename": "TypeError",
          "evalue": "ufunc 'isfinite' not supported for the input types, and the inputs could not be safely coerced to any supported types according to the casting rule ''safe''",
          "traceback": [
            "\u001b[0;31m---------------------------------------------------------------------------\u001b[0m",
            "\u001b[0;31mTypeError\u001b[0m                                 Traceback (most recent call last)",
            "\u001b[0;32m<ipython-input-94-856b27d65ecc>\u001b[0m in \u001b[0;36m<cell line: 11>\u001b[0;34m()\u001b[0m\n\u001b[1;32m      9\u001b[0m \u001b[0;31m# Eliminar la columna INTERCEPT antes de calcular VIF\u001b[0m\u001b[0;34m\u001b[0m\u001b[0;34m\u001b[0m\u001b[0m\n\u001b[1;32m     10\u001b[0m \u001b[0mX_2004_sin_intercept\u001b[0m \u001b[0;34m=\u001b[0m \u001b[0mX_2004\u001b[0m\u001b[0;34m.\u001b[0m\u001b[0mdrop\u001b[0m\u001b[0;34m(\u001b[0m\u001b[0mcolumns\u001b[0m\u001b[0;34m=\u001b[0m\u001b[0;34m[\u001b[0m\u001b[0;34m'INTERCEPT'\u001b[0m\u001b[0;34m]\u001b[0m\u001b[0;34m)\u001b[0m\u001b[0;34m\u001b[0m\u001b[0;34m\u001b[0m\u001b[0m\n\u001b[0;32m---> 11\u001b[0;31m \u001b[0mvif_resultados\u001b[0m \u001b[0;34m=\u001b[0m \u001b[0mcalcular_vif\u001b[0m\u001b[0;34m(\u001b[0m\u001b[0mX_2004_sin_intercept\u001b[0m\u001b[0;34m)\u001b[0m\u001b[0;34m\u001b[0m\u001b[0;34m\u001b[0m\u001b[0m\n\u001b[0m\u001b[1;32m     12\u001b[0m \u001b[0mprint\u001b[0m\u001b[0;34m(\u001b[0m\u001b[0mvif_resultados\u001b[0m\u001b[0;34m)\u001b[0m\u001b[0;34m\u001b[0m\u001b[0;34m\u001b[0m\u001b[0m\n",
            "\u001b[0;32m<ipython-input-94-856b27d65ecc>\u001b[0m in \u001b[0;36mcalcular_vif\u001b[0;34m(X)\u001b[0m\n\u001b[1;32m      4\u001b[0m     \u001b[0mvif\u001b[0m \u001b[0;34m=\u001b[0m \u001b[0mpd\u001b[0m\u001b[0;34m.\u001b[0m\u001b[0mDataFrame\u001b[0m\u001b[0;34m(\u001b[0m\u001b[0;34m)\u001b[0m\u001b[0;34m\u001b[0m\u001b[0;34m\u001b[0m\u001b[0m\n\u001b[1;32m      5\u001b[0m     \u001b[0mvif\u001b[0m\u001b[0;34m[\u001b[0m\u001b[0;34m\"Variable\"\u001b[0m\u001b[0;34m]\u001b[0m \u001b[0;34m=\u001b[0m \u001b[0mX\u001b[0m\u001b[0;34m.\u001b[0m\u001b[0mcolumns\u001b[0m\u001b[0;34m\u001b[0m\u001b[0;34m\u001b[0m\u001b[0m\n\u001b[0;32m----> 6\u001b[0;31m     \u001b[0mvif\u001b[0m\u001b[0;34m[\u001b[0m\u001b[0;34m\"VIF\"\u001b[0m\u001b[0;34m]\u001b[0m \u001b[0;34m=\u001b[0m \u001b[0;34m[\u001b[0m\u001b[0mvariance_inflation_factor\u001b[0m\u001b[0;34m(\u001b[0m\u001b[0mX\u001b[0m\u001b[0;34m.\u001b[0m\u001b[0mvalues\u001b[0m\u001b[0;34m,\u001b[0m \u001b[0mi\u001b[0m\u001b[0;34m)\u001b[0m \u001b[0;32mfor\u001b[0m \u001b[0mi\u001b[0m \u001b[0;32min\u001b[0m \u001b[0mrange\u001b[0m\u001b[0;34m(\u001b[0m\u001b[0mX\u001b[0m\u001b[0;34m.\u001b[0m\u001b[0mshape\u001b[0m\u001b[0;34m[\u001b[0m\u001b[0;36m1\u001b[0m\u001b[0;34m]\u001b[0m\u001b[0;34m)\u001b[0m\u001b[0;34m]\u001b[0m\u001b[0;34m\u001b[0m\u001b[0;34m\u001b[0m\u001b[0m\n\u001b[0m\u001b[1;32m      7\u001b[0m     \u001b[0;32mreturn\u001b[0m \u001b[0mvif\u001b[0m\u001b[0;34m\u001b[0m\u001b[0;34m\u001b[0m\u001b[0m\n\u001b[1;32m      8\u001b[0m \u001b[0;34m\u001b[0m\u001b[0m\n",
            "\u001b[0;32m<ipython-input-94-856b27d65ecc>\u001b[0m in \u001b[0;36m<listcomp>\u001b[0;34m(.0)\u001b[0m\n\u001b[1;32m      4\u001b[0m     \u001b[0mvif\u001b[0m \u001b[0;34m=\u001b[0m \u001b[0mpd\u001b[0m\u001b[0;34m.\u001b[0m\u001b[0mDataFrame\u001b[0m\u001b[0;34m(\u001b[0m\u001b[0;34m)\u001b[0m\u001b[0;34m\u001b[0m\u001b[0;34m\u001b[0m\u001b[0m\n\u001b[1;32m      5\u001b[0m     \u001b[0mvif\u001b[0m\u001b[0;34m[\u001b[0m\u001b[0;34m\"Variable\"\u001b[0m\u001b[0;34m]\u001b[0m \u001b[0;34m=\u001b[0m \u001b[0mX\u001b[0m\u001b[0;34m.\u001b[0m\u001b[0mcolumns\u001b[0m\u001b[0;34m\u001b[0m\u001b[0;34m\u001b[0m\u001b[0m\n\u001b[0;32m----> 6\u001b[0;31m     \u001b[0mvif\u001b[0m\u001b[0;34m[\u001b[0m\u001b[0;34m\"VIF\"\u001b[0m\u001b[0;34m]\u001b[0m \u001b[0;34m=\u001b[0m \u001b[0;34m[\u001b[0m\u001b[0mvariance_inflation_factor\u001b[0m\u001b[0;34m(\u001b[0m\u001b[0mX\u001b[0m\u001b[0;34m.\u001b[0m\u001b[0mvalues\u001b[0m\u001b[0;34m,\u001b[0m \u001b[0mi\u001b[0m\u001b[0;34m)\u001b[0m \u001b[0;32mfor\u001b[0m \u001b[0mi\u001b[0m \u001b[0;32min\u001b[0m \u001b[0mrange\u001b[0m\u001b[0;34m(\u001b[0m\u001b[0mX\u001b[0m\u001b[0;34m.\u001b[0m\u001b[0mshape\u001b[0m\u001b[0;34m[\u001b[0m\u001b[0;36m1\u001b[0m\u001b[0;34m]\u001b[0m\u001b[0;34m)\u001b[0m\u001b[0;34m]\u001b[0m\u001b[0;34m\u001b[0m\u001b[0;34m\u001b[0m\u001b[0m\n\u001b[0m\u001b[1;32m      7\u001b[0m     \u001b[0;32mreturn\u001b[0m \u001b[0mvif\u001b[0m\u001b[0;34m\u001b[0m\u001b[0;34m\u001b[0m\u001b[0m\n\u001b[1;32m      8\u001b[0m \u001b[0;34m\u001b[0m\u001b[0m\n",
            "\u001b[0;32m/usr/local/lib/python3.10/dist-packages/statsmodels/stats/outliers_influence.py\u001b[0m in \u001b[0;36mvariance_inflation_factor\u001b[0;34m(exog, exog_idx)\u001b[0m\n\u001b[1;32m    194\u001b[0m     \u001b[0mmask\u001b[0m \u001b[0;34m=\u001b[0m \u001b[0mnp\u001b[0m\u001b[0;34m.\u001b[0m\u001b[0marange\u001b[0m\u001b[0;34m(\u001b[0m\u001b[0mk_vars\u001b[0m\u001b[0;34m)\u001b[0m \u001b[0;34m!=\u001b[0m \u001b[0mexog_idx\u001b[0m\u001b[0;34m\u001b[0m\u001b[0;34m\u001b[0m\u001b[0m\n\u001b[1;32m    195\u001b[0m     \u001b[0mx_noti\u001b[0m \u001b[0;34m=\u001b[0m \u001b[0mexog\u001b[0m\u001b[0;34m[\u001b[0m\u001b[0;34m:\u001b[0m\u001b[0;34m,\u001b[0m \u001b[0mmask\u001b[0m\u001b[0;34m]\u001b[0m\u001b[0;34m\u001b[0m\u001b[0;34m\u001b[0m\u001b[0m\n\u001b[0;32m--> 196\u001b[0;31m     \u001b[0mr_squared_i\u001b[0m \u001b[0;34m=\u001b[0m \u001b[0mOLS\u001b[0m\u001b[0;34m(\u001b[0m\u001b[0mx_i\u001b[0m\u001b[0;34m,\u001b[0m \u001b[0mx_noti\u001b[0m\u001b[0;34m)\u001b[0m\u001b[0;34m.\u001b[0m\u001b[0mfit\u001b[0m\u001b[0;34m(\u001b[0m\u001b[0;34m)\u001b[0m\u001b[0;34m.\u001b[0m\u001b[0mrsquared\u001b[0m\u001b[0;34m\u001b[0m\u001b[0;34m\u001b[0m\u001b[0m\n\u001b[0m\u001b[1;32m    197\u001b[0m     \u001b[0mvif\u001b[0m \u001b[0;34m=\u001b[0m \u001b[0;36m1.\u001b[0m \u001b[0;34m/\u001b[0m \u001b[0;34m(\u001b[0m\u001b[0;36m1.\u001b[0m \u001b[0;34m-\u001b[0m \u001b[0mr_squared_i\u001b[0m\u001b[0;34m)\u001b[0m\u001b[0;34m\u001b[0m\u001b[0;34m\u001b[0m\u001b[0m\n\u001b[1;32m    198\u001b[0m     \u001b[0;32mreturn\u001b[0m \u001b[0mvif\u001b[0m\u001b[0;34m\u001b[0m\u001b[0;34m\u001b[0m\u001b[0m\n",
            "\u001b[0;32m/usr/local/lib/python3.10/dist-packages/statsmodels/regression/linear_model.py\u001b[0m in \u001b[0;36m__init__\u001b[0;34m(self, endog, exog, missing, hasconst, **kwargs)\u001b[0m\n\u001b[1;32m    919\u001b[0m                    \"An exception will be raised in the next version.\")\n\u001b[1;32m    920\u001b[0m             \u001b[0mwarnings\u001b[0m\u001b[0;34m.\u001b[0m\u001b[0mwarn\u001b[0m\u001b[0;34m(\u001b[0m\u001b[0mmsg\u001b[0m\u001b[0;34m,\u001b[0m \u001b[0mValueWarning\u001b[0m\u001b[0;34m)\u001b[0m\u001b[0;34m\u001b[0m\u001b[0;34m\u001b[0m\u001b[0m\n\u001b[0;32m--> 921\u001b[0;31m         super().__init__(endog, exog, missing=missing,\n\u001b[0m\u001b[1;32m    922\u001b[0m                                   hasconst=hasconst, **kwargs)\n\u001b[1;32m    923\u001b[0m         \u001b[0;32mif\u001b[0m \u001b[0;34m\"weights\"\u001b[0m \u001b[0;32min\u001b[0m \u001b[0mself\u001b[0m\u001b[0;34m.\u001b[0m\u001b[0m_init_keys\u001b[0m\u001b[0;34m:\u001b[0m\u001b[0;34m\u001b[0m\u001b[0;34m\u001b[0m\u001b[0m\n",
            "\u001b[0;32m/usr/local/lib/python3.10/dist-packages/statsmodels/regression/linear_model.py\u001b[0m in \u001b[0;36m__init__\u001b[0;34m(self, endog, exog, weights, missing, hasconst, **kwargs)\u001b[0m\n\u001b[1;32m    744\u001b[0m         \u001b[0;32melse\u001b[0m\u001b[0;34m:\u001b[0m\u001b[0;34m\u001b[0m\u001b[0;34m\u001b[0m\u001b[0m\n\u001b[1;32m    745\u001b[0m             \u001b[0mweights\u001b[0m \u001b[0;34m=\u001b[0m \u001b[0mweights\u001b[0m\u001b[0;34m.\u001b[0m\u001b[0msqueeze\u001b[0m\u001b[0;34m(\u001b[0m\u001b[0;34m)\u001b[0m\u001b[0;34m\u001b[0m\u001b[0;34m\u001b[0m\u001b[0m\n\u001b[0;32m--> 746\u001b[0;31m         super().__init__(endog, exog, missing=missing,\n\u001b[0m\u001b[1;32m    747\u001b[0m                                   weights=weights, hasconst=hasconst, **kwargs)\n\u001b[1;32m    748\u001b[0m         \u001b[0mnobs\u001b[0m \u001b[0;34m=\u001b[0m \u001b[0mself\u001b[0m\u001b[0;34m.\u001b[0m\u001b[0mexog\u001b[0m\u001b[0;34m.\u001b[0m\u001b[0mshape\u001b[0m\u001b[0;34m[\u001b[0m\u001b[0;36m0\u001b[0m\u001b[0;34m]\u001b[0m\u001b[0;34m\u001b[0m\u001b[0;34m\u001b[0m\u001b[0m\n",
            "\u001b[0;32m/usr/local/lib/python3.10/dist-packages/statsmodels/regression/linear_model.py\u001b[0m in \u001b[0;36m__init__\u001b[0;34m(self, endog, exog, **kwargs)\u001b[0m\n\u001b[1;32m    198\u001b[0m     \"\"\"\n\u001b[1;32m    199\u001b[0m     \u001b[0;32mdef\u001b[0m \u001b[0m__init__\u001b[0m\u001b[0;34m(\u001b[0m\u001b[0mself\u001b[0m\u001b[0;34m,\u001b[0m \u001b[0mendog\u001b[0m\u001b[0;34m,\u001b[0m \u001b[0mexog\u001b[0m\u001b[0;34m,\u001b[0m \u001b[0;34m**\u001b[0m\u001b[0mkwargs\u001b[0m\u001b[0;34m)\u001b[0m\u001b[0;34m:\u001b[0m\u001b[0;34m\u001b[0m\u001b[0;34m\u001b[0m\u001b[0m\n\u001b[0;32m--> 200\u001b[0;31m         \u001b[0msuper\u001b[0m\u001b[0;34m(\u001b[0m\u001b[0;34m)\u001b[0m\u001b[0;34m.\u001b[0m\u001b[0m__init__\u001b[0m\u001b[0;34m(\u001b[0m\u001b[0mendog\u001b[0m\u001b[0;34m,\u001b[0m \u001b[0mexog\u001b[0m\u001b[0;34m,\u001b[0m \u001b[0;34m**\u001b[0m\u001b[0mkwargs\u001b[0m\u001b[0;34m)\u001b[0m\u001b[0;34m\u001b[0m\u001b[0;34m\u001b[0m\u001b[0m\n\u001b[0m\u001b[1;32m    201\u001b[0m         \u001b[0mself\u001b[0m\u001b[0;34m.\u001b[0m\u001b[0mpinv_wexog\u001b[0m\u001b[0;34m:\u001b[0m \u001b[0mFloat64Array\u001b[0m \u001b[0;34m|\u001b[0m \u001b[0;32mNone\u001b[0m \u001b[0;34m=\u001b[0m \u001b[0;32mNone\u001b[0m\u001b[0;34m\u001b[0m\u001b[0;34m\u001b[0m\u001b[0m\n\u001b[1;32m    202\u001b[0m         \u001b[0mself\u001b[0m\u001b[0;34m.\u001b[0m\u001b[0m_data_attr\u001b[0m\u001b[0;34m.\u001b[0m\u001b[0mextend\u001b[0m\u001b[0;34m(\u001b[0m\u001b[0;34m[\u001b[0m\u001b[0;34m'pinv_wexog'\u001b[0m\u001b[0;34m,\u001b[0m \u001b[0;34m'wendog'\u001b[0m\u001b[0;34m,\u001b[0m \u001b[0;34m'wexog'\u001b[0m\u001b[0;34m,\u001b[0m \u001b[0;34m'weights'\u001b[0m\u001b[0;34m]\u001b[0m\u001b[0;34m)\u001b[0m\u001b[0;34m\u001b[0m\u001b[0;34m\u001b[0m\u001b[0m\n",
            "\u001b[0;32m/usr/local/lib/python3.10/dist-packages/statsmodels/base/model.py\u001b[0m in \u001b[0;36m__init__\u001b[0;34m(self, endog, exog, **kwargs)\u001b[0m\n\u001b[1;32m    268\u001b[0m \u001b[0;34m\u001b[0m\u001b[0m\n\u001b[1;32m    269\u001b[0m     \u001b[0;32mdef\u001b[0m \u001b[0m__init__\u001b[0m\u001b[0;34m(\u001b[0m\u001b[0mself\u001b[0m\u001b[0;34m,\u001b[0m \u001b[0mendog\u001b[0m\u001b[0;34m,\u001b[0m \u001b[0mexog\u001b[0m\u001b[0;34m=\u001b[0m\u001b[0;32mNone\u001b[0m\u001b[0;34m,\u001b[0m \u001b[0;34m**\u001b[0m\u001b[0mkwargs\u001b[0m\u001b[0;34m)\u001b[0m\u001b[0;34m:\u001b[0m\u001b[0;34m\u001b[0m\u001b[0;34m\u001b[0m\u001b[0m\n\u001b[0;32m--> 270\u001b[0;31m         \u001b[0msuper\u001b[0m\u001b[0;34m(\u001b[0m\u001b[0;34m)\u001b[0m\u001b[0;34m.\u001b[0m\u001b[0m__init__\u001b[0m\u001b[0;34m(\u001b[0m\u001b[0mendog\u001b[0m\u001b[0;34m,\u001b[0m \u001b[0mexog\u001b[0m\u001b[0;34m,\u001b[0m \u001b[0;34m**\u001b[0m\u001b[0mkwargs\u001b[0m\u001b[0;34m)\u001b[0m\u001b[0;34m\u001b[0m\u001b[0;34m\u001b[0m\u001b[0m\n\u001b[0m\u001b[1;32m    271\u001b[0m         \u001b[0mself\u001b[0m\u001b[0;34m.\u001b[0m\u001b[0minitialize\u001b[0m\u001b[0;34m(\u001b[0m\u001b[0;34m)\u001b[0m\u001b[0;34m\u001b[0m\u001b[0;34m\u001b[0m\u001b[0m\n\u001b[1;32m    272\u001b[0m \u001b[0;34m\u001b[0m\u001b[0m\n",
            "\u001b[0;32m/usr/local/lib/python3.10/dist-packages/statsmodels/base/model.py\u001b[0m in \u001b[0;36m__init__\u001b[0;34m(self, endog, exog, **kwargs)\u001b[0m\n\u001b[1;32m     93\u001b[0m         \u001b[0mmissing\u001b[0m \u001b[0;34m=\u001b[0m \u001b[0mkwargs\u001b[0m\u001b[0;34m.\u001b[0m\u001b[0mpop\u001b[0m\u001b[0;34m(\u001b[0m\u001b[0;34m'missing'\u001b[0m\u001b[0;34m,\u001b[0m \u001b[0;34m'none'\u001b[0m\u001b[0;34m)\u001b[0m\u001b[0;34m\u001b[0m\u001b[0;34m\u001b[0m\u001b[0m\n\u001b[1;32m     94\u001b[0m         \u001b[0mhasconst\u001b[0m \u001b[0;34m=\u001b[0m \u001b[0mkwargs\u001b[0m\u001b[0;34m.\u001b[0m\u001b[0mpop\u001b[0m\u001b[0;34m(\u001b[0m\u001b[0;34m'hasconst'\u001b[0m\u001b[0;34m,\u001b[0m \u001b[0;32mNone\u001b[0m\u001b[0;34m)\u001b[0m\u001b[0;34m\u001b[0m\u001b[0;34m\u001b[0m\u001b[0m\n\u001b[0;32m---> 95\u001b[0;31m         self.data = self._handle_data(endog, exog, missing, hasconst,\n\u001b[0m\u001b[1;32m     96\u001b[0m                                       **kwargs)\n\u001b[1;32m     97\u001b[0m         \u001b[0mself\u001b[0m\u001b[0;34m.\u001b[0m\u001b[0mk_constant\u001b[0m \u001b[0;34m=\u001b[0m \u001b[0mself\u001b[0m\u001b[0;34m.\u001b[0m\u001b[0mdata\u001b[0m\u001b[0;34m.\u001b[0m\u001b[0mk_constant\u001b[0m\u001b[0;34m\u001b[0m\u001b[0;34m\u001b[0m\u001b[0m\n",
            "\u001b[0;32m/usr/local/lib/python3.10/dist-packages/statsmodels/base/model.py\u001b[0m in \u001b[0;36m_handle_data\u001b[0;34m(self, endog, exog, missing, hasconst, **kwargs)\u001b[0m\n\u001b[1;32m    133\u001b[0m \u001b[0;34m\u001b[0m\u001b[0m\n\u001b[1;32m    134\u001b[0m     \u001b[0;32mdef\u001b[0m \u001b[0m_handle_data\u001b[0m\u001b[0;34m(\u001b[0m\u001b[0mself\u001b[0m\u001b[0;34m,\u001b[0m \u001b[0mendog\u001b[0m\u001b[0;34m,\u001b[0m \u001b[0mexog\u001b[0m\u001b[0;34m,\u001b[0m \u001b[0mmissing\u001b[0m\u001b[0;34m,\u001b[0m \u001b[0mhasconst\u001b[0m\u001b[0;34m,\u001b[0m \u001b[0;34m**\u001b[0m\u001b[0mkwargs\u001b[0m\u001b[0;34m)\u001b[0m\u001b[0;34m:\u001b[0m\u001b[0;34m\u001b[0m\u001b[0;34m\u001b[0m\u001b[0m\n\u001b[0;32m--> 135\u001b[0;31m         \u001b[0mdata\u001b[0m \u001b[0;34m=\u001b[0m \u001b[0mhandle_data\u001b[0m\u001b[0;34m(\u001b[0m\u001b[0mendog\u001b[0m\u001b[0;34m,\u001b[0m \u001b[0mexog\u001b[0m\u001b[0;34m,\u001b[0m \u001b[0mmissing\u001b[0m\u001b[0;34m,\u001b[0m \u001b[0mhasconst\u001b[0m\u001b[0;34m,\u001b[0m \u001b[0;34m**\u001b[0m\u001b[0mkwargs\u001b[0m\u001b[0;34m)\u001b[0m\u001b[0;34m\u001b[0m\u001b[0;34m\u001b[0m\u001b[0m\n\u001b[0m\u001b[1;32m    136\u001b[0m         \u001b[0;31m# kwargs arrays could have changed, easier to just attach here\u001b[0m\u001b[0;34m\u001b[0m\u001b[0;34m\u001b[0m\u001b[0m\n\u001b[1;32m    137\u001b[0m         \u001b[0;32mfor\u001b[0m \u001b[0mkey\u001b[0m \u001b[0;32min\u001b[0m \u001b[0mkwargs\u001b[0m\u001b[0;34m:\u001b[0m\u001b[0;34m\u001b[0m\u001b[0;34m\u001b[0m\u001b[0m\n",
            "\u001b[0;32m/usr/local/lib/python3.10/dist-packages/statsmodels/base/data.py\u001b[0m in \u001b[0;36mhandle_data\u001b[0;34m(endog, exog, missing, hasconst, **kwargs)\u001b[0m\n\u001b[1;32m    673\u001b[0m \u001b[0;34m\u001b[0m\u001b[0m\n\u001b[1;32m    674\u001b[0m     \u001b[0mklass\u001b[0m \u001b[0;34m=\u001b[0m \u001b[0mhandle_data_class_factory\u001b[0m\u001b[0;34m(\u001b[0m\u001b[0mendog\u001b[0m\u001b[0;34m,\u001b[0m \u001b[0mexog\u001b[0m\u001b[0;34m)\u001b[0m\u001b[0;34m\u001b[0m\u001b[0;34m\u001b[0m\u001b[0m\n\u001b[0;32m--> 675\u001b[0;31m     return klass(endog, exog=exog, missing=missing, hasconst=hasconst,\n\u001b[0m\u001b[1;32m    676\u001b[0m                  **kwargs)\n",
            "\u001b[0;32m/usr/local/lib/python3.10/dist-packages/statsmodels/base/data.py\u001b[0m in \u001b[0;36m__init__\u001b[0;34m(self, endog, exog, missing, hasconst, **kwargs)\u001b[0m\n\u001b[1;32m     86\u001b[0m         \u001b[0mself\u001b[0m\u001b[0;34m.\u001b[0m\u001b[0mconst_idx\u001b[0m \u001b[0;34m=\u001b[0m \u001b[0;32mNone\u001b[0m\u001b[0;34m\u001b[0m\u001b[0;34m\u001b[0m\u001b[0m\n\u001b[1;32m     87\u001b[0m         \u001b[0mself\u001b[0m\u001b[0;34m.\u001b[0m\u001b[0mk_constant\u001b[0m \u001b[0;34m=\u001b[0m \u001b[0;36m0\u001b[0m\u001b[0;34m\u001b[0m\u001b[0;34m\u001b[0m\u001b[0m\n\u001b[0;32m---> 88\u001b[0;31m         \u001b[0mself\u001b[0m\u001b[0;34m.\u001b[0m\u001b[0m_handle_constant\u001b[0m\u001b[0;34m(\u001b[0m\u001b[0mhasconst\u001b[0m\u001b[0;34m)\u001b[0m\u001b[0;34m\u001b[0m\u001b[0;34m\u001b[0m\u001b[0m\n\u001b[0m\u001b[1;32m     89\u001b[0m         \u001b[0mself\u001b[0m\u001b[0;34m.\u001b[0m\u001b[0m_check_integrity\u001b[0m\u001b[0;34m(\u001b[0m\u001b[0;34m)\u001b[0m\u001b[0;34m\u001b[0m\u001b[0;34m\u001b[0m\u001b[0m\n\u001b[1;32m     90\u001b[0m         \u001b[0mself\u001b[0m\u001b[0;34m.\u001b[0m\u001b[0m_cache\u001b[0m \u001b[0;34m=\u001b[0m \u001b[0;34m{\u001b[0m\u001b[0;34m}\u001b[0m\u001b[0;34m\u001b[0m\u001b[0;34m\u001b[0m\u001b[0m\n",
            "\u001b[0;32m/usr/local/lib/python3.10/dist-packages/statsmodels/base/data.py\u001b[0m in \u001b[0;36m_handle_constant\u001b[0;34m(self, hasconst)\u001b[0m\n\u001b[1;32m    131\u001b[0m             \u001b[0mcheck_implicit\u001b[0m \u001b[0;34m=\u001b[0m \u001b[0;32mFalse\u001b[0m\u001b[0;34m\u001b[0m\u001b[0;34m\u001b[0m\u001b[0m\n\u001b[1;32m    132\u001b[0m             \u001b[0mexog_max\u001b[0m \u001b[0;34m=\u001b[0m \u001b[0mnp\u001b[0m\u001b[0;34m.\u001b[0m\u001b[0mmax\u001b[0m\u001b[0;34m(\u001b[0m\u001b[0mself\u001b[0m\u001b[0;34m.\u001b[0m\u001b[0mexog\u001b[0m\u001b[0;34m,\u001b[0m \u001b[0maxis\u001b[0m\u001b[0;34m=\u001b[0m\u001b[0;36m0\u001b[0m\u001b[0;34m)\u001b[0m\u001b[0;34m\u001b[0m\u001b[0;34m\u001b[0m\u001b[0m\n\u001b[0;32m--> 133\u001b[0;31m             \u001b[0;32mif\u001b[0m \u001b[0;32mnot\u001b[0m \u001b[0mnp\u001b[0m\u001b[0;34m.\u001b[0m\u001b[0misfinite\u001b[0m\u001b[0;34m(\u001b[0m\u001b[0mexog_max\u001b[0m\u001b[0;34m)\u001b[0m\u001b[0;34m.\u001b[0m\u001b[0mall\u001b[0m\u001b[0;34m(\u001b[0m\u001b[0;34m)\u001b[0m\u001b[0;34m:\u001b[0m\u001b[0;34m\u001b[0m\u001b[0;34m\u001b[0m\u001b[0m\n\u001b[0m\u001b[1;32m    134\u001b[0m                 \u001b[0;32mraise\u001b[0m \u001b[0mMissingDataError\u001b[0m\u001b[0;34m(\u001b[0m\u001b[0;34m'exog contains inf or nans'\u001b[0m\u001b[0;34m)\u001b[0m\u001b[0;34m\u001b[0m\u001b[0;34m\u001b[0m\u001b[0m\n\u001b[1;32m    135\u001b[0m             \u001b[0mexog_min\u001b[0m \u001b[0;34m=\u001b[0m \u001b[0mnp\u001b[0m\u001b[0;34m.\u001b[0m\u001b[0mmin\u001b[0m\u001b[0;34m(\u001b[0m\u001b[0mself\u001b[0m\u001b[0;34m.\u001b[0m\u001b[0mexog\u001b[0m\u001b[0;34m,\u001b[0m \u001b[0maxis\u001b[0m\u001b[0;34m=\u001b[0m\u001b[0;36m0\u001b[0m\u001b[0;34m)\u001b[0m\u001b[0;34m\u001b[0m\u001b[0;34m\u001b[0m\u001b[0m\n",
            "\u001b[0;31mTypeError\u001b[0m: ufunc 'isfinite' not supported for the input types, and the inputs could not be safely coerced to any supported types according to the casting rule ''safe''"
          ]
        }
      ]
    }
  ]
}