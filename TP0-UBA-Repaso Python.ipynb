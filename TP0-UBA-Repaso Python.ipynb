{
  "cells": [
    {
      "cell_type": "markdown",
      "metadata": {
        "collapsed": true,
        "id": "Dh8MkXaG-c9Y",
        "jupyter": {
          "outputs_hidden": true
        }
      },
      "source": [
        "# Big Data (UBA) - 2024\n",
        "\n",
        "## Trabajo Práctico 0 - Repaso de Programación en Python\n"
      ]
    },
    {
      "cell_type": "markdown",
      "metadata": {
        "id": "RhBlm6mZ-c9e"
      },
      "source": [
        "### Reglas de formato y presentación\n",
        "- El trabajo debe estar debidamente documentado comentado (utilizando #) para que tanto los docentes como sus compañeros puedan comprender el código fácilmente.\n",
        "\n",
        "- El mismo debe ser completado en este Jupyter Notebook y entregado como tal, es decir en un archivo .ipynb\n"
      ]
    },
    {
      "cell_type": "markdown",
      "metadata": {
        "id": "ZEjGaa4U-c9g"
      },
      "source": [
        "### Fecha de entrega:\n",
        "Viernes 11 de Octubre a las 13:00 hs"
      ]
    },
    {
      "cell_type": "markdown",
      "metadata": {
        "id": "N9TU2y7E-c9h"
      },
      "source": [
        "### Modalidad de entrega\n",
        "- Al finalizar el trabajo práctico deben hacer un último <i>commit</i> en su repositorio de GitHub llamado “Entrega final del tp”.\n",
        "- Asegurense de haber creado una carpeta llamada TP0. Este Jupyter Notebook y el correspondiente al TP0 deben estar dentro de esa carpeta.\n",
        "- También deben enviar el link de su repositorio -para que pueda ser clonado y corregido- por correo a m.n.romero91@gmail.com\n",
        "- La última versión en el repositorio es la que será evaluada. Por lo que es importante que:\n",
        "    - No envien el correo hasta no haber terminado y estar seguros de que han hecho el <i>commit y push</i> a la versión final que quieren entregar. Debido a que se pueden tomar hasta 3 días de extensión a lo largo del curso, no se corregirán sus tareas hasta no recibir el correo.\n",
        "    - No hagan nuevos <i>push</i> despues de haber entregado su versión final. Esto generaría confusión acerca de que versión es la que quieren que se les corrija."
      ]
    },
    {
      "cell_type": "markdown",
      "metadata": {
        "id": "ZXbrPraa-c9i"
      },
      "source": [
        "#### Ejercicio 1\n",
        "Este ejercicio simplemente busca repasar lo que aprendimos sobre definición de variables. Definir dos variables con un nombre combinado (al menos dos palabras), una que se pueda crear y otra que tenga un nombre inaceptable (genera error). Explicar por qué ocurre el error."
      ]
    },
    {
      "cell_type": "code",
      "execution_count": null,
      "metadata": {
        "id": "mb7PkXfN-c9j"
      },
      "outputs": [],
      "source": [
        "#Variable OK\n",
        "variableTP0 = 10\n",
        "print(f\"Valor de variableTP0: {variableTP0}\")\n",
        "\n",
        "#Variable No OK (Descomentar para gatillar error)\n",
        "#1variableTP0 = 5  # Esto generará un error porque el nombre comienza con un número"
      ]
    },
    {
      "cell_type": "markdown",
      "metadata": {
        "id": "qRpDXhz8C7u7"
      },
      "source": [
        "#### Ejercicio 2\n",
        "Importar módulos. Usando el módulo math impriman la tangente de 1. ¿Cuál es el resultado?\n",
        "Hagan este cálculo de dos formas: primero importando el módulo math y usando la función correspondiente y luego solo importando la función específica que precisan para el cálculo."
      ]
    },
    {
      "cell_type": "code",
      "execution_count": null,
      "metadata": {
        "id": "vU31QH3SC7u8"
      },
      "outputs": [],
      "source": [
        "# Caso A\n",
        "import math\n",
        "\n",
        "tang=math.tan(1)\n",
        "print(tang)\n",
        "# Importando todo el módulo 'math'\n",
        "\n",
        "# Caso B\n",
        "from math import tan\n",
        "\n",
        "tang2=tan(1)\n",
        "print(tang2)\n",
        "# Aquí solo se importó la función 'tan' para calcular la tangente, indicando que proviene del módulo 'math'\n",
        "\n",
        "# El resultado de la tangente de 1, en ambos casos, es igual 1.5574077"
      ]
    },
    {
      "cell_type": "markdown",
      "metadata": {
        "id": "GlNh0fyv-c9l"
      },
      "source": [
        "#### Ejercicio 3\n",
        "Este ejercicio trata sobre lograr el intercambio de valores entre dos variables utilizando una variable temporal para hacerlo. Las variables temporales y la sustitución de valores termina siendo útil en algunos loops. Los pasos a seguir son: (a) definir variables A y B (cuyos valores buscaremos invertir); (b) definir una variable temporal que resguarde el valor de B; (c) sustitución (asignar B igual a A y también A igual al valor original de B); (d) imprimir valores para verificar."
      ]
    },
    {
      "cell_type": "code",
      "execution_count": null,
      "metadata": {
        "id": "uWalSYFC-c9m"
      },
      "outputs": [],
      "source": [
        "# a) Definir variables A y B,\n",
        "a = 1\n",
        "b = 2\n",
        "\n",
        "# b) Definir variable temporal \"tmp\" igual a B (la variable, no el valor)\n",
        "tmp = b\n",
        "\n",
        "# c) Ahora sustituir variables: variable B igual a variable A (la variable, no el\n",
        "# valor) y viceversa.\n",
        "b = a\n",
        "a = tmp\n",
        "\n",
        "# d) Verifiquemos resultados: imprimir variables A y B\n",
        "print(f\"Valor variable A: {a}\")\n",
        "print(f\"Valor variable B: {b}\")"
      ]
    },
    {
      "cell_type": "markdown",
      "metadata": {
        "id": "wXhAaRyN-c9p"
      },
      "source": [
        "#### Ejercicio 4\n",
        "En este ejercicio se busca poner en práctica el uso de range() en un for loop.\n",
        "\n",
        "Construir un for loop usando un range(). El range debe ser entre los valores que quieran (con una diferencia mínima de 15 entre start y stop), en incrementos de 3 unidades. Dentro del loop, implementar una sentencia condicional que imprima una leyenda indicando si el input es par o impar."
      ]
    },
    {
      "cell_type": "code",
      "execution_count": null,
      "metadata": {
        "id": "_oE5sG0c-c9q"
      },
      "outputs": [],
      "source": [
        "# Resolver acá\n",
        "\n",
        "start=5\n",
        "stop=35\n",
        "\n",
        "for i in range(start, stop, 3):\n",
        "    if i % 2 == 0:\n",
        "        print(f\"{i} en número par\")\n",
        "    else:\n",
        "        print(f\"{i} es númeo impar\")\n",
        "\n",
        "# Se generó un bucle con un rango acotado entre 5 y 35 de números que crece de 3 en 3 y luego con una sentencia\n",
        "# condicional se pide que indique cuáles son pares y cuáles impares."
      ]
    },
    {
      "cell_type": "markdown",
      "metadata": {
        "id": "h3g5bXUB-c9u"
      },
      "source": [
        "#### Ejercicio 5\n",
        "Para practicar el uso de condiciones lógicas y la definición de funciones, construir una función con una sentencia condicional que verifique si un año es bisiesto o no. Para que un año sea bisiesto debe cumplir una de dos condiciones:\n",
        "\n",
        "(a) que sea divisible por 400; o\n",
        "\n",
        "(b) que sea divisible por 4 y no sea divisible por 100\n",
        "\n",
        "Notar que son dos condiciones, donde la segunda condición tiene dos componentes. Prueben la función con 3 valores para verificar que funcione."
      ]
    },
    {
      "cell_type": "code",
      "execution_count": null,
      "metadata": {
        "id": "7_MnILdz-c9v"
      },
      "outputs": [],
      "source": [
        "# Definir la función para verificar si un año es bisiesto\n",
        "def es_bisiesto(anio):\n",
        "    # Condición (a) dentro del if: El año es bisiesto si es divisible por 400\n",
        "    # Condición (b) dentro del if: El año es bisiesto si es divisible por 4 pero no por 100\n",
        "    if (anio % 400 == 0) or (anio % 4 == 0 and anio % 100 != 0):\n",
        "        return True\n",
        "    else:\n",
        "        return False\n",
        "\n",
        "# Probar la función con 3 valores distintos\n",
        "anio1 = 2020  # Bisiesto (divisible por 4 y no por 100)\n",
        "anio2 = 1900  # No es bisiesto (divisible por 4, pero también por 100 y no por 400)\n",
        "anio3 = 2000  # Bisiesto (divisible por 400)\n",
        "\n",
        "# Imprimir resultados de la prueba\n",
        "print(f\"¿El año {anio1} es bisiesto? {es_bisiesto(anio1)}\")  # True\n",
        "print(f\"¿El año {anio2} es bisiesto? {es_bisiesto(anio2)}\")  # False\n",
        "print(f\"¿El año {anio3} es bisiesto? {es_bisiesto(anio3)}\")  # True\n"
      ]
    },
    {
      "cell_type": "markdown",
      "metadata": {
        "collapsed": true,
        "id": "P3a7bJkd-c9w",
        "jupyter": {
          "outputs_hidden": true
        }
      },
      "source": [
        "#### Ejercicio 6\n",
        "Pongamos en práctica identificar el type() de cada variable. A continuación tenemos una lista con elementos de diferentes tipos. Construyan un for loop que itere sobre la lista e imprima un cartel indicando el tipo de dato u objeto que hay en cada caso."
      ]
    },
    {
      "cell_type": "code",
      "execution_count": null,
      "metadata": {
        "id": "jDf4d_Wr-c9w"
      },
      "outputs": [],
      "source": [
        "mi_lista = [10, 34.5, 99999, 'abc', [1,2,3], ('ARG', 1810), {'pob': 45}, True]"
      ]
    },
    {
      "cell_type": "code",
      "execution_count": null,
      "metadata": {
        "id": "SAJgEiNEFQAS"
      },
      "outputs": [],
      "source": [
        "# Resolver acá\n",
        "\n",
        "mi_lista = [10, 34.5, 99999, 'abc', [1,2,3], ('ARG', 1810), {'pob': 45}, True]\n",
        "\n",
        "for i in mi_lista:\n",
        "    print(f\"{i} es del tipo:\", type(i))\n",
        "\n",
        "# Se generó un bucle indicando que se imprima qué tipo de elementos son los contenidos en 'mi_lista'"
      ]
    },
    {
      "cell_type": "markdown",
      "metadata": {
        "id": "y1lncitl-c9x"
      },
      "source": [
        "#### Ejercicio 7\n",
        "Ahora definan ustedes una nueva lista, en la que los primeros cuatro elementos sean palabras (strings), el quinto elemento no sea string, y el sexto sea string. Construyan un for loop que corra por la lista y que imprima la palabra y la longitud de la misma. Que el loop contenga una sentencia condicional que imprima un cartel \"Elemento no es un string: < el elemento > | < class del elemento >\" para los casos dónde el elemento evaluado no sea string."
      ]
    },
    {
      "cell_type": "code",
      "execution_count": null,
      "metadata": {
        "id": "bFOk9Os0-c9x"
      },
      "outputs": [],
      "source": [
        "# Resolver acá\n",
        "\n",
        "# Definición de la lista\n",
        "mi_lista = [\"manzana\", \"banana\", \"naranja\", \"uva\", 42, \"pera\"]\n",
        "\n",
        "# Bucle para iterar sobre la lista\n",
        "for elemento in mi_lista:\n",
        "    if isinstance(elemento, str):  # Verificar si el elemento es un string\n",
        "        print(f'{elemento} | Longitud: {len(elemento)}')\n",
        "    else:\n",
        "        print(f'Elemento no es un string: {elemento} | {type(elemento)}')\n"
      ]
    },
    {
      "cell_type": "markdown",
      "metadata": {
        "id": "EZzvwvWFC7vA"
      },
      "source": [
        "#### Ejercicio 8"
      ]
    },
    {
      "cell_type": "markdown",
      "metadata": {
        "id": "Nsk0cioYC7vA"
      },
      "source": [
        "Construyan una función llamada 'suma' que tome una cantidad variable de parámetros y devuelva el resultado de la suma."
      ]
    },
    {
      "cell_type": "code",
      "execution_count": null,
      "metadata": {
        "id": "conX25zuC7vB"
      },
      "outputs": [],
      "source": [
        "# Resolver acá\n",
        "\n",
        "def suma(*args):\n",
        "    \"\"\"\n",
        "    Esta función toma una cantidad variable de parámetros y devuelve la suma de todos ellos.\n",
        "    \"\"\"\n",
        "    return sum(args)\n",
        "\n",
        "# Ejemplo de uso:\n",
        "resultado = suma(1, 2, 3, 4, 5)\n",
        "print(f'La suma es: {resultado}')\n"
      ]
    },
    {
      "cell_type": "markdown",
      "metadata": {
        "id": "PUpxDz72-c9x"
      },
      "source": [
        "#### Ejercicio 9\n",
        "Argentina tiene una representación legislativa proporcional en la cual la cantidad de diputados se debería ajustar según el tamaño de población de cada provincia. Otra característica de la representación legislativa del país es que hay una cantidad mínima de diputados por provincia (5). Esto genera un desbalance en la cantidad de ciudadanos por cada representante en el Congreso entre provincias.\n",
        "\n",
        "A continuación preparamos algunos ejemplos, dividiendo la población de cada provincia (según estimación para el 2022) por la cantidad de representantes en el Congreso para esa misma jurisdicción. También armamos el equivalente para el total país y una lista con los valores provinciales.\n",
        "\n",
        "En este ejercicio les pedimos que construyan un for loop que itere sobre el diccionario definido y compare cada valor provincial contra el valor de proporcionalidad directa (la variable argentina). El loop debe imprimir una leyenda que indique si la provincia está sobrerepresentada, subrepresentada o con representación proporcional. Además, queremos que el mismo loop compare los valores de las provincias sobrerepresentadas y que guarde el valor de la provincia con mayor sobrerepresentación. Luego del loop impriman este valor así podemos ver que haya funcionado.\n",
        "\n",
        "Fuente para población: https://es.wikipedia.org/wiki/Demograf%C3%ADa_de_Argentina\n",
        "\n",
        "Fuente para representantes: https://es.wikipedia.org/wiki/C%C3%A1mara_de_Diputados_de_la_Naci%C3%B3n_Argentina"
      ]
    },
    {
      "cell_type": "code",
      "execution_count": null,
      "metadata": {
        "id": "hd8Z5AHs-c9y"
      },
      "outputs": [],
      "source": [
        "# Valor de referencia: proporcionalidad\n",
        "argentina = 46044703 / 257\n",
        "\n",
        "# Creamos variables para una selección de jurisdicciones\n",
        "cordoba = 3978984 / 18\n",
        "santa_fe = 3556522 / 19\n",
        "mendoza = 2014533 / 10\n",
        "buenos_aires = 17569053 / 70\n",
        "entre_rios =  1426426 / 9\n",
        "santa_cruz = 333473 / 5\n",
        "formosa = 606041 / 5\n",
        "\n",
        "# Definimos el diccionario para iterar\n",
        "dict_provincias = {\n",
        "    \"Córdoba\": cordoba,\n",
        "    \"Santa Fe\": santa_fe,\n",
        "    \"Mendoza\": mendoza,\n",
        "    \"Buenos Aires\": buenos_aires,\n",
        "    \"Entre Ríos\": entre_rios,\n",
        "    \"Santa Cruz\": santa_cruz,\n",
        "    \"Formosa\": formosa\n",
        "}"
      ]
    },
    {
      "cell_type": "code",
      "execution_count": null,
      "metadata": {
        "id": "fsEHnxiY-c9y",
        "scrolled": true
      },
      "outputs": [],
      "source": [
        "# Resolver acá\n",
        "\n",
        "# Definir valor de tolerancia para la representacion proporcional\n",
        "tolerancia = 0.05  # 5% de tolerancia\n",
        "\n",
        "# Inicializar variables para el cálculo\n",
        "max_sobrerepresentacion = None\n",
        "prov_max_sobrerepresentada = \"\"\n",
        "\n",
        "# Bucle para comparar representación con tolerancia\n",
        "for provincia, proporcion in dict_provincias.items():\n",
        "    if proporcion > argentina * (1 + tolerancia):\n",
        "        print(f'{provincia} está subrepresentada.')\n",
        "    elif proporcion < argentina * (1 - tolerancia):\n",
        "        print(f'{provincia} está sobrerepresentada.')\n",
        "        # Actualizar el valor de mayor sobrerepresentación si corresponde\n",
        "        if max_sobrerepresentacion is None or proporcion < max_sobrerepresentacion:\n",
        "            max_sobrerepresentacion = proporcion\n",
        "            prov_max_sobrerepresentada = provincia\n",
        "    else:\n",
        "        print(f'{provincia} tiene representación proporcional.')\n",
        "\n",
        "# Imprimir la provincia con mayor sobrerepresentación\n",
        "print(f'La provincia con mayor sobrerepresentación es {prov_max_sobrerepresentada} con {max_sobrerepresentacion} ciudadanos por diputado.')\n"
      ]
    },
    {
      "cell_type": "markdown",
      "metadata": {
        "id": "GokZe5tV-c9z"
      },
      "source": [
        "#### Ejercicio 10\n",
        "Si buscáramos minimizar la subrepresentación de la provincia de Buenos Aires, ¿cuántos representantes debería tener según el Censo 2022? Usemos el mismo criterio de sub/sobrerepresentacion que en el ejercicio anterior: población sobre cantidad de representantes.\n",
        "\n",
        "Para responder esta pregunta construyan un while loop que incremente de a uno la cantidad de representantes de la Provincia hasta minimizar la subrepresentación. En cada iteración impriman un cartel que diga: \"Se agregó un representante, el total ahora es X\" dónde X es el número de representantes simulado."
      ]
    },
    {
      "cell_type": "code",
      "execution_count": null,
      "metadata": {
        "id": "x9DvuXa_-c9z"
      },
      "outputs": [],
      "source": [
        "# Estos son los valores de la provincia\n",
        "representantes_pba = 70\n",
        "poblacion2010_pba = 17594428\n",
        "\n",
        "\n",
        "# Y el valor de referencia nacional\n",
        "argentina = 46044703 / 257\n"
      ]
    },
    {
      "cell_type": "code",
      "execution_count": null,
      "metadata": {
        "id": "dHICGTgRC7vC"
      },
      "outputs": [],
      "source": [
        "# Resolver acá\n",
        "representantes_pba = 70\n",
        "poblacion2022_pba = 17594428  # Actualizado a 2022\n",
        "\n",
        "# Valor de referencia nacional\n",
        "argentina = 46044703 / 257\n",
        "\n",
        "tolerancia = 0.05  # 5% de tolerancia\n",
        "\n",
        "# Inicializar el número de representantes y la proporción actual\n",
        "proporcion_pba = poblacion2022_pba / representantes_pba\n",
        "\n",
        "# Ciclo para agregar representantes hasta minimizar la subrepresentación\n",
        "while proporcion_pba > argentina * (1 + tolerancia):\n",
        "    representantes_pba += 1\n",
        "    proporcion_pba = poblacion2022_pba / representantes_pba\n",
        "    print(f'Se agregó un representante, el total ahora es {representantes_pba}')\n",
        "\n",
        "# Imprimir el resultado final\n",
        "print(f'El número final de representantes es {representantes_pba}, con una proporción de {proporcion_pba:.2f} ciudadanos por representante.')\n",
        "print(f'Se alcanzó una representación dentro de la tolerancia del 5%.')\n"
      ]
    }
  ],
  "metadata": {
    "anaconda-cloud": {},
    "colab": {
      "name": "TP1 - Parte 1.ipynb",
      "provenance": []
    },
    "kernelspec": {
      "display_name": "Python 3 (ipykernel)",
      "language": "python",
      "name": "python3"
    },
    "language_info": {
      "codemirror_mode": {
        "name": "ipython",
        "version": 3
      },
      "file_extension": ".py",
      "mimetype": "text/x-python",
      "name": "python",
      "nbconvert_exporter": "python",
      "pygments_lexer": "ipython3",
      "version": "3.12.4"
    }
  },
  "nbformat": 4,
  "nbformat_minor": 0
}