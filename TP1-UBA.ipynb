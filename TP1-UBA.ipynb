{
  "cells": [
    {
      "cell_type": "markdown",
      "metadata": {
        "collapsed": true,
        "id": "Dh8MkXaG-c9Y",
        "jupyter": {
          "outputs_hidden": true
        }
      },
      "source": [
        "# Big Data (UBA) -  2024\n",
        "\n",
        "## Trabajo Práctico 1"
      ]
    },
    {
      "cell_type": "markdown",
      "metadata": {
        "id": "RhBlm6mZ-c9e"
      },
      "source": [
        "### Reglas de formato y presentación\n",
        "- El trabajo debe estar debidamente documentado comentado (utilizando #) para que tanto los docentes como sus compañeros puedan comprender el código fácilmente.\n",
        "\n",
        "- El mismo debe ser completado en este Jupyter Notebook y entregado como tal, es decir en un archivo .ipynb\n"
      ]
    },
    {
      "cell_type": "markdown",
      "metadata": {
        "id": "ZEjGaa4U-c9g"
      },
      "source": [
        "### Fecha de entrega:\n",
        "Viernes 25 de octubre a las 13:00 hs"
      ]
    },
    {
      "cell_type": "markdown",
      "metadata": {
        "id": "N9TU2y7E-c9h"
      },
      "source": [
        "### Modalidad de entrega\n",
        "- Al finalizar el trabajo práctico deben hacer un último <i>commit</i> en su repositorio de GitHub llamado “Entrega final del tp”.\n",
        "- Asegurense de haber creado una carpeta llamada TP1. Este Jupyter Notebook y el correspondiente al TP1 deben estar dentro de esa carpeta.\n",
        "- También deben enviar el link de su repositorio -para que pueda ser clonado y corregido- a mi correo m.n.romero91@gmail.com\n",
        "- La última versión en el repositorio es la que será evaluada. Por lo que es importante que:\n",
        "    - No envien el correo hasta no haber terminado y estar seguros de que han hecho el <i>commit y push</i> a la versión final que quieren entregar. Debido a que se pueden tomar hasta 3 días de extensión a lo largo del curso, no se corregirán sus tareas hasta no recibir el correo.\n",
        "    - No hagan nuevos <i>push</i> despues de haber entregado su versión final. Esto generaría confusión acerca de que versión es la que quieren que se les corrija."
      ]
    },
    {
      "cell_type": "markdown",
      "metadata": {
        "id": "dM0Uz8Eg6TgX"
      },
      "source": [
        "### Parte A"
      ]
    },
    {
      "cell_type": "markdown",
      "metadata": {
        "id": "ZXbrPraa-c9i"
      },
      "source": [
        "#### Ejercicio 1\n",
        "Usando la API de Mercado Libre, obtener los ítems de una consulta de búsqueda. Pueden buscar cualquier producto de su interés."
      ]
    },
    {
      "cell_type": "code",
      "execution_count": null,
      "metadata": {
        "colab": {
          "base_uri": "https://localhost:8080/"
        },
        "id": "WxBCIOC46TgX",
        "outputId": "4c104faf-6692-4da3-95c5-20f1784beeb6"
      },
      "outputs": [
        {
          "output_type": "stream",
          "name": "stdout",
          "text": [
            "Primer resultado encontrado para 'aire acondicionado':\n",
            "Nombre: Aire Acondicionado Midea Portátil  Frío/calor 3000 Frigorías  Blanco 220v Mpdh-12-ar1f\n",
            "Precio: 709999 ARS\n",
            "Link: https://www.mercadolibre.com.ar/aire-acondicionado-midea-portatil-friocalor-3000-frigorias-blanco-220v-mpdh-12-ar1f/p/MLA21275189#wid=MLA1451174345&sid=unknown\n",
            "Descripción del artículo: Climatizar tus espacios a lo largo del año es sin duda algo importante para tu comodidad y la de tus seres queridos. Contar con un aire acondicionado con función frío/calor es la mejor decisión. Con este aire Midea conseguí una mejor relación costo-beneficio. \n",
            "\n",
            "Diseño adecuado a tus espacios\n",
            "Práctico y de fácil traslado, el aire acondicionado portátil reúne todo en un aparato del tamaño de una valija. Vas a poder enfriar pequeñas áreas sin gastar tanta energía, es de fácil instalación y útil en lugares donde no se puede colocar un split o aire central.\n",
            "\n",
            "Reducción de humedad\n",
            "El deshumidificador absorbe el agua del aire y disminuye la molesta humedad, creando un ambiente confortable y de calidad.\n",
            "\n",
            "Programá de acuerdo a tus necesidades\n",
            "Cuando las personas descansan su temperatura corporal baja gradualmente. Por eso, este aire cuenta con la función sleep, que hace que la temperatura del ambiente aumente a medida que pasa el tiempo. No tendrás que levantarte a apagarlo y podrás disfrutar de un sueño placentero.\n"
          ]
        }
      ],
      "source": [
        "import requests\n",
        "\n",
        "# Parámetros de búsqueda\n",
        "buscar = \"aire acondicionado\"\n",
        "url = \"https://api.mercadolibre.com/sites/{}/search?q={}\".format(\"MLA\", buscar.replace(\" \", \"%20\"))\n",
        "\n",
        "# Hacemos el pedido o request y obtenemos la respuesta\n",
        "response = requests.get(url)\n",
        "\n",
        "# Verificamos si la solicitud fue exitosa\n",
        "if response.status_code == 200:\n",
        "    # Guardamos el resultado en un diccionario (json)\n",
        "    data = response.json()\n",
        "\n",
        "    # Verificamos si hay resultados en la búsqueda\n",
        "    if len(data['results']) > 0:\n",
        "        # Mostramos el precio y el enlace del primer resultado\n",
        "        primer_resultado = data['results'][0]\n",
        "        print(f\"Primer resultado encontrado para '{buscar}':\")\n",
        "        print(f\"Nombre: {primer_resultado['title']}\")\n",
        "        print(f\"Precio: {primer_resultado['price']} ARS\")\n",
        "        print(f\"Link: {primer_resultado['permalink']}\")\n",
        "\n",
        "        # Obtenemos la descripción detallada del primer ítem\n",
        "        item_id = primer_resultado['id']\n",
        "        url_descripcion = f\"https://api.mercadolibre.com/items/{item_id}/description\"\n",
        "        response2 = requests.get(url_descripcion)\n",
        "\n",
        "        # Si se obtiene la descripción, la mostramos\n",
        "        if response2.status_code == 200:\n",
        "            descripcion = response2.json().get('plain_text', 'No hay descripción disponible.')\n",
        "            print(f\"Descripción del artículo: {descripcion}\")\n",
        "        else:\n",
        "            print(\"No se pudo obtener la descripción del artículo.\")\n",
        "    else:\n",
        "        print(\"No se encontraron resultados.\")\n",
        "else:\n",
        "    print(f\"Error al hacer la solicitud: {response.status_code}\")\n",
        "\n"
      ]
    },
    {
      "cell_type": "markdown",
      "metadata": {
        "id": "1RJY_6ww6TgY"
      },
      "source": [
        "#### Ejercicio 2\n",
        "Guarden los precios de los ítems obtenidos en un dataframe y calculen el precio promedio, el mínimo y el máximo."
      ]
    },
    {
      "cell_type": "code",
      "execution_count": null,
      "metadata": {
        "id": "o4yaxgIg6TgY",
        "colab": {
          "base_uri": "https://localhost:8080/"
        },
        "outputId": "a813534c-5199-4754-bb25-87fe9ea0c7e1"
      },
      "outputs": [
        {
          "output_type": "stream",
          "name": "stdout",
          "text": [
            "DataFrame de ítems:\n",
            "                                               Nombre      Precio\n",
            "0   Aire Acondicionado Midea Portátil  Frío/calor ...   709999.00\n",
            "1   Aire Acondicionado Sansei Split  Frio Calor 28...   679999.00\n",
            "2   Aire Acondicionado Samsung Digital Inverter  S...   849999.00\n",
            "3   Aire Acondicionado Split Frio Calor Philco Phs...   767999.00\n",
            "4   Aire Acondicionado Daewoo  Split  Frío/calor 3...   767608.55\n",
            "5   Aire Split LG Art Cool Inverter Smart Wifi 600...  1909699.00\n",
            "6   Aire Acondicionado Samsung  Split Inverter  Fr...  1444499.00\n",
            "7   Aire Acondicionado Hyundai  Split  Frío/calor ...   973839.00\n",
            "8   Aire Acondicionado Bgh Silent Air  Split  Frío...   888099.17\n",
            "9   Aire Acondicionado Philco Eco Plus  Split Inve...   962179.00\n",
            "10  Aire Acondicionado Hisense Split 2924 Fr As12h...   840000.00\n",
            "11  Aire Acondicionado Split Inverter Frio Calor S...   918999.00\n",
            "12  Aire Acondicionado Portatil Kanji Kjh-aa3650fc...   629498.00\n",
            "13  Aire Acondicionado Split Philco Frío Y Calor 2...   783782.00\n",
            "14  Bgh Silent Air Bs35wccr Aire Acondicionado Spl...  1024999.00\n",
            "15  Aire Acondicionado Bgh Silent Air  Split Inver...  1244999.00\n",
            "16  LG Artcool Inverter Thinq S4-w18klrpa Aire Aco...  1984499.00\n",
            "17  Aire Acondicionado Comfee Split Frío/calor 560...  1364999.00\n",
            "18  Aire Acondicionado Hyundai  Split  Frío/calor ...  1633189.00\n",
            "19  Aire Acondicionado Split Siam Frío Calor 3350w...   774999.00\n",
            "20  Aire Acondicionado Portátil Philco 3010 Frigor...   854199.00\n",
            "21  Aire Acondicionado Portatil Hisense Frio Calor...   685599.00\n",
            "22  Aire Acondicionado Split Frío E Calor Bgh 5200...  1101835.64\n",
            "23  Aire Acondicionado Split 8000w 6880 Fg Frío Ca...  1545399.00\n",
            "24  Aire Acondicionado Philco  Split  Frío/calor 3...   750999.00\n",
            "25  Aire Acondicionado Bgh Silent Air  Split  Frío...   783782.00\n",
            "26  Aire Acondicionado Inverter Eco Cooling 3550w ...   985999.42\n",
            "27  Split Hitachi 3200w Frio/ Calor Inverter Blanc...  1110999.00\n",
            "28  Aire Acondicionado Siam  Split Inverter  Frío/...   908299.00\n",
            "29  Aire Acondicionado Split 4420kl Fc Midea Carri...   979799.00\n",
            "30  Aire Acondicionado Electra Trend Inverter  Spl...   799999.00\n",
            "31  Aire Acondicionado Midea  Split Inverter  Frío...  1224622.11\n",
            "32  Aire Acondicionado Surrey  Portátil  Frío/calo...   799999.00\n",
            "33  Aire Acondicionado Bgh Silent Air Split Frío/c...   826199.19\n",
            "34  Kanji Home Kjhaa2900fcbc Aire Acondicionado Po...   580748.00\n",
            "35  Aire Acondicionado Hitachi Eco  Split  Frío/ca...   784999.00\n",
            "36  Split Digital Inverter Samsung 4770w Frío Calo...  1455999.00\n",
            "37  Aire Acondicionado Bgh  Split Inverter  Frío/c...  1679999.00\n",
            "38  Philco Phs25ha3an Aire Acondicionado Split Frí...   764899.00\n",
            "39  Aire Acondicionado Split Tcl Taca-2600fcsa/el2...   755999.00\n",
            "40  Aire Acondicionado Portatil Kanjihome Aa2650fc...   592226.10\n",
            "41  Split Rca 3300 W Frio/calor Rel3300fc Blanco E...   849999.00\n",
            "42  Bgh Aire Acondicionado Silent Air Bs65wccr Col...  1499399.00\n",
            "43  Aire Acondicionado Surrey Inverter 3096w 553ni...  1144828.00\n",
            "44  Aire Acondicionado Inverter LG Dualcool Wifi F...  1988828.00\n",
            "45  Aire Acondicionado Surrey Portátil Uno Fc 3010...   995999.00\n",
            "46  Aire Acondicionado Split Electra Trend F/c On/...  1245326.00\n",
            "47  Aire Acondicionado Philco De Ventana Frio 2838...   835399.00\n",
            "48  Aire Acondicionado Inverter LG S4-w24k2rpe Art...  2764428.00\n",
            "49  Aire Acondicionado Split Electra Entrdi35tc 35...   973199.00\n",
            "\n",
            "Precio promedio: $1068478\n",
            "Precio mínimo: $580748\n",
            "Precio máximo: $2764428\n"
          ]
        }
      ],
      "source": [
        "import pandas as pd\n",
        "\n",
        "# Obtenemos los ítems encontrados\n",
        "items = data.get(\"results\", [])\n",
        "\n",
        "# Extraemos los precios y títulos en un DataFrame\n",
        "precios = []\n",
        "nombres = []\n",
        "\n",
        "for item in items:\n",
        "  precios.append(item['price'])\n",
        "  nombres.append(item['title'])\n",
        "\n",
        "Aires_df = pd.DataFrame({'Nombre': nombres, 'Precio': precios})\n",
        "\n",
        "# Calculamos el precio promedio, mínimo y máximo\n",
        "precio_promedio = Aires_df['Precio'].mean()\n",
        "precio_minimo = Aires_df['Precio'].min()\n",
        "precio_maximo = Aires_df['Precio'].max()\n",
        "\n",
        "# Imprimimos los resultados\n",
        "print(\"DataFrame de ítems:\")\n",
        "print(Aires_df)\n",
        "print(\"\\nPrecio promedio: ${:.0f}\".format(precio_promedio))\n",
        "print(\"Precio mínimo: ${:.0f}\".format(precio_minimo))\n",
        "print(\"Precio máximo: ${:.0f}\".format(precio_maximo))\n"
      ]
    },
    {
      "cell_type": "markdown",
      "metadata": {
        "id": "XJ1QBdse6TgY"
      },
      "source": [
        "#### Ejercicio 3\n",
        "Armen un histograma de los precios. ¿Ven algún <i>outlier<i>?\n",
        "Nota: pueden usar la librería de Matplotlib o la de Pandas."
      ]
    },
    {
      "cell_type": "code",
      "execution_count": null,
      "metadata": {
        "id": "SOc9UuXb6TgY",
        "colab": {
          "base_uri": "https://localhost:8080/",
          "height": 668
        },
        "outputId": "389a53a6-089c-465e-f04d-3878248f6717"
      },
      "outputs": [
        {
          "output_type": "display_data",
          "data": {
            "text/plain": [
              "<Figure size 1000x600 with 1 Axes>"
            ],
            "image/png": "[encoded data removed]"
          },
          "metadata": {}
        },
        {
          "output_type": "stream",
          "name": "stdout",
          "text": [
            "\n",
            "Outliers encontrados:\n",
            "                                               Nombre     Precio\n",
            "16  LG Artcool Inverter Thinq S4-w18klrpa Aire Aco...  1984499.0\n",
            "44  Aire Acondicionado Inverter LG Dualcool Wifi F...  1988828.0\n",
            "48  Aire Acondicionado Inverter LG S4-w24k2rpe Art...  2764428.0\n"
          ]
        }
      ],
      "source": [
        "import matplotlib.pyplot as plt\n",
        "\n",
        "# Histograma de precios\n",
        "plt.figure(figsize=(10, 6))\n",
        "plt.hist(Aires_df['Precio'], bins=20, color='skyblue', edgecolor='black')\n",
        "plt.title('Histograma de Precios')\n",
        "plt.xlabel('Precio')\n",
        "plt.ylabel('Frecuencia')\n",
        "plt.grid(axis='y')\n",
        "#plt.axvline(precio_promedio, color='red', linestyle='dashed', linewidth=1, label='Precio Promedio')\n",
        "#plt.legend()\n",
        "plt.show()\n",
        "\n",
        "# Detección de outliers\n",
        "Q1 = Aires_df['Precio'].quantile(0.25)\n",
        "Q3 = Aires_df['Precio'].quantile(0.75)\n",
        "IQR = Q3 - Q1\n",
        "limites_superiores = Q3 + 1.5 * IQR\n",
        "limites_inferiores = Q1 - 1.5 * IQR\n",
        "# Una vez definido en rango intercuartílico, se determinan outliers aquellos valores por encima o por debajo de los límites\n",
        "# superior e inferior, respectivamente.\n",
        "\n",
        "outliers = Aires_df[(Aires_df['Precio'] < limites_inferiores) | (Aires_df['Precio'] > limites_superiores)]\n",
        "\n",
        "if not outliers.empty:\n",
        "  print(\"\\nOutliers encontrados:\")\n",
        "  print(outliers)\n",
        "else:\n",
        "  print(\"\\nNo se encontraron outliers.\")\n"
      ]
    },
    {
      "cell_type": "markdown",
      "metadata": {
        "id": "oQg9Pj0g6TgY"
      },
      "source": [
        "#### Ejercicio 4\n",
        "Realicen alguna consulta adicional utilizando la API de Mercado Libre (debe ser alguna consulta que no se haya visto en clase. Por ejemplo, obtener los ítems de un vendedor en particular, obtener los productos de una categoría u otros). Analicen los resultados y comenten uno o dos que les parezcan interesantes (por ejemplo, precios promedio de los productos de un vendedor, diferencia entre el precio original y actual, si acepta mercado pago para la compra de productos, etc.)"
      ]
    },
    {
      "cell_type": "code",
      "execution_count": null,
      "metadata": {
        "id": "KyTK1Ctl6TgY"
      },
      "outputs": [],
      "source": [
        "# Resolver acá\n"
      ]
    },
    {
      "cell_type": "markdown",
      "metadata": {
        "id": "Np7yvLOQ6TgY"
      },
      "source": [
        "### Parte B"
      ]
    },
    {
      "cell_type": "markdown",
      "metadata": {
        "id": "pQOhBwQo6TgZ"
      },
      "source": [
        "#### Ejercicio 5\n",
        "De la página de noticias del [diario La Nación](https://www.lanacion.com.ar/), utilicen herramientas de web scraping para obtener los links de las noticias de la portada. Guarden los links obtenidos en un dataframe y expórtenlo a un archivo de excel.\n",
        "\n",
        "Nota 1: es posible que logren obtener los links a las noticias sin el dominio: \"https://www.lanacion.com.ar/\". De ser así, concatenen el dominio a la ruta del link obtenido, tal que se obtenga un link al que se pueda acceder. Es decir, que las cadenas de caracteres finales tendrán la forma: https://www.lanacion.com.ar/*texto_obtenido*)\n",
        "\n",
        "Nota 2: junto con su entrega, adjunten una captura de la página de noticias al momento de correr su código. Eso servirá al momento de la corrección para verificar que los links obtenidos hacen referencia a las noticias de ese día y hora."
      ]
    },
    {
      "cell_type": "code",
      "source": [
        "pip install requests beautifulsoup4 pandas openpyxl"
      ],
      "metadata": {
        "colab": {
          "base_uri": "https://localhost:8080/"
        },
        "id": "KKqQOhSI8zgm",
        "outputId": "b0a74450-3dae-4632-af8b-3974bde820dd"
      },
      "execution_count": null,
      "outputs": [
        {
          "output_type": "stream",
          "name": "stdout",
          "text": [
            "Requirement already satisfied: requests in /usr/local/lib/python3.10/dist-packages (2.32.3)\n",
            "Requirement already satisfied: beautifulsoup4 in /usr/local/lib/python3.10/dist-packages (4.12.3)\n",
            "Requirement already satisfied: pandas in /usr/local/lib/python3.10/dist-packages (2.2.2)\n",
            "Requirement already satisfied: openpyxl in /usr/local/lib/python3.10/dist-packages (3.1.5)\n",
            "Requirement already satisfied: charset-normalizer<4,>=2 in /usr/local/lib/python3.10/dist-packages (from requests) (3.4.0)\n",
            "Requirement already satisfied: idna<4,>=2.5 in /usr/local/lib/python3.10/dist-packages (from requests) (3.10)\n",
            "Requirement already satisfied: urllib3<3,>=1.21.1 in /usr/local/lib/python3.10/dist-packages (from requests) (2.2.3)\n",
            "Requirement already satisfied: certifi>=2017.4.17 in /usr/local/lib/python3.10/dist-packages (from requests) (2024.8.30)\n",
            "Requirement already satisfied: soupsieve>1.2 in /usr/local/lib/python3.10/dist-packages (from beautifulsoup4) (2.6)\n",
            "Requirement already satisfied: numpy>=1.22.4 in /usr/local/lib/python3.10/dist-packages (from pandas) (1.26.4)\n",
            "Requirement already satisfied: python-dateutil>=2.8.2 in /usr/local/lib/python3.10/dist-packages (from pandas) (2.8.2)\n",
            "Requirement already satisfied: pytz>=2020.1 in /usr/local/lib/python3.10/dist-packages (from pandas) (2024.2)\n",
            "Requirement already satisfied: tzdata>=2022.7 in /usr/local/lib/python3.10/dist-packages (from pandas) (2024.2)\n",
            "Requirement already satisfied: et-xmlfile in /usr/local/lib/python3.10/dist-packages (from openpyxl) (1.1.0)\n",
            "Requirement already satisfied: six>=1.5 in /usr/local/lib/python3.10/dist-packages (from python-dateutil>=2.8.2->pandas) (1.16.0)\n"
          ]
        }
      ]
    },
    {
      "cell_type": "code",
      "execution_count": null,
      "metadata": {
        "colab": {
          "base_uri": "https://localhost:8080/",
          "height": 35
        },
        "id": "YPTTNuZ36TgZ",
        "outputId": "e3742cda-aa49-4763-bfe0-0f7c2c58f453"
      },
      "outputs": [
        {
          "output_type": "display_data",
          "data": {
            "text/plain": [
              "<IPython.core.display.Javascript object>"
            ],
            "application/javascript": [
              "\n",
              "    async function download(id, filename, size) {\n",
              "      if (!google.colab.kernel.accessAllowed) {\n",
              "        return;\n",
              "      }\n",
              "      const div = document.createElement('div');\n",
              "      const label = document.createElement('label');\n",
              "      label.textContent = `Downloading \"${filename}\": `;\n",
              "      div.appendChild(label);\n",
              "      const progress = document.createElement('progress');\n",
              "      progress.max = size;\n",
              "      div.appendChild(progress);\n",
              "      document.body.appendChild(div);\n",
              "\n",
              "      const buffers = [];\n",
              "      let downloaded = 0;\n",
              "\n",
              "      const channel = await google.colab.kernel.comms.open(id);\n",
              "      // Send a message to notify the kernel that we're ready.\n",
              "      channel.send({})\n",
              "\n",
              "      for await (const message of channel.messages) {\n",
              "        // Send a message to notify the kernel that we're ready.\n",
              "        channel.send({})\n",
              "        if (message.buffers) {\n",
              "          for (const buffer of message.buffers) {\n",
              "            buffers.push(buffer);\n",
              "            downloaded += buffer.byteLength;\n",
              "            progress.value = downloaded;\n",
              "          }\n",
              "        }\n",
              "      }\n",
              "      const blob = new Blob(buffers, {type: 'application/binary'});\n",
              "      const a = document.createElement('a');\n",
              "      a.href = window.URL.createObjectURL(blob);\n",
              "      a.download = filename;\n",
              "      div.appendChild(a);\n",
              "      a.click();\n",
              "      div.remove();\n",
              "    }\n",
              "  "
            ]
          },
          "metadata": {}
        },
        {
          "output_type": "display_data",
          "data": {
            "text/plain": [
              "<IPython.core.display.Javascript object>"
            ],
            "application/javascript": [
              "download(\"download_c284789f-890c-4949-bd7e-3050b2e140ec\", \"lanacion_news_links_2024-10-24_00-58-27.xlsx\", 12644)"
            ]
          },
          "metadata": {}
        },
        {
          "output_type": "stream",
          "name": "stdout",
          "text": [
            "Links de noticias extraídos y guardados en lanacion_news_links_2024-10-24_00-58-27.xlsx\n"
          ]
        }
      ],
      "source": [
        "import requests\n",
        "from bs4 import BeautifulSoup\n",
        "import pandas as pd\n",
        "import datetime\n",
        "from google.colab import files\n",
        "\n",
        "# URL de la página principal de La Nación\n",
        "url = \"https://www.lanacion.com.ar/\"\n",
        "\n",
        "# Realizar la solicitud GET\n",
        "response = requests.get(url)\n",
        "\n",
        "# Comprobar que la solicitud fue exitosa\n",
        "if response.status_code == 200:\n",
        "    soup = BeautifulSoup(response.content, \"html.parser\")\n",
        "\n",
        "    # Encontrar todos los elementos 'a' que contengan los enlaces con 'nid'\n",
        "    links = []\n",
        "    categories = []\n",
        "    current_datetime = datetime.datetime.now().strftime(\"%Y-%m-%d %H:%M:%S\")\n",
        "\n",
        "    for link in soup.find_all('a', href=True):\n",
        "        href = link['href']\n",
        "        # Filtrar solo los enlaces que contienen 'nid'\n",
        "        if 'nid' in href:\n",
        "            if href.startswith('/'):\n",
        "                full_link = f\"https://www.lanacion.com.ar{href}\"\n",
        "            elif href.startswith(\"https://www.lanacion.com.ar\"):\n",
        "                full_link = href\n",
        "            else:\n",
        "                continue\n",
        "\n",
        "            # Identificar la categoría a partir de la URL\n",
        "            if '/politica' in href:\n",
        "                category = 'Política'\n",
        "            elif '/economia' in href:\n",
        "                category = 'Economía'\n",
        "            elif '/deportes' in href:\n",
        "                category = 'Deportes'\n",
        "            elif '/espectaculos' in href:\n",
        "                category = 'Espectáculos'\n",
        "            elif '/sociedad' in href:\n",
        "                category = 'Sociedad'\n",
        "            elif '/internacional' in href:\n",
        "                category = 'Internacional'\n",
        "            else:\n",
        "                category = 'Otros'\n",
        "\n",
        "            # Agregar los enlaces y categorías a las listas\n",
        "            links.append((full_link, category, current_datetime))\n",
        "\n",
        "    # Crear un DataFrame con los links y las categorías\n",
        "    df = pd.DataFrame(links, columns=[\"Link\", \"Categoría\", \"Fecha y Hora de Obtención\"])\n",
        "\n",
        "    # Exportar a Excel\n",
        "    timestamp = datetime.datetime.now().strftime(\"%Y-%m-%d_%H-%M-%S\")\n",
        "    output_filename = f\"lanacion_news_links_{timestamp}.xlsx\"\n",
        "    df.to_excel(output_filename, index=False)\n",
        "\n",
        "    # Descargar el archivo en Colab\n",
        "    files.download(output_filename)\n",
        "\n",
        "    print(f\"Links de noticias extraídos y guardados en {output_filename}\")\n",
        "\n",
        "else:\n",
        "    print(f\"Error al acceder a la página. Código de estado: {response.status_code}\")\n",
        "\n",
        "\n"
      ]
    }
  ],
  "metadata": {
    "anaconda-cloud": {},
    "colab": {
      "provenance": []
    },
    "kernelspec": {
      "display_name": "Python 3 (ipykernel)",
      "language": "python",
      "name": "python3"
    },
    "language_info": {
      "codemirror_mode": {
        "name": "ipython",
        "version": 3
      },
      "file_extension": ".py",
      "mimetype": "text/x-python",
      "name": "python",
      "nbconvert_exporter": "python",
      "pygments_lexer": "ipython3",
      "version": "3.12.4"
    }
  },
  "nbformat": 4,
  "nbformat_minor": 0
}